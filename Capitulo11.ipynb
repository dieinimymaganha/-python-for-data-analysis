{
 "cells": [
  {
   "cell_type": "code",
   "execution_count": 2,
   "metadata": {},
   "outputs": [],
   "source": [
    "from datetime import datetime"
   ]
  },
  {
   "cell_type": "code",
   "execution_count": 3,
   "metadata": {},
   "outputs": [],
   "source": [
    "now = datetime.now()"
   ]
  },
  {
   "cell_type": "code",
   "execution_count": 4,
   "metadata": {},
   "outputs": [
    {
     "data": {
      "text/plain": [
       "datetime.datetime(2019, 7, 8, 15, 26, 29, 593471)"
      ]
     },
     "execution_count": 4,
     "metadata": {},
     "output_type": "execute_result"
    }
   ],
   "source": [
    "now"
   ]
  },
  {
   "cell_type": "markdown",
   "metadata": {},
   "source": [
    "### Tipos de dados e ferramentas para data e hora"
   ]
  },
  {
   "cell_type": "code",
   "execution_count": 5,
   "metadata": {},
   "outputs": [
    {
     "data": {
      "text/plain": [
       "(2019, 7, 8)"
      ]
     },
     "execution_count": 5,
     "metadata": {},
     "output_type": "execute_result"
    }
   ],
   "source": [
    "now.year, now.month, now.day"
   ]
  },
  {
   "cell_type": "code",
   "execution_count": 6,
   "metadata": {},
   "outputs": [],
   "source": [
    "delta = datetime(2011, 1, 7) - datetime(2008, 6, 24, 8, 15)"
   ]
  },
  {
   "cell_type": "code",
   "execution_count": 7,
   "metadata": {},
   "outputs": [
    {
     "data": {
      "text/plain": [
       "datetime.timedelta(days=926, seconds=56700)"
      ]
     },
     "execution_count": 7,
     "metadata": {},
     "output_type": "execute_result"
    }
   ],
   "source": [
    "delta"
   ]
  },
  {
   "cell_type": "code",
   "execution_count": 8,
   "metadata": {},
   "outputs": [
    {
     "data": {
      "text/plain": [
       "926"
      ]
     },
     "execution_count": 8,
     "metadata": {},
     "output_type": "execute_result"
    }
   ],
   "source": [
    "delta.days"
   ]
  },
  {
   "cell_type": "code",
   "execution_count": 9,
   "metadata": {},
   "outputs": [
    {
     "data": {
      "text/plain": [
       "56700"
      ]
     },
     "execution_count": 9,
     "metadata": {},
     "output_type": "execute_result"
    }
   ],
   "source": [
    "delta.seconds"
   ]
  },
  {
   "cell_type": "code",
   "execution_count": 10,
   "metadata": {},
   "outputs": [],
   "source": [
    "from datetime import timedelta"
   ]
  },
  {
   "cell_type": "code",
   "execution_count": 11,
   "metadata": {},
   "outputs": [],
   "source": [
    "start = datetime(2011, 1, 7)"
   ]
  },
  {
   "cell_type": "code",
   "execution_count": 12,
   "metadata": {},
   "outputs": [
    {
     "data": {
      "text/plain": [
       "datetime.datetime(2011, 1, 19, 0, 0)"
      ]
     },
     "execution_count": 12,
     "metadata": {},
     "output_type": "execute_result"
    }
   ],
   "source": [
    "start + timedelta(12)"
   ]
  },
  {
   "cell_type": "code",
   "execution_count": 13,
   "metadata": {},
   "outputs": [
    {
     "data": {
      "text/plain": [
       "datetime.datetime(2011, 1, 19, 0, 0)"
      ]
     },
     "execution_count": 13,
     "metadata": {},
     "output_type": "execute_result"
    }
   ],
   "source": [
    "datetime(2011, 1, 19, 0, 0)"
   ]
  },
  {
   "cell_type": "code",
   "execution_count": 14,
   "metadata": {},
   "outputs": [
    {
     "data": {
      "text/plain": [
       "datetime.datetime(2010, 12, 14, 0, 0)"
      ]
     },
     "execution_count": 14,
     "metadata": {},
     "output_type": "execute_result"
    }
   ],
   "source": [
    "start - 2 * timedelta(12)"
   ]
  },
  {
   "cell_type": "markdown",
   "metadata": {},
   "source": [
    "### Conversão entre string e datetime"
   ]
  },
  {
   "cell_type": "code",
   "execution_count": 15,
   "metadata": {},
   "outputs": [],
   "source": [
    "stamp = datetime(2011, 1, 3)"
   ]
  },
  {
   "cell_type": "code",
   "execution_count": 16,
   "metadata": {},
   "outputs": [
    {
     "data": {
      "text/plain": [
       "'2011-01-03 00:00:00'"
      ]
     },
     "execution_count": 16,
     "metadata": {},
     "output_type": "execute_result"
    }
   ],
   "source": [
    "str(stamp)"
   ]
  },
  {
   "cell_type": "code",
   "execution_count": 17,
   "metadata": {},
   "outputs": [
    {
     "data": {
      "text/plain": [
       "'2011-01-03'"
      ]
     },
     "execution_count": 17,
     "metadata": {},
     "output_type": "execute_result"
    }
   ],
   "source": [
    "stamp.strftime('%Y-%m-%d')"
   ]
  },
  {
   "cell_type": "code",
   "execution_count": 18,
   "metadata": {},
   "outputs": [
    {
     "data": {
      "text/plain": [
       "'03-01-2011'"
      ]
     },
     "execution_count": 18,
     "metadata": {},
     "output_type": "execute_result"
    }
   ],
   "source": [
    "stamp.strftime('%d-%m-%Y')"
   ]
  },
  {
   "cell_type": "code",
   "execution_count": 19,
   "metadata": {},
   "outputs": [],
   "source": [
    "value = '2011-01-03'"
   ]
  },
  {
   "cell_type": "code",
   "execution_count": 20,
   "metadata": {},
   "outputs": [
    {
     "data": {
      "text/plain": [
       "datetime.datetime(2011, 1, 3, 0, 0)"
      ]
     },
     "execution_count": 20,
     "metadata": {},
     "output_type": "execute_result"
    }
   ],
   "source": [
    "datetime.strptime(value, '%Y-%m-%d')"
   ]
  },
  {
   "cell_type": "code",
   "execution_count": 21,
   "metadata": {},
   "outputs": [],
   "source": [
    "datestrs = ['7/6/2011', '8/6/2011']"
   ]
  },
  {
   "cell_type": "code",
   "execution_count": 22,
   "metadata": {},
   "outputs": [
    {
     "data": {
      "text/plain": [
       "[datetime.datetime(2011, 7, 6, 0, 0), datetime.datetime(2011, 8, 6, 0, 0)]"
      ]
     },
     "execution_count": 22,
     "metadata": {},
     "output_type": "execute_result"
    }
   ],
   "source": [
    "[datetime.strptime(x, '%m/%d/%Y') for x in datestrs]"
   ]
  },
  {
   "cell_type": "code",
   "execution_count": 23,
   "metadata": {},
   "outputs": [],
   "source": [
    "from dateutil.parser import parse"
   ]
  },
  {
   "cell_type": "code",
   "execution_count": 24,
   "metadata": {},
   "outputs": [
    {
     "data": {
      "text/plain": [
       "datetime.datetime(2011, 1, 3, 0, 0)"
      ]
     },
     "execution_count": 24,
     "metadata": {},
     "output_type": "execute_result"
    }
   ],
   "source": [
    "parse('2011-01-03') # Funciona com qualquer formato de data"
   ]
  },
  {
   "cell_type": "markdown",
   "metadata": {},
   "source": [
    "###### dateutil é capaz de fazer parse da maior parte das representações de data legiveis aos seres humanos"
   ]
  },
  {
   "cell_type": "code",
   "execution_count": 25,
   "metadata": {},
   "outputs": [
    {
     "data": {
      "text/plain": [
       "datetime.datetime(1997, 1, 31, 22, 45)"
      ]
     },
     "execution_count": 25,
     "metadata": {},
     "output_type": "execute_result"
    }
   ],
   "source": [
    "parse('Jan 31, 1997 10:45 PM')"
   ]
  },
  {
   "cell_type": "code",
   "execution_count": 26,
   "metadata": {},
   "outputs": [
    {
     "data": {
      "text/plain": [
       "datetime.datetime(2011, 12, 6, 0, 0)"
      ]
     },
     "execution_count": 26,
     "metadata": {},
     "output_type": "execute_result"
    }
   ],
   "source": [
    "parse('6/12/2011', dayfirst=True)"
   ]
  },
  {
   "cell_type": "code",
   "execution_count": 27,
   "metadata": {},
   "outputs": [],
   "source": [
    "datestrs = ['2011-07-06 12:00:00', '2011-08-06 00:00:00']"
   ]
  },
  {
   "cell_type": "code",
   "execution_count": 28,
   "metadata": {},
   "outputs": [],
   "source": [
    "import pandas as pd\n",
    "import numpy as np\n",
    "from pandas import Series, DataFrame\n",
    "from numpy import nan as NA"
   ]
  },
  {
   "cell_type": "code",
   "execution_count": 29,
   "metadata": {},
   "outputs": [
    {
     "data": {
      "text/plain": [
       "DatetimeIndex(['2011-07-06 12:00:00', '2011-08-06 00:00:00'], dtype='datetime64[ns]', freq=None)"
      ]
     },
     "execution_count": 29,
     "metadata": {},
     "output_type": "execute_result"
    }
   ],
   "source": [
    "pd.to_datetime(datestrs)"
   ]
  },
  {
   "cell_type": "code",
   "execution_count": 30,
   "metadata": {},
   "outputs": [],
   "source": [
    "idx = pd.to_datetime(datestrs + [None])"
   ]
  },
  {
   "cell_type": "code",
   "execution_count": 31,
   "metadata": {},
   "outputs": [
    {
     "data": {
      "text/plain": [
       "DatetimeIndex(['2011-07-06 12:00:00', '2011-08-06 00:00:00', 'NaT'], dtype='datetime64[ns]', freq=None)"
      ]
     },
     "execution_count": 31,
     "metadata": {},
     "output_type": "execute_result"
    }
   ],
   "source": [
    "idx"
   ]
  },
  {
   "cell_type": "code",
   "execution_count": 32,
   "metadata": {},
   "outputs": [
    {
     "data": {
      "text/plain": [
       "NaT"
      ]
     },
     "execution_count": 32,
     "metadata": {},
     "output_type": "execute_result"
    }
   ],
   "source": [
    "idx[2]"
   ]
  },
  {
   "cell_type": "code",
   "execution_count": 33,
   "metadata": {},
   "outputs": [
    {
     "data": {
      "text/plain": [
       "array([False, False,  True])"
      ]
     },
     "execution_count": 33,
     "metadata": {},
     "output_type": "execute_result"
    }
   ],
   "source": [
    "pd.isnull(idx)"
   ]
  },
  {
   "cell_type": "markdown",
   "metadata": {},
   "source": [
    "##### Básico sobre séries temporais"
   ]
  },
  {
   "cell_type": "code",
   "execution_count": 34,
   "metadata": {},
   "outputs": [],
   "source": [
    "dates = [datetime(2011, 1, 2), datetime(2011, 1, 5),\n",
    "         datetime(2011, 1, 7), datetime(2011, 1, 8),\n",
    "         datetime(2011, 1, 10), datetime(2011, 1, 12)]"
   ]
  },
  {
   "cell_type": "code",
   "execution_count": 35,
   "metadata": {},
   "outputs": [],
   "source": [
    "ts = pd.Series(np.random.randn(6), index=dates)"
   ]
  },
  {
   "cell_type": "code",
   "execution_count": 36,
   "metadata": {},
   "outputs": [
    {
     "data": {
      "text/plain": [
       "2011-01-02    1.117886\n",
       "2011-01-05   -0.826850\n",
       "2011-01-07   -0.209456\n",
       "2011-01-08   -0.638969\n",
       "2011-01-10    1.106323\n",
       "2011-01-12   -0.648791\n",
       "dtype: float64"
      ]
     },
     "execution_count": 36,
     "metadata": {},
     "output_type": "execute_result"
    }
   ],
   "source": [
    "ts"
   ]
  },
  {
   "cell_type": "code",
   "execution_count": 37,
   "metadata": {},
   "outputs": [
    {
     "data": {
      "text/plain": [
       "DatetimeIndex(['2011-01-02', '2011-01-05', '2011-01-07', '2011-01-08',\n",
       "               '2011-01-10', '2011-01-12'],\n",
       "              dtype='datetime64[ns]', freq=None)"
      ]
     },
     "execution_count": 37,
     "metadata": {},
     "output_type": "execute_result"
    }
   ],
   "source": [
    "ts.index"
   ]
  },
  {
   "cell_type": "code",
   "execution_count": 38,
   "metadata": {},
   "outputs": [
    {
     "data": {
      "text/plain": [
       "2011-01-02    2.235772\n",
       "2011-01-05         NaN\n",
       "2011-01-07   -0.418912\n",
       "2011-01-08         NaN\n",
       "2011-01-10    2.212646\n",
       "2011-01-12         NaN\n",
       "dtype: float64"
      ]
     },
     "execution_count": 38,
     "metadata": {},
     "output_type": "execute_result"
    }
   ],
   "source": [
    "ts + ts[::2]"
   ]
  },
  {
   "cell_type": "code",
   "execution_count": 39,
   "metadata": {},
   "outputs": [
    {
     "data": {
      "text/plain": [
       "dtype('<M8[ns]')"
      ]
     },
     "execution_count": 39,
     "metadata": {},
     "output_type": "execute_result"
    }
   ],
   "source": [
    "ts.index.dtype"
   ]
  },
  {
   "cell_type": "code",
   "execution_count": 40,
   "metadata": {},
   "outputs": [],
   "source": [
    "stamp = ts.index[0]"
   ]
  },
  {
   "cell_type": "code",
   "execution_count": 41,
   "metadata": {},
   "outputs": [
    {
     "data": {
      "text/plain": [
       "Timestamp('2011-01-02 00:00:00')"
      ]
     },
     "execution_count": 41,
     "metadata": {},
     "output_type": "execute_result"
    }
   ],
   "source": [
    "stamp"
   ]
  },
  {
   "cell_type": "markdown",
   "metadata": {},
   "source": [
    "### Indexação, seleção e geração de subconjuntos"
   ]
  },
  {
   "cell_type": "code",
   "execution_count": 42,
   "metadata": {},
   "outputs": [],
   "source": [
    "stamp = ts.index[2]"
   ]
  },
  {
   "cell_type": "code",
   "execution_count": 43,
   "metadata": {},
   "outputs": [
    {
     "data": {
      "text/plain": [
       "-0.2094560931550445"
      ]
     },
     "execution_count": 43,
     "metadata": {},
     "output_type": "execute_result"
    }
   ],
   "source": [
    "ts[stamp]"
   ]
  },
  {
   "cell_type": "code",
   "execution_count": 44,
   "metadata": {},
   "outputs": [
    {
     "data": {
      "text/plain": [
       "1.106322799248137"
      ]
     },
     "execution_count": 44,
     "metadata": {},
     "output_type": "execute_result"
    }
   ],
   "source": [
    "ts['1/10/2011']"
   ]
  },
  {
   "cell_type": "code",
   "execution_count": 45,
   "metadata": {},
   "outputs": [
    {
     "data": {
      "text/plain": [
       "1.106322799248137"
      ]
     },
     "execution_count": 45,
     "metadata": {},
     "output_type": "execute_result"
    }
   ],
   "source": [
    "ts['20110110']"
   ]
  },
  {
   "cell_type": "code",
   "execution_count": 46,
   "metadata": {},
   "outputs": [],
   "source": [
    "longer_ts = pd.Series(np.random.randn(1000), index=pd.date_range('1/1/2000', periods=1000))"
   ]
  },
  {
   "cell_type": "code",
   "execution_count": 47,
   "metadata": {},
   "outputs": [
    {
     "data": {
      "text/plain": [
       "2000-01-01    0.213460\n",
       "2000-01-02    0.285443\n",
       "2000-01-03   -0.419523\n",
       "2000-01-04   -0.254612\n",
       "2000-01-05   -0.664277\n",
       "2000-01-06   -0.208870\n",
       "2000-01-07   -1.223939\n",
       "2000-01-08   -0.434362\n",
       "2000-01-09   -1.408617\n",
       "2000-01-10   -0.546854\n",
       "2000-01-11   -2.292833\n",
       "2000-01-12    1.900973\n",
       "2000-01-13   -0.292338\n",
       "2000-01-14   -0.361127\n",
       "2000-01-15   -1.272458\n",
       "2000-01-16   -1.011148\n",
       "2000-01-17   -0.679516\n",
       "2000-01-18    0.068464\n",
       "2000-01-19    1.388681\n",
       "2000-01-20    0.719550\n",
       "2000-01-21    0.690113\n",
       "2000-01-22   -0.557411\n",
       "2000-01-23    0.201441\n",
       "2000-01-24   -1.201665\n",
       "2000-01-25   -2.163079\n",
       "2000-01-26   -0.127972\n",
       "2000-01-27   -0.762522\n",
       "2000-01-28   -0.119618\n",
       "2000-01-29    0.719329\n",
       "2000-01-30    0.337777\n",
       "                ...   \n",
       "2002-08-28   -1.289156\n",
       "2002-08-29   -0.884916\n",
       "2002-08-30    0.766495\n",
       "2002-08-31   -1.333682\n",
       "2002-09-01    0.644395\n",
       "2002-09-02   -1.833899\n",
       "2002-09-03   -0.183915\n",
       "2002-09-04    0.560976\n",
       "2002-09-05   -0.380496\n",
       "2002-09-06    0.238718\n",
       "2002-09-07   -0.193758\n",
       "2002-09-08   -0.996041\n",
       "2002-09-09   -0.529455\n",
       "2002-09-10   -0.774053\n",
       "2002-09-11   -0.402585\n",
       "2002-09-12    1.379159\n",
       "2002-09-13    1.517522\n",
       "2002-09-14    0.669852\n",
       "2002-09-15   -0.267655\n",
       "2002-09-16   -0.328241\n",
       "2002-09-17   -0.044632\n",
       "2002-09-18   -1.285749\n",
       "2002-09-19    0.290226\n",
       "2002-09-20   -1.071641\n",
       "2002-09-21   -0.818731\n",
       "2002-09-22    0.140129\n",
       "2002-09-23   -1.344532\n",
       "2002-09-24    1.094709\n",
       "2002-09-25   -1.820185\n",
       "2002-09-26    0.461728\n",
       "Freq: D, Length: 1000, dtype: float64"
      ]
     },
     "execution_count": 47,
     "metadata": {},
     "output_type": "execute_result"
    }
   ],
   "source": [
    "longer_ts"
   ]
  },
  {
   "cell_type": "code",
   "execution_count": 48,
   "metadata": {},
   "outputs": [
    {
     "data": {
      "text/plain": [
       "2001-01-01   -0.647533\n",
       "2001-01-02   -1.025064\n",
       "2001-01-03   -0.287690\n",
       "2001-01-04    0.927940\n",
       "2001-01-05    0.218989\n",
       "2001-01-06    1.174485\n",
       "2001-01-07    0.748209\n",
       "2001-01-08    0.080597\n",
       "2001-01-09   -1.201832\n",
       "2001-01-10   -1.078775\n",
       "2001-01-11    1.171782\n",
       "2001-01-12    0.142991\n",
       "2001-01-13    0.490711\n",
       "2001-01-14    1.611590\n",
       "2001-01-15   -1.549306\n",
       "2001-01-16    1.401720\n",
       "2001-01-17    0.981946\n",
       "2001-01-18    0.731711\n",
       "2001-01-19    0.650080\n",
       "2001-01-20    0.880615\n",
       "2001-01-21    0.584665\n",
       "2001-01-22   -0.694676\n",
       "2001-01-23    0.122846\n",
       "2001-01-24   -0.195836\n",
       "2001-01-25   -1.550787\n",
       "2001-01-26    0.814432\n",
       "2001-01-27    1.123514\n",
       "2001-01-28    2.013279\n",
       "2001-01-29    1.196503\n",
       "2001-01-30    0.125979\n",
       "                ...   \n",
       "2001-12-02   -0.506075\n",
       "2001-12-03    1.900714\n",
       "2001-12-04   -0.674340\n",
       "2001-12-05    1.051100\n",
       "2001-12-06    1.688810\n",
       "2001-12-07   -1.331005\n",
       "2001-12-08   -1.763333\n",
       "2001-12-09    0.215048\n",
       "2001-12-10    0.243976\n",
       "2001-12-11    0.499394\n",
       "2001-12-12    0.900453\n",
       "2001-12-13    0.041828\n",
       "2001-12-14   -1.637432\n",
       "2001-12-15   -0.372518\n",
       "2001-12-16   -2.285196\n",
       "2001-12-17   -0.190887\n",
       "2001-12-18    0.340901\n",
       "2001-12-19    0.276094\n",
       "2001-12-20   -0.084954\n",
       "2001-12-21   -1.057482\n",
       "2001-12-22    1.006418\n",
       "2001-12-23   -0.016516\n",
       "2001-12-24   -0.774459\n",
       "2001-12-25    0.815670\n",
       "2001-12-26    0.248210\n",
       "2001-12-27   -0.137422\n",
       "2001-12-28    0.602921\n",
       "2001-12-29    0.706530\n",
       "2001-12-30    0.314913\n",
       "2001-12-31    0.169058\n",
       "Freq: D, Length: 365, dtype: float64"
      ]
     },
     "execution_count": 48,
     "metadata": {},
     "output_type": "execute_result"
    }
   ],
   "source": [
    "longer_ts['2001']"
   ]
  },
  {
   "cell_type": "code",
   "execution_count": 49,
   "metadata": {},
   "outputs": [
    {
     "data": {
      "text/plain": [
       "2001-05-01   -2.110226\n",
       "2001-05-02    0.533810\n",
       "2001-05-03   -0.234710\n",
       "2001-05-04   -0.208883\n",
       "2001-05-05   -0.686237\n",
       "2001-05-06    0.013296\n",
       "2001-05-07    0.962401\n",
       "2001-05-08    1.065436\n",
       "2001-05-09    0.098384\n",
       "2001-05-10   -0.368369\n",
       "2001-05-11    0.917319\n",
       "2001-05-12    0.068789\n",
       "2001-05-13    0.014678\n",
       "2001-05-14    0.354823\n",
       "2001-05-15   -1.127999\n",
       "2001-05-16   -1.241618\n",
       "2001-05-17   -0.265199\n",
       "2001-05-18    1.264847\n",
       "2001-05-19   -0.911201\n",
       "2001-05-20    0.022679\n",
       "2001-05-21    0.042155\n",
       "2001-05-22   -1.601661\n",
       "2001-05-23    0.521504\n",
       "2001-05-24   -0.176148\n",
       "2001-05-25   -0.838863\n",
       "2001-05-26   -1.066038\n",
       "2001-05-27    0.418735\n",
       "2001-05-28    1.269300\n",
       "2001-05-29    1.058708\n",
       "2001-05-30   -0.783358\n",
       "2001-05-31    0.516379\n",
       "Freq: D, dtype: float64"
      ]
     },
     "execution_count": 49,
     "metadata": {},
     "output_type": "execute_result"
    }
   ],
   "source": [
    "longer_ts['2001-05']"
   ]
  },
  {
   "cell_type": "code",
   "execution_count": 50,
   "metadata": {},
   "outputs": [
    {
     "data": {
      "text/plain": [
       "2011-01-07   -0.209456\n",
       "2011-01-08   -0.638969\n",
       "2011-01-10    1.106323\n",
       "2011-01-12   -0.648791\n",
       "dtype: float64"
      ]
     },
     "execution_count": 50,
     "metadata": {},
     "output_type": "execute_result"
    }
   ],
   "source": [
    "ts[datetime(2011, 1, 7):]"
   ]
  },
  {
   "cell_type": "code",
   "execution_count": 51,
   "metadata": {},
   "outputs": [
    {
     "data": {
      "text/plain": [
       "2011-01-02    1.117886\n",
       "2011-01-05   -0.826850\n",
       "2011-01-07   -0.209456\n",
       "2011-01-08   -0.638969\n",
       "2011-01-10    1.106323\n",
       "2011-01-12   -0.648791\n",
       "dtype: float64"
      ]
     },
     "execution_count": 51,
     "metadata": {},
     "output_type": "execute_result"
    }
   ],
   "source": [
    "ts"
   ]
  },
  {
   "cell_type": "code",
   "execution_count": 52,
   "metadata": {},
   "outputs": [
    {
     "data": {
      "text/plain": [
       "2011-01-07   -0.209456\n",
       "2011-01-08   -0.638969\n",
       "2011-01-10    1.106323\n",
       "dtype: float64"
      ]
     },
     "execution_count": 52,
     "metadata": {},
     "output_type": "execute_result"
    }
   ],
   "source": [
    "ts['1/6/2011':'1/11/2011']"
   ]
  },
  {
   "cell_type": "code",
   "execution_count": 53,
   "metadata": {},
   "outputs": [
    {
     "data": {
      "text/plain": [
       "2011-01-02    1.117886\n",
       "2011-01-05   -0.826850\n",
       "2011-01-07   -0.209456\n",
       "2011-01-08   -0.638969\n",
       "dtype: float64"
      ]
     },
     "execution_count": 53,
     "metadata": {},
     "output_type": "execute_result"
    }
   ],
   "source": [
    "ts.truncate(after='1/9/2011')"
   ]
  },
  {
   "cell_type": "code",
   "execution_count": 54,
   "metadata": {},
   "outputs": [],
   "source": [
    "dates = pd.date_range('1/1/2000', periods=100, freq='W-WED')"
   ]
  },
  {
   "cell_type": "code",
   "execution_count": 55,
   "metadata": {},
   "outputs": [],
   "source": [
    "long_df = pd.DataFrame(np.random.randn(100, 4), index=dates, columns=['Colorado', 'Texas', 'New York', 'Ohio'])"
   ]
  },
  {
   "cell_type": "code",
   "execution_count": 56,
   "metadata": {},
   "outputs": [
    {
     "data": {
      "text/html": [
       "<div>\n",
       "<style scoped>\n",
       "    .dataframe tbody tr th:only-of-type {\n",
       "        vertical-align: middle;\n",
       "    }\n",
       "\n",
       "    .dataframe tbody tr th {\n",
       "        vertical-align: top;\n",
       "    }\n",
       "\n",
       "    .dataframe thead th {\n",
       "        text-align: right;\n",
       "    }\n",
       "</style>\n",
       "<table border=\"1\" class=\"dataframe\">\n",
       "  <thead>\n",
       "    <tr style=\"text-align: right;\">\n",
       "      <th></th>\n",
       "      <th>Colorado</th>\n",
       "      <th>Texas</th>\n",
       "      <th>New York</th>\n",
       "      <th>Ohio</th>\n",
       "    </tr>\n",
       "  </thead>\n",
       "  <tbody>\n",
       "    <tr>\n",
       "      <th>2000-01-05</th>\n",
       "      <td>0.179844</td>\n",
       "      <td>-1.891786</td>\n",
       "      <td>0.148994</td>\n",
       "      <td>1.111207</td>\n",
       "    </tr>\n",
       "    <tr>\n",
       "      <th>2000-01-12</th>\n",
       "      <td>1.073118</td>\n",
       "      <td>0.980060</td>\n",
       "      <td>-0.865559</td>\n",
       "      <td>0.218468</td>\n",
       "    </tr>\n",
       "    <tr>\n",
       "      <th>2000-01-19</th>\n",
       "      <td>0.188019</td>\n",
       "      <td>-1.869142</td>\n",
       "      <td>-0.502066</td>\n",
       "      <td>-0.013775</td>\n",
       "    </tr>\n",
       "    <tr>\n",
       "      <th>2000-01-26</th>\n",
       "      <td>1.983439</td>\n",
       "      <td>0.701058</td>\n",
       "      <td>2.537430</td>\n",
       "      <td>0.128249</td>\n",
       "    </tr>\n",
       "    <tr>\n",
       "      <th>2000-02-02</th>\n",
       "      <td>-0.841586</td>\n",
       "      <td>-0.274975</td>\n",
       "      <td>-0.558733</td>\n",
       "      <td>-2.004556</td>\n",
       "    </tr>\n",
       "    <tr>\n",
       "      <th>2000-02-09</th>\n",
       "      <td>0.492872</td>\n",
       "      <td>0.775277</td>\n",
       "      <td>-1.050485</td>\n",
       "      <td>-1.948751</td>\n",
       "    </tr>\n",
       "    <tr>\n",
       "      <th>2000-02-16</th>\n",
       "      <td>-0.250803</td>\n",
       "      <td>0.773156</td>\n",
       "      <td>-0.839194</td>\n",
       "      <td>-0.187704</td>\n",
       "    </tr>\n",
       "    <tr>\n",
       "      <th>2000-02-23</th>\n",
       "      <td>0.936626</td>\n",
       "      <td>-0.228948</td>\n",
       "      <td>0.076821</td>\n",
       "      <td>-0.137527</td>\n",
       "    </tr>\n",
       "    <tr>\n",
       "      <th>2000-03-01</th>\n",
       "      <td>-0.410099</td>\n",
       "      <td>-0.855593</td>\n",
       "      <td>-1.580439</td>\n",
       "      <td>-0.231510</td>\n",
       "    </tr>\n",
       "    <tr>\n",
       "      <th>2000-03-08</th>\n",
       "      <td>0.964423</td>\n",
       "      <td>-0.720661</td>\n",
       "      <td>0.137836</td>\n",
       "      <td>0.294474</td>\n",
       "    </tr>\n",
       "    <tr>\n",
       "      <th>2000-03-15</th>\n",
       "      <td>0.006467</td>\n",
       "      <td>0.752629</td>\n",
       "      <td>1.645650</td>\n",
       "      <td>0.520067</td>\n",
       "    </tr>\n",
       "    <tr>\n",
       "      <th>2000-03-22</th>\n",
       "      <td>-0.849690</td>\n",
       "      <td>-0.354544</td>\n",
       "      <td>1.349699</td>\n",
       "      <td>1.759888</td>\n",
       "    </tr>\n",
       "    <tr>\n",
       "      <th>2000-03-29</th>\n",
       "      <td>0.901523</td>\n",
       "      <td>1.552607</td>\n",
       "      <td>0.913383</td>\n",
       "      <td>0.840293</td>\n",
       "    </tr>\n",
       "    <tr>\n",
       "      <th>2000-04-05</th>\n",
       "      <td>0.725731</td>\n",
       "      <td>-1.636953</td>\n",
       "      <td>0.523232</td>\n",
       "      <td>1.064985</td>\n",
       "    </tr>\n",
       "    <tr>\n",
       "      <th>2000-04-12</th>\n",
       "      <td>-0.023904</td>\n",
       "      <td>-0.090888</td>\n",
       "      <td>-0.908403</td>\n",
       "      <td>0.273429</td>\n",
       "    </tr>\n",
       "    <tr>\n",
       "      <th>2000-04-19</th>\n",
       "      <td>-0.127467</td>\n",
       "      <td>1.767417</td>\n",
       "      <td>1.048745</td>\n",
       "      <td>-0.767551</td>\n",
       "    </tr>\n",
       "    <tr>\n",
       "      <th>2000-04-26</th>\n",
       "      <td>0.956573</td>\n",
       "      <td>-0.319012</td>\n",
       "      <td>-0.101597</td>\n",
       "      <td>2.100722</td>\n",
       "    </tr>\n",
       "    <tr>\n",
       "      <th>2000-05-03</th>\n",
       "      <td>-1.315508</td>\n",
       "      <td>-1.334030</td>\n",
       "      <td>-0.203705</td>\n",
       "      <td>-0.136603</td>\n",
       "    </tr>\n",
       "    <tr>\n",
       "      <th>2000-05-10</th>\n",
       "      <td>-0.840910</td>\n",
       "      <td>1.401430</td>\n",
       "      <td>0.034258</td>\n",
       "      <td>-1.568154</td>\n",
       "    </tr>\n",
       "    <tr>\n",
       "      <th>2000-05-17</th>\n",
       "      <td>-0.859458</td>\n",
       "      <td>-0.878100</td>\n",
       "      <td>1.636037</td>\n",
       "      <td>0.498422</td>\n",
       "    </tr>\n",
       "    <tr>\n",
       "      <th>2000-05-24</th>\n",
       "      <td>-0.270482</td>\n",
       "      <td>-0.882842</td>\n",
       "      <td>-1.122568</td>\n",
       "      <td>1.451478</td>\n",
       "    </tr>\n",
       "    <tr>\n",
       "      <th>2000-05-31</th>\n",
       "      <td>0.226025</td>\n",
       "      <td>0.086279</td>\n",
       "      <td>0.722722</td>\n",
       "      <td>0.402342</td>\n",
       "    </tr>\n",
       "    <tr>\n",
       "      <th>2000-06-07</th>\n",
       "      <td>-0.168502</td>\n",
       "      <td>0.715935</td>\n",
       "      <td>-0.249030</td>\n",
       "      <td>-0.341767</td>\n",
       "    </tr>\n",
       "    <tr>\n",
       "      <th>2000-06-14</th>\n",
       "      <td>1.611254</td>\n",
       "      <td>1.011844</td>\n",
       "      <td>-0.901914</td>\n",
       "      <td>0.168514</td>\n",
       "    </tr>\n",
       "    <tr>\n",
       "      <th>2000-06-21</th>\n",
       "      <td>-0.302166</td>\n",
       "      <td>1.997557</td>\n",
       "      <td>1.424503</td>\n",
       "      <td>0.327146</td>\n",
       "    </tr>\n",
       "    <tr>\n",
       "      <th>2000-06-28</th>\n",
       "      <td>-1.154395</td>\n",
       "      <td>-0.752363</td>\n",
       "      <td>-1.254450</td>\n",
       "      <td>0.685095</td>\n",
       "    </tr>\n",
       "    <tr>\n",
       "      <th>2000-07-05</th>\n",
       "      <td>-0.035408</td>\n",
       "      <td>0.324865</td>\n",
       "      <td>1.116851</td>\n",
       "      <td>1.575676</td>\n",
       "    </tr>\n",
       "    <tr>\n",
       "      <th>2000-07-12</th>\n",
       "      <td>1.097864</td>\n",
       "      <td>-0.731648</td>\n",
       "      <td>-0.191585</td>\n",
       "      <td>0.212263</td>\n",
       "    </tr>\n",
       "    <tr>\n",
       "      <th>2000-07-19</th>\n",
       "      <td>-2.496746</td>\n",
       "      <td>0.914666</td>\n",
       "      <td>0.145349</td>\n",
       "      <td>-0.117822</td>\n",
       "    </tr>\n",
       "    <tr>\n",
       "      <th>2000-07-26</th>\n",
       "      <td>0.679452</td>\n",
       "      <td>0.616915</td>\n",
       "      <td>-0.028333</td>\n",
       "      <td>2.492856</td>\n",
       "    </tr>\n",
       "    <tr>\n",
       "      <th>...</th>\n",
       "      <td>...</td>\n",
       "      <td>...</td>\n",
       "      <td>...</td>\n",
       "      <td>...</td>\n",
       "    </tr>\n",
       "    <tr>\n",
       "      <th>2001-05-09</th>\n",
       "      <td>-0.013023</td>\n",
       "      <td>-1.764255</td>\n",
       "      <td>-1.552690</td>\n",
       "      <td>-0.650441</td>\n",
       "    </tr>\n",
       "    <tr>\n",
       "      <th>2001-05-16</th>\n",
       "      <td>1.723477</td>\n",
       "      <td>-0.153397</td>\n",
       "      <td>1.312088</td>\n",
       "      <td>0.195041</td>\n",
       "    </tr>\n",
       "    <tr>\n",
       "      <th>2001-05-23</th>\n",
       "      <td>0.049481</td>\n",
       "      <td>0.408776</td>\n",
       "      <td>0.732621</td>\n",
       "      <td>-1.042815</td>\n",
       "    </tr>\n",
       "    <tr>\n",
       "      <th>2001-05-30</th>\n",
       "      <td>0.012753</td>\n",
       "      <td>-0.054111</td>\n",
       "      <td>0.286057</td>\n",
       "      <td>2.531830</td>\n",
       "    </tr>\n",
       "    <tr>\n",
       "      <th>2001-06-06</th>\n",
       "      <td>-1.086538</td>\n",
       "      <td>-0.895746</td>\n",
       "      <td>1.101958</td>\n",
       "      <td>0.970849</td>\n",
       "    </tr>\n",
       "    <tr>\n",
       "      <th>2001-06-13</th>\n",
       "      <td>0.822632</td>\n",
       "      <td>-1.099558</td>\n",
       "      <td>1.405463</td>\n",
       "      <td>-0.360402</td>\n",
       "    </tr>\n",
       "    <tr>\n",
       "      <th>2001-06-20</th>\n",
       "      <td>-0.082065</td>\n",
       "      <td>-0.877624</td>\n",
       "      <td>2.656487</td>\n",
       "      <td>-0.038417</td>\n",
       "    </tr>\n",
       "    <tr>\n",
       "      <th>2001-06-27</th>\n",
       "      <td>1.081636</td>\n",
       "      <td>-0.191495</td>\n",
       "      <td>0.278834</td>\n",
       "      <td>-0.764897</td>\n",
       "    </tr>\n",
       "    <tr>\n",
       "      <th>2001-07-04</th>\n",
       "      <td>-1.418836</td>\n",
       "      <td>0.506568</td>\n",
       "      <td>0.872409</td>\n",
       "      <td>0.173876</td>\n",
       "    </tr>\n",
       "    <tr>\n",
       "      <th>2001-07-11</th>\n",
       "      <td>1.175929</td>\n",
       "      <td>-0.436544</td>\n",
       "      <td>-1.437159</td>\n",
       "      <td>-0.218148</td>\n",
       "    </tr>\n",
       "    <tr>\n",
       "      <th>2001-07-18</th>\n",
       "      <td>0.336865</td>\n",
       "      <td>-0.814609</td>\n",
       "      <td>-0.799451</td>\n",
       "      <td>0.172809</td>\n",
       "    </tr>\n",
       "    <tr>\n",
       "      <th>2001-07-25</th>\n",
       "      <td>2.017886</td>\n",
       "      <td>0.724562</td>\n",
       "      <td>-1.575193</td>\n",
       "      <td>-2.040504</td>\n",
       "    </tr>\n",
       "    <tr>\n",
       "      <th>2001-08-01</th>\n",
       "      <td>-0.888314</td>\n",
       "      <td>-1.220044</td>\n",
       "      <td>0.131735</td>\n",
       "      <td>-1.351036</td>\n",
       "    </tr>\n",
       "    <tr>\n",
       "      <th>2001-08-08</th>\n",
       "      <td>-0.581325</td>\n",
       "      <td>-0.865407</td>\n",
       "      <td>0.244670</td>\n",
       "      <td>-1.105631</td>\n",
       "    </tr>\n",
       "    <tr>\n",
       "      <th>2001-08-15</th>\n",
       "      <td>-0.755653</td>\n",
       "      <td>-0.471519</td>\n",
       "      <td>0.542172</td>\n",
       "      <td>-1.066112</td>\n",
       "    </tr>\n",
       "    <tr>\n",
       "      <th>2001-08-22</th>\n",
       "      <td>-0.449029</td>\n",
       "      <td>-0.223677</td>\n",
       "      <td>0.030788</td>\n",
       "      <td>0.201020</td>\n",
       "    </tr>\n",
       "    <tr>\n",
       "      <th>2001-08-29</th>\n",
       "      <td>0.909820</td>\n",
       "      <td>0.994084</td>\n",
       "      <td>-1.142223</td>\n",
       "      <td>0.569177</td>\n",
       "    </tr>\n",
       "    <tr>\n",
       "      <th>2001-09-05</th>\n",
       "      <td>-0.852716</td>\n",
       "      <td>-0.551533</td>\n",
       "      <td>-0.232645</td>\n",
       "      <td>0.876847</td>\n",
       "    </tr>\n",
       "    <tr>\n",
       "      <th>2001-09-12</th>\n",
       "      <td>-0.936697</td>\n",
       "      <td>0.623719</td>\n",
       "      <td>0.193308</td>\n",
       "      <td>0.111117</td>\n",
       "    </tr>\n",
       "    <tr>\n",
       "      <th>2001-09-19</th>\n",
       "      <td>0.213997</td>\n",
       "      <td>0.144127</td>\n",
       "      <td>1.382411</td>\n",
       "      <td>-1.773814</td>\n",
       "    </tr>\n",
       "    <tr>\n",
       "      <th>2001-09-26</th>\n",
       "      <td>0.408656</td>\n",
       "      <td>0.072980</td>\n",
       "      <td>-1.614294</td>\n",
       "      <td>-0.231728</td>\n",
       "    </tr>\n",
       "    <tr>\n",
       "      <th>2001-10-03</th>\n",
       "      <td>-2.393052</td>\n",
       "      <td>-0.340960</td>\n",
       "      <td>-0.163736</td>\n",
       "      <td>0.471189</td>\n",
       "    </tr>\n",
       "    <tr>\n",
       "      <th>2001-10-10</th>\n",
       "      <td>1.320055</td>\n",
       "      <td>1.218024</td>\n",
       "      <td>-0.340360</td>\n",
       "      <td>-0.057236</td>\n",
       "    </tr>\n",
       "    <tr>\n",
       "      <th>2001-10-17</th>\n",
       "      <td>0.288679</td>\n",
       "      <td>-0.283452</td>\n",
       "      <td>-0.666131</td>\n",
       "      <td>0.608593</td>\n",
       "    </tr>\n",
       "    <tr>\n",
       "      <th>2001-10-24</th>\n",
       "      <td>1.659358</td>\n",
       "      <td>0.581796</td>\n",
       "      <td>0.453846</td>\n",
       "      <td>0.324022</td>\n",
       "    </tr>\n",
       "    <tr>\n",
       "      <th>2001-10-31</th>\n",
       "      <td>-0.206827</td>\n",
       "      <td>0.847552</td>\n",
       "      <td>0.258737</td>\n",
       "      <td>0.142340</td>\n",
       "    </tr>\n",
       "    <tr>\n",
       "      <th>2001-11-07</th>\n",
       "      <td>-1.072984</td>\n",
       "      <td>-1.477544</td>\n",
       "      <td>0.376148</td>\n",
       "      <td>1.436179</td>\n",
       "    </tr>\n",
       "    <tr>\n",
       "      <th>2001-11-14</th>\n",
       "      <td>0.383878</td>\n",
       "      <td>0.654558</td>\n",
       "      <td>-1.491821</td>\n",
       "      <td>-0.852656</td>\n",
       "    </tr>\n",
       "    <tr>\n",
       "      <th>2001-11-21</th>\n",
       "      <td>-0.769163</td>\n",
       "      <td>1.722308</td>\n",
       "      <td>2.426377</td>\n",
       "      <td>1.498776</td>\n",
       "    </tr>\n",
       "    <tr>\n",
       "      <th>2001-11-28</th>\n",
       "      <td>-1.087733</td>\n",
       "      <td>0.622765</td>\n",
       "      <td>0.870848</td>\n",
       "      <td>-1.668144</td>\n",
       "    </tr>\n",
       "  </tbody>\n",
       "</table>\n",
       "<p>100 rows × 4 columns</p>\n",
       "</div>"
      ],
      "text/plain": [
       "            Colorado     Texas  New York      Ohio\n",
       "2000-01-05  0.179844 -1.891786  0.148994  1.111207\n",
       "2000-01-12  1.073118  0.980060 -0.865559  0.218468\n",
       "2000-01-19  0.188019 -1.869142 -0.502066 -0.013775\n",
       "2000-01-26  1.983439  0.701058  2.537430  0.128249\n",
       "2000-02-02 -0.841586 -0.274975 -0.558733 -2.004556\n",
       "2000-02-09  0.492872  0.775277 -1.050485 -1.948751\n",
       "2000-02-16 -0.250803  0.773156 -0.839194 -0.187704\n",
       "2000-02-23  0.936626 -0.228948  0.076821 -0.137527\n",
       "2000-03-01 -0.410099 -0.855593 -1.580439 -0.231510\n",
       "2000-03-08  0.964423 -0.720661  0.137836  0.294474\n",
       "2000-03-15  0.006467  0.752629  1.645650  0.520067\n",
       "2000-03-22 -0.849690 -0.354544  1.349699  1.759888\n",
       "2000-03-29  0.901523  1.552607  0.913383  0.840293\n",
       "2000-04-05  0.725731 -1.636953  0.523232  1.064985\n",
       "2000-04-12 -0.023904 -0.090888 -0.908403  0.273429\n",
       "2000-04-19 -0.127467  1.767417  1.048745 -0.767551\n",
       "2000-04-26  0.956573 -0.319012 -0.101597  2.100722\n",
       "2000-05-03 -1.315508 -1.334030 -0.203705 -0.136603\n",
       "2000-05-10 -0.840910  1.401430  0.034258 -1.568154\n",
       "2000-05-17 -0.859458 -0.878100  1.636037  0.498422\n",
       "2000-05-24 -0.270482 -0.882842 -1.122568  1.451478\n",
       "2000-05-31  0.226025  0.086279  0.722722  0.402342\n",
       "2000-06-07 -0.168502  0.715935 -0.249030 -0.341767\n",
       "2000-06-14  1.611254  1.011844 -0.901914  0.168514\n",
       "2000-06-21 -0.302166  1.997557  1.424503  0.327146\n",
       "2000-06-28 -1.154395 -0.752363 -1.254450  0.685095\n",
       "2000-07-05 -0.035408  0.324865  1.116851  1.575676\n",
       "2000-07-12  1.097864 -0.731648 -0.191585  0.212263\n",
       "2000-07-19 -2.496746  0.914666  0.145349 -0.117822\n",
       "2000-07-26  0.679452  0.616915 -0.028333  2.492856\n",
       "...              ...       ...       ...       ...\n",
       "2001-05-09 -0.013023 -1.764255 -1.552690 -0.650441\n",
       "2001-05-16  1.723477 -0.153397  1.312088  0.195041\n",
       "2001-05-23  0.049481  0.408776  0.732621 -1.042815\n",
       "2001-05-30  0.012753 -0.054111  0.286057  2.531830\n",
       "2001-06-06 -1.086538 -0.895746  1.101958  0.970849\n",
       "2001-06-13  0.822632 -1.099558  1.405463 -0.360402\n",
       "2001-06-20 -0.082065 -0.877624  2.656487 -0.038417\n",
       "2001-06-27  1.081636 -0.191495  0.278834 -0.764897\n",
       "2001-07-04 -1.418836  0.506568  0.872409  0.173876\n",
       "2001-07-11  1.175929 -0.436544 -1.437159 -0.218148\n",
       "2001-07-18  0.336865 -0.814609 -0.799451  0.172809\n",
       "2001-07-25  2.017886  0.724562 -1.575193 -2.040504\n",
       "2001-08-01 -0.888314 -1.220044  0.131735 -1.351036\n",
       "2001-08-08 -0.581325 -0.865407  0.244670 -1.105631\n",
       "2001-08-15 -0.755653 -0.471519  0.542172 -1.066112\n",
       "2001-08-22 -0.449029 -0.223677  0.030788  0.201020\n",
       "2001-08-29  0.909820  0.994084 -1.142223  0.569177\n",
       "2001-09-05 -0.852716 -0.551533 -0.232645  0.876847\n",
       "2001-09-12 -0.936697  0.623719  0.193308  0.111117\n",
       "2001-09-19  0.213997  0.144127  1.382411 -1.773814\n",
       "2001-09-26  0.408656  0.072980 -1.614294 -0.231728\n",
       "2001-10-03 -2.393052 -0.340960 -0.163736  0.471189\n",
       "2001-10-10  1.320055  1.218024 -0.340360 -0.057236\n",
       "2001-10-17  0.288679 -0.283452 -0.666131  0.608593\n",
       "2001-10-24  1.659358  0.581796  0.453846  0.324022\n",
       "2001-10-31 -0.206827  0.847552  0.258737  0.142340\n",
       "2001-11-07 -1.072984 -1.477544  0.376148  1.436179\n",
       "2001-11-14  0.383878  0.654558 -1.491821 -0.852656\n",
       "2001-11-21 -0.769163  1.722308  2.426377  1.498776\n",
       "2001-11-28 -1.087733  0.622765  0.870848 -1.668144\n",
       "\n",
       "[100 rows x 4 columns]"
      ]
     },
     "execution_count": 56,
     "metadata": {},
     "output_type": "execute_result"
    }
   ],
   "source": [
    "long_df"
   ]
  },
  {
   "cell_type": "code",
   "execution_count": 57,
   "metadata": {},
   "outputs": [
    {
     "data": {
      "text/html": [
       "<div>\n",
       "<style scoped>\n",
       "    .dataframe tbody tr th:only-of-type {\n",
       "        vertical-align: middle;\n",
       "    }\n",
       "\n",
       "    .dataframe tbody tr th {\n",
       "        vertical-align: top;\n",
       "    }\n",
       "\n",
       "    .dataframe thead th {\n",
       "        text-align: right;\n",
       "    }\n",
       "</style>\n",
       "<table border=\"1\" class=\"dataframe\">\n",
       "  <thead>\n",
       "    <tr style=\"text-align: right;\">\n",
       "      <th></th>\n",
       "      <th>Colorado</th>\n",
       "      <th>Texas</th>\n",
       "      <th>New York</th>\n",
       "      <th>Ohio</th>\n",
       "    </tr>\n",
       "  </thead>\n",
       "  <tbody>\n",
       "    <tr>\n",
       "      <th>2001-05-02</th>\n",
       "      <td>0.471927</td>\n",
       "      <td>-0.196770</td>\n",
       "      <td>0.751965</td>\n",
       "      <td>-0.164571</td>\n",
       "    </tr>\n",
       "    <tr>\n",
       "      <th>2001-05-09</th>\n",
       "      <td>-0.013023</td>\n",
       "      <td>-1.764255</td>\n",
       "      <td>-1.552690</td>\n",
       "      <td>-0.650441</td>\n",
       "    </tr>\n",
       "    <tr>\n",
       "      <th>2001-05-16</th>\n",
       "      <td>1.723477</td>\n",
       "      <td>-0.153397</td>\n",
       "      <td>1.312088</td>\n",
       "      <td>0.195041</td>\n",
       "    </tr>\n",
       "    <tr>\n",
       "      <th>2001-05-23</th>\n",
       "      <td>0.049481</td>\n",
       "      <td>0.408776</td>\n",
       "      <td>0.732621</td>\n",
       "      <td>-1.042815</td>\n",
       "    </tr>\n",
       "    <tr>\n",
       "      <th>2001-05-30</th>\n",
       "      <td>0.012753</td>\n",
       "      <td>-0.054111</td>\n",
       "      <td>0.286057</td>\n",
       "      <td>2.531830</td>\n",
       "    </tr>\n",
       "  </tbody>\n",
       "</table>\n",
       "</div>"
      ],
      "text/plain": [
       "            Colorado     Texas  New York      Ohio\n",
       "2001-05-02  0.471927 -0.196770  0.751965 -0.164571\n",
       "2001-05-09 -0.013023 -1.764255 -1.552690 -0.650441\n",
       "2001-05-16  1.723477 -0.153397  1.312088  0.195041\n",
       "2001-05-23  0.049481  0.408776  0.732621 -1.042815\n",
       "2001-05-30  0.012753 -0.054111  0.286057  2.531830"
      ]
     },
     "execution_count": 57,
     "metadata": {},
     "output_type": "execute_result"
    }
   ],
   "source": [
    "long_df.loc['5-2001']"
   ]
  },
  {
   "cell_type": "markdown",
   "metadata": {},
   "source": [
    "<p style=\"color:blue; font-size:18px;\">Séries temporais com índices duplicados</p>"
   ]
  },
  {
   "cell_type": "code",
   "execution_count": 58,
   "metadata": {},
   "outputs": [],
   "source": [
    "dates = pd.DatetimeIndex(['1/1/2000', '1/2/2000', '1/2/2000',\n",
    "                     '1/2/2000', '1/3/2000'])"
   ]
  },
  {
   "cell_type": "code",
   "execution_count": 59,
   "metadata": {},
   "outputs": [],
   "source": [
    "dup_ts = pd.Series(np.arange(5), index=dates)"
   ]
  },
  {
   "cell_type": "code",
   "execution_count": 60,
   "metadata": {},
   "outputs": [
    {
     "data": {
      "text/plain": [
       "False"
      ]
     },
     "execution_count": 60,
     "metadata": {},
     "output_type": "execute_result"
    }
   ],
   "source": [
    "dup_ts.index.is_unique"
   ]
  },
  {
   "cell_type": "code",
   "execution_count": 61,
   "metadata": {},
   "outputs": [
    {
     "data": {
      "text/plain": [
       "4"
      ]
     },
     "execution_count": 61,
     "metadata": {},
     "output_type": "execute_result"
    }
   ],
   "source": [
    "dup_ts['1/3/2000'] # não duplicado"
   ]
  },
  {
   "cell_type": "code",
   "execution_count": 62,
   "metadata": {},
   "outputs": [
    {
     "data": {
      "text/plain": [
       "2000-01-02    1\n",
       "2000-01-02    2\n",
       "2000-01-02    3\n",
       "dtype: int64"
      ]
     },
     "execution_count": 62,
     "metadata": {},
     "output_type": "execute_result"
    }
   ],
   "source": [
    "dup_ts['1/2/2000'] #duplicado"
   ]
  },
  {
   "cell_type": "code",
   "execution_count": 63,
   "metadata": {},
   "outputs": [],
   "source": [
    "grouped = dup_ts.groupby(level=0)"
   ]
  },
  {
   "cell_type": "code",
   "execution_count": 64,
   "metadata": {},
   "outputs": [
    {
     "data": {
      "text/plain": [
       "2000-01-01    0\n",
       "2000-01-02    2\n",
       "2000-01-03    4\n",
       "dtype: int64"
      ]
     },
     "execution_count": 64,
     "metadata": {},
     "output_type": "execute_result"
    }
   ],
   "source": [
    "grouped.mean()"
   ]
  },
  {
   "cell_type": "code",
   "execution_count": 65,
   "metadata": {},
   "outputs": [
    {
     "data": {
      "text/plain": [
       "2000-01-01    1\n",
       "2000-01-02    3\n",
       "2000-01-03    1\n",
       "dtype: int64"
      ]
     },
     "execution_count": 65,
     "metadata": {},
     "output_type": "execute_result"
    }
   ],
   "source": [
    "grouped.count()"
   ]
  },
  {
   "cell_type": "markdown",
   "metadata": {},
   "source": [
    "<p style=\"color:blue; font-size:18px;\">Intervalos de datas, frequências e deslocamentos</p>"
   ]
  },
  {
   "cell_type": "code",
   "execution_count": 66,
   "metadata": {},
   "outputs": [
    {
     "data": {
      "text/plain": [
       "2011-01-02    1.117886\n",
       "2011-01-05   -0.826850\n",
       "2011-01-07   -0.209456\n",
       "2011-01-08   -0.638969\n",
       "2011-01-10    1.106323\n",
       "2011-01-12   -0.648791\n",
       "dtype: float64"
      ]
     },
     "execution_count": 66,
     "metadata": {},
     "output_type": "execute_result"
    }
   ],
   "source": [
    "ts"
   ]
  },
  {
   "cell_type": "code",
   "execution_count": 67,
   "metadata": {},
   "outputs": [],
   "source": [
    "resampler = ts.resample('D')"
   ]
  },
  {
   "cell_type": "code",
   "execution_count": null,
   "metadata": {},
   "outputs": [],
   "source": []
  },
  {
   "cell_type": "markdown",
   "metadata": {},
   "source": [
    "<p style=\"color:blue; font-size:18px;\">Gerando intervalos de datas</p>"
   ]
  },
  {
   "cell_type": "code",
   "execution_count": 68,
   "metadata": {},
   "outputs": [],
   "source": [
    "index = pd.date_range('2012-04-01', '2012-06-01' )"
   ]
  },
  {
   "cell_type": "code",
   "execution_count": 69,
   "metadata": {},
   "outputs": [
    {
     "data": {
      "text/plain": [
       "DatetimeIndex(['2012-04-01', '2012-04-02', '2012-04-03', '2012-04-04',\n",
       "               '2012-04-05', '2012-04-06', '2012-04-07', '2012-04-08',\n",
       "               '2012-04-09', '2012-04-10', '2012-04-11', '2012-04-12',\n",
       "               '2012-04-13', '2012-04-14', '2012-04-15', '2012-04-16',\n",
       "               '2012-04-17', '2012-04-18', '2012-04-19', '2012-04-20',\n",
       "               '2012-04-21', '2012-04-22', '2012-04-23', '2012-04-24',\n",
       "               '2012-04-25', '2012-04-26', '2012-04-27', '2012-04-28',\n",
       "               '2012-04-29', '2012-04-30', '2012-05-01', '2012-05-02',\n",
       "               '2012-05-03', '2012-05-04', '2012-05-05', '2012-05-06',\n",
       "               '2012-05-07', '2012-05-08', '2012-05-09', '2012-05-10',\n",
       "               '2012-05-11', '2012-05-12', '2012-05-13', '2012-05-14',\n",
       "               '2012-05-15', '2012-05-16', '2012-05-17', '2012-05-18',\n",
       "               '2012-05-19', '2012-05-20', '2012-05-21', '2012-05-22',\n",
       "               '2012-05-23', '2012-05-24', '2012-05-25', '2012-05-26',\n",
       "               '2012-05-27', '2012-05-28', '2012-05-29', '2012-05-30',\n",
       "               '2012-05-31', '2012-06-01'],\n",
       "              dtype='datetime64[ns]', freq='D')"
      ]
     },
     "execution_count": 69,
     "metadata": {},
     "output_type": "execute_result"
    }
   ],
   "source": [
    "index"
   ]
  },
  {
   "cell_type": "code",
   "execution_count": 70,
   "metadata": {},
   "outputs": [
    {
     "data": {
      "text/plain": [
       "DatetimeIndex(['2012-04-01', '2012-04-02', '2012-04-03', '2012-04-04',\n",
       "               '2012-04-05', '2012-04-06', '2012-04-07', '2012-04-08',\n",
       "               '2012-04-09', '2012-04-10', '2012-04-11', '2012-04-12',\n",
       "               '2012-04-13', '2012-04-14', '2012-04-15', '2012-04-16',\n",
       "               '2012-04-17', '2012-04-18', '2012-04-19', '2012-04-20'],\n",
       "              dtype='datetime64[ns]', freq='D')"
      ]
     },
     "execution_count": 70,
     "metadata": {},
     "output_type": "execute_result"
    }
   ],
   "source": [
    "pd.date_range(start='2012-04-01', periods=20)"
   ]
  },
  {
   "cell_type": "code",
   "execution_count": 71,
   "metadata": {},
   "outputs": [
    {
     "data": {
      "text/plain": [
       "DatetimeIndex(['2012-05-13', '2012-05-14', '2012-05-15', '2012-05-16',\n",
       "               '2012-05-17', '2012-05-18', '2012-05-19', '2012-05-20',\n",
       "               '2012-05-21', '2012-05-22', '2012-05-23', '2012-05-24',\n",
       "               '2012-05-25', '2012-05-26', '2012-05-27', '2012-05-28',\n",
       "               '2012-05-29', '2012-05-30', '2012-05-31', '2012-06-01'],\n",
       "              dtype='datetime64[ns]', freq='D')"
      ]
     },
     "execution_count": 71,
     "metadata": {},
     "output_type": "execute_result"
    }
   ],
   "source": [
    "pd.date_range(end='2012-06-01', periods=20)"
   ]
  },
  {
   "cell_type": "code",
   "execution_count": 72,
   "metadata": {},
   "outputs": [
    {
     "data": {
      "text/plain": [
       "DatetimeIndex(['2000-01-31', '2000-02-29', '2000-03-31', '2000-04-28',\n",
       "               '2000-05-31', '2000-06-30', '2000-07-31', '2000-08-31',\n",
       "               '2000-09-29', '2000-10-31', '2000-11-30'],\n",
       "              dtype='datetime64[ns]', freq='BM')"
      ]
     },
     "execution_count": 72,
     "metadata": {},
     "output_type": "execute_result"
    }
   ],
   "source": [
    "pd.date_range('2000-01-01', '2000-12-01', freq='BM')"
   ]
  },
  {
   "cell_type": "code",
   "execution_count": 73,
   "metadata": {},
   "outputs": [
    {
     "data": {
      "text/plain": [
       "DatetimeIndex(['2012-05-02 12:56:31', '2012-05-03 12:56:31',\n",
       "               '2012-05-04 12:56:31', '2012-05-05 12:56:31',\n",
       "               '2012-05-06 12:56:31'],\n",
       "              dtype='datetime64[ns]', freq='D')"
      ]
     },
     "execution_count": 73,
     "metadata": {},
     "output_type": "execute_result"
    }
   ],
   "source": [
    "pd.date_range('2012-05-02 12:56:31', periods=5)"
   ]
  },
  {
   "cell_type": "code",
   "execution_count": 74,
   "metadata": {},
   "outputs": [
    {
     "data": {
      "text/plain": [
       "DatetimeIndex(['2012-05-02', '2012-05-03', '2012-05-04', '2012-05-05',\n",
       "               '2012-05-06'],\n",
       "              dtype='datetime64[ns]', freq='D')"
      ]
     },
     "execution_count": 74,
     "metadata": {},
     "output_type": "execute_result"
    }
   ],
   "source": [
    "pd.date_range('2012-05-02 12:56:31', periods=5, normalize=True)"
   ]
  },
  {
   "cell_type": "markdown",
   "metadata": {},
   "source": [
    "<p style=\"color:blue; font-size:18px;\">Frequências e offset de datas</p>"
   ]
  },
  {
   "cell_type": "code",
   "execution_count": 75,
   "metadata": {},
   "outputs": [],
   "source": [
    "from pandas.tseries.offsets import Hour, Minute"
   ]
  },
  {
   "cell_type": "code",
   "execution_count": 76,
   "metadata": {},
   "outputs": [
    {
     "data": {
      "text/plain": [
       "<Hour>"
      ]
     },
     "execution_count": 76,
     "metadata": {},
     "output_type": "execute_result"
    }
   ],
   "source": [
    "hour = Hour()\n",
    "hour"
   ]
  },
  {
   "cell_type": "code",
   "execution_count": 77,
   "metadata": {},
   "outputs": [
    {
     "data": {
      "text/plain": [
       "<4 * Hours>"
      ]
     },
     "execution_count": 77,
     "metadata": {},
     "output_type": "execute_result"
    }
   ],
   "source": [
    "four_hours = Hour(4)\n",
    "four_hours"
   ]
  },
  {
   "cell_type": "code",
   "execution_count": 78,
   "metadata": {},
   "outputs": [
    {
     "data": {
      "text/plain": [
       "DatetimeIndex(['2001-01-01 00:00:00', '2001-01-01 04:00:00',\n",
       "               '2001-01-01 08:00:00', '2001-01-01 12:00:00',\n",
       "               '2001-01-01 16:00:00', '2001-01-01 20:00:00',\n",
       "               '2001-01-02 00:00:00', '2001-01-02 04:00:00',\n",
       "               '2001-01-02 08:00:00', '2001-01-02 12:00:00',\n",
       "               '2001-01-02 16:00:00', '2001-01-02 20:00:00',\n",
       "               '2001-01-03 00:00:00', '2001-01-03 04:00:00',\n",
       "               '2001-01-03 08:00:00', '2001-01-03 12:00:00',\n",
       "               '2001-01-03 16:00:00', '2001-01-03 20:00:00'],\n",
       "              dtype='datetime64[ns]', freq='4H')"
      ]
     },
     "execution_count": 78,
     "metadata": {},
     "output_type": "execute_result"
    }
   ],
   "source": [
    "pd.date_range('2001-01-01', '2001-01-03 23:59', freq='4h')"
   ]
  },
  {
   "cell_type": "code",
   "execution_count": 79,
   "metadata": {},
   "outputs": [
    {
     "data": {
      "text/plain": [
       "<150 * Minutes>"
      ]
     },
     "execution_count": 79,
     "metadata": {},
     "output_type": "execute_result"
    }
   ],
   "source": [
    "Hour(2) + Minute(30)"
   ]
  },
  {
   "cell_type": "code",
   "execution_count": 80,
   "metadata": {},
   "outputs": [
    {
     "data": {
      "text/plain": [
       "DatetimeIndex(['2000-01-01 00:00:00', '2000-01-01 01:30:00',\n",
       "               '2000-01-01 03:00:00', '2000-01-01 04:30:00',\n",
       "               '2000-01-01 06:00:00', '2000-01-01 07:30:00',\n",
       "               '2000-01-01 09:00:00', '2000-01-01 10:30:00',\n",
       "               '2000-01-01 12:00:00', '2000-01-01 13:30:00'],\n",
       "              dtype='datetime64[ns]', freq='90T')"
      ]
     },
     "execution_count": 80,
     "metadata": {},
     "output_type": "execute_result"
    }
   ],
   "source": [
    "pd.date_range('2000-01-01', periods=10, freq='1h30min')"
   ]
  },
  {
   "cell_type": "markdown",
   "metadata": {},
   "source": [
    "<p style=\"color:blue; font-size:14px;\">Datas com a semana do mês</p>"
   ]
  },
  {
   "cell_type": "code",
   "execution_count": 81,
   "metadata": {},
   "outputs": [],
   "source": [
    "rng = pd.date_range('2012-01-01', '2012-09-01', freq='WOM-3FRI')"
   ]
  },
  {
   "cell_type": "code",
   "execution_count": 82,
   "metadata": {},
   "outputs": [
    {
     "data": {
      "text/plain": [
       "[Timestamp('2012-01-20 00:00:00', freq='WOM-3FRI'),\n",
       " Timestamp('2012-02-17 00:00:00', freq='WOM-3FRI'),\n",
       " Timestamp('2012-03-16 00:00:00', freq='WOM-3FRI'),\n",
       " Timestamp('2012-04-20 00:00:00', freq='WOM-3FRI'),\n",
       " Timestamp('2012-05-18 00:00:00', freq='WOM-3FRI'),\n",
       " Timestamp('2012-06-15 00:00:00', freq='WOM-3FRI'),\n",
       " Timestamp('2012-07-20 00:00:00', freq='WOM-3FRI'),\n",
       " Timestamp('2012-08-17 00:00:00', freq='WOM-3FRI')]"
      ]
     },
     "execution_count": 82,
     "metadata": {},
     "output_type": "execute_result"
    }
   ],
   "source": [
    "list(rng)"
   ]
  },
  {
   "cell_type": "markdown",
   "metadata": {},
   "source": [
    "<p style=\"color:blue; font-size:18px;\">Deslocamento de datas(Adiantando e atrasando)</p>"
   ]
  },
  {
   "cell_type": "code",
   "execution_count": 83,
   "metadata": {},
   "outputs": [],
   "source": [
    "ts = pd.Series(np.random.randn(4), index=pd.date_range('1/1/2000', periods=4, freq='M'))"
   ]
  },
  {
   "cell_type": "code",
   "execution_count": 84,
   "metadata": {},
   "outputs": [
    {
     "data": {
      "text/plain": [
       "2000-01-31    0.778217\n",
       "2000-02-29   -1.410520\n",
       "2000-03-31    1.616610\n",
       "2000-04-30   -1.412983\n",
       "Freq: M, dtype: float64"
      ]
     },
     "execution_count": 84,
     "metadata": {},
     "output_type": "execute_result"
    }
   ],
   "source": [
    "ts"
   ]
  },
  {
   "cell_type": "code",
   "execution_count": 85,
   "metadata": {},
   "outputs": [
    {
     "data": {
      "text/plain": [
       "2000-01-31         NaN\n",
       "2000-02-29         NaN\n",
       "2000-03-31    0.778217\n",
       "2000-04-30   -1.410520\n",
       "Freq: M, dtype: float64"
      ]
     },
     "execution_count": 85,
     "metadata": {},
     "output_type": "execute_result"
    }
   ],
   "source": [
    "ts.shift(2)"
   ]
  },
  {
   "cell_type": "code",
   "execution_count": 86,
   "metadata": {},
   "outputs": [
    {
     "data": {
      "text/plain": [
       "2000-01-31    1.616610\n",
       "2000-02-29   -1.412983\n",
       "2000-03-31         NaN\n",
       "2000-04-30         NaN\n",
       "Freq: M, dtype: float64"
      ]
     },
     "execution_count": 86,
     "metadata": {},
     "output_type": "execute_result"
    }
   ],
   "source": [
    "ts.shift(-2)"
   ]
  },
  {
   "cell_type": "code",
   "execution_count": 87,
   "metadata": {},
   "outputs": [
    {
     "data": {
      "text/plain": [
       "2000-03-31    0.778217\n",
       "2000-04-30   -1.410520\n",
       "2000-05-31    1.616610\n",
       "2000-06-30   -1.412983\n",
       "Freq: M, dtype: float64"
      ]
     },
     "execution_count": 87,
     "metadata": {},
     "output_type": "execute_result"
    }
   ],
   "source": [
    "ts.shift(2, freq='M')"
   ]
  },
  {
   "cell_type": "code",
   "execution_count": 88,
   "metadata": {},
   "outputs": [
    {
     "data": {
      "text/plain": [
       "2000-02-03    0.778217\n",
       "2000-03-03   -1.410520\n",
       "2000-04-03    1.616610\n",
       "2000-05-03   -1.412983\n",
       "dtype: float64"
      ]
     },
     "execution_count": 88,
     "metadata": {},
     "output_type": "execute_result"
    }
   ],
   "source": [
    "ts.shift(3, freq='D')"
   ]
  },
  {
   "cell_type": "code",
   "execution_count": 89,
   "metadata": {},
   "outputs": [
    {
     "data": {
      "text/plain": [
       "2000-01-31 01:30:00    0.778217\n",
       "2000-02-29 01:30:00   -1.410520\n",
       "2000-03-31 01:30:00    1.616610\n",
       "2000-04-30 01:30:00   -1.412983\n",
       "Freq: M, dtype: float64"
      ]
     },
     "execution_count": 89,
     "metadata": {},
     "output_type": "execute_result"
    }
   ],
   "source": [
    "ts.shift(1, freq='90T')"
   ]
  },
  {
   "cell_type": "markdown",
   "metadata": {},
   "source": [
    "<p style=\"color:blue; font-size:18px;\">Deslocamento de datas com offsets</p>\n",
    "<p style=\"color:red; font-size:10px;\">pg 411</p>"
   ]
  },
  {
   "cell_type": "code",
   "execution_count": 90,
   "metadata": {},
   "outputs": [],
   "source": [
    "from pandas.tseries.offsets import Day, MonthEnd"
   ]
  },
  {
   "cell_type": "code",
   "execution_count": 91,
   "metadata": {},
   "outputs": [],
   "source": [
    "now = datetime(2011, 11, 17)"
   ]
  },
  {
   "cell_type": "code",
   "execution_count": 92,
   "metadata": {},
   "outputs": [
    {
     "data": {
      "text/plain": [
       "Timestamp('2011-11-20 00:00:00')"
      ]
     },
     "execution_count": 92,
     "metadata": {},
     "output_type": "execute_result"
    }
   ],
   "source": [
    "now + 3 * Day()"
   ]
  },
  {
   "cell_type": "code",
   "execution_count": 93,
   "metadata": {},
   "outputs": [
    {
     "data": {
      "text/plain": [
       "Timestamp('2011-11-30 00:00:00')"
      ]
     },
     "execution_count": 93,
     "metadata": {},
     "output_type": "execute_result"
    }
   ],
   "source": [
    "now + MonthEnd()"
   ]
  },
  {
   "cell_type": "code",
   "execution_count": 94,
   "metadata": {},
   "outputs": [
    {
     "data": {
      "text/plain": [
       "Timestamp('2011-12-31 00:00:00')"
      ]
     },
     "execution_count": 94,
     "metadata": {},
     "output_type": "execute_result"
    }
   ],
   "source": [
    "now + MonthEnd(2)"
   ]
  },
  {
   "cell_type": "code",
   "execution_count": 95,
   "metadata": {},
   "outputs": [],
   "source": [
    "offset = MonthEnd()"
   ]
  },
  {
   "cell_type": "code",
   "execution_count": 96,
   "metadata": {},
   "outputs": [
    {
     "data": {
      "text/plain": [
       "Timestamp('2011-11-30 00:00:00')"
      ]
     },
     "execution_count": 96,
     "metadata": {},
     "output_type": "execute_result"
    }
   ],
   "source": [
    "offset.rollforward(now)"
   ]
  },
  {
   "cell_type": "code",
   "execution_count": 97,
   "metadata": {},
   "outputs": [
    {
     "data": {
      "text/plain": [
       "Timestamp('2011-10-31 00:00:00')"
      ]
     },
     "execution_count": 97,
     "metadata": {},
     "output_type": "execute_result"
    }
   ],
   "source": [
    "offset.rollback(now)"
   ]
  },
  {
   "cell_type": "code",
   "execution_count": 98,
   "metadata": {},
   "outputs": [],
   "source": [
    "ts = pd.Series(np.random.randn(20),\n",
    "              index=pd.date_range('1/15/2000', periods=20, freq='4d'))"
   ]
  },
  {
   "cell_type": "code",
   "execution_count": 99,
   "metadata": {},
   "outputs": [
    {
     "data": {
      "text/plain": [
       "2000-01-15   -1.231178\n",
       "2000-01-19    0.129627\n",
       "2000-01-23    0.829234\n",
       "2000-01-27   -0.258663\n",
       "2000-01-31   -0.643263\n",
       "2000-02-04    1.070066\n",
       "2000-02-08   -0.667897\n",
       "2000-02-12    0.256296\n",
       "2000-02-16   -1.134145\n",
       "2000-02-20    0.432981\n",
       "2000-02-24   -0.685664\n",
       "2000-02-28    1.155972\n",
       "2000-03-03   -0.835249\n",
       "2000-03-07    0.690320\n",
       "2000-03-11    1.264485\n",
       "2000-03-15   -1.202601\n",
       "2000-03-19   -0.029935\n",
       "2000-03-23    0.841773\n",
       "2000-03-27    2.224416\n",
       "2000-03-31   -1.398528\n",
       "Freq: 4D, dtype: float64"
      ]
     },
     "execution_count": 99,
     "metadata": {},
     "output_type": "execute_result"
    }
   ],
   "source": [
    "ts"
   ]
  },
  {
   "cell_type": "code",
   "execution_count": 100,
   "metadata": {},
   "outputs": [
    {
     "data": {
      "text/plain": [
       "2000-01-31   -0.234848\n",
       "2000-02-29    0.061087\n",
       "2000-03-31    0.194335\n",
       "dtype: float64"
      ]
     },
     "execution_count": 100,
     "metadata": {},
     "output_type": "execute_result"
    }
   ],
   "source": [
    "ts.groupby(offset.rollforward).mean()"
   ]
  },
  {
   "cell_type": "code",
   "execution_count": 101,
   "metadata": {},
   "outputs": [
    {
     "data": {
      "text/plain": [
       "2000-01-31   -0.234848\n",
       "2000-02-29    0.061087\n",
       "2000-03-31    0.194335\n",
       "Freq: M, dtype: float64"
      ]
     },
     "execution_count": 101,
     "metadata": {},
     "output_type": "execute_result"
    }
   ],
   "source": [
    "ts.resample('M').mean()"
   ]
  },
  {
   "cell_type": "code",
   "execution_count": 102,
   "metadata": {},
   "outputs": [],
   "source": [
    "import pytz"
   ]
  },
  {
   "cell_type": "code",
   "execution_count": 103,
   "metadata": {},
   "outputs": [
    {
     "data": {
      "text/plain": [
       "['US/Eastern', 'US/Hawaii', 'US/Mountain', 'US/Pacific', 'UTC']"
      ]
     },
     "execution_count": 103,
     "metadata": {},
     "output_type": "execute_result"
    }
   ],
   "source": [
    "pytz.common_timezones[-5:]"
   ]
  },
  {
   "cell_type": "code",
   "execution_count": 104,
   "metadata": {},
   "outputs": [],
   "source": [
    "tz = pytz.timezone('America/New_York')"
   ]
  },
  {
   "cell_type": "code",
   "execution_count": 105,
   "metadata": {},
   "outputs": [
    {
     "data": {
      "text/plain": [
       "<DstTzInfo 'America/New_York' LMT-1 day, 19:04:00 STD>"
      ]
     },
     "execution_count": 105,
     "metadata": {},
     "output_type": "execute_result"
    }
   ],
   "source": [
    "tz"
   ]
  },
  {
   "cell_type": "markdown",
   "metadata": {},
   "source": [
    "<p style=\"color:blue; font-size:18px;\">Localização e conversão dos fusos horários</p>\n",
    "<p style=\"color:red; font-size:10px;\">pg 414</p>"
   ]
  },
  {
   "cell_type": "code",
   "execution_count": 106,
   "metadata": {},
   "outputs": [],
   "source": [
    "rng = pd.date_range('3/9/2012 9:30', periods=6, freq='D')"
   ]
  },
  {
   "cell_type": "code",
   "execution_count": 107,
   "metadata": {},
   "outputs": [],
   "source": [
    "ts = pd.Series(np.random.randn(len(rng)), index=rng)"
   ]
  },
  {
   "cell_type": "code",
   "execution_count": 108,
   "metadata": {},
   "outputs": [
    {
     "data": {
      "text/plain": [
       "2012-03-09 09:30:00   -0.001918\n",
       "2012-03-10 09:30:00   -0.494703\n",
       "2012-03-11 09:30:00   -0.017077\n",
       "2012-03-12 09:30:00    0.546117\n",
       "2012-03-13 09:30:00    0.207323\n",
       "2012-03-14 09:30:00    1.427859\n",
       "Freq: D, dtype: float64"
      ]
     },
     "execution_count": 108,
     "metadata": {},
     "output_type": "execute_result"
    }
   ],
   "source": [
    "ts"
   ]
  },
  {
   "cell_type": "code",
   "execution_count": 109,
   "metadata": {},
   "outputs": [
    {
     "name": "stdout",
     "output_type": "stream",
     "text": [
      "None\n"
     ]
    }
   ],
   "source": [
    "print(ts.index.tz)"
   ]
  },
  {
   "cell_type": "code",
   "execution_count": 110,
   "metadata": {},
   "outputs": [
    {
     "data": {
      "text/plain": [
       "DatetimeIndex(['2012-03-09 09:30:00+00:00', '2012-03-10 09:30:00+00:00',\n",
       "               '2012-03-11 09:30:00+00:00', '2012-03-12 09:30:00+00:00',\n",
       "               '2012-03-13 09:30:00+00:00', '2012-03-14 09:30:00+00:00',\n",
       "               '2012-03-15 09:30:00+00:00', '2012-03-16 09:30:00+00:00',\n",
       "               '2012-03-17 09:30:00+00:00', '2012-03-18 09:30:00+00:00'],\n",
       "              dtype='datetime64[ns, UTC]', freq='D')"
      ]
     },
     "execution_count": 110,
     "metadata": {},
     "output_type": "execute_result"
    }
   ],
   "source": [
    "pd.date_range('3/9/2012 9:30', periods=10, freq='D', tz='UTC')"
   ]
  },
  {
   "cell_type": "code",
   "execution_count": 111,
   "metadata": {},
   "outputs": [
    {
     "data": {
      "text/plain": [
       "2012-03-09 09:30:00   -0.001918\n",
       "2012-03-10 09:30:00   -0.494703\n",
       "2012-03-11 09:30:00   -0.017077\n",
       "2012-03-12 09:30:00    0.546117\n",
       "2012-03-13 09:30:00    0.207323\n",
       "2012-03-14 09:30:00    1.427859\n",
       "Freq: D, dtype: float64"
      ]
     },
     "execution_count": 111,
     "metadata": {},
     "output_type": "execute_result"
    }
   ],
   "source": [
    "ts"
   ]
  },
  {
   "cell_type": "code",
   "execution_count": 112,
   "metadata": {},
   "outputs": [],
   "source": [
    "ts_utc = ts.tz_localize('UTC')"
   ]
  },
  {
   "cell_type": "code",
   "execution_count": 113,
   "metadata": {},
   "outputs": [
    {
     "data": {
      "text/plain": [
       "2012-03-09 09:30:00+00:00   -0.001918\n",
       "2012-03-10 09:30:00+00:00   -0.494703\n",
       "2012-03-11 09:30:00+00:00   -0.017077\n",
       "2012-03-12 09:30:00+00:00    0.546117\n",
       "2012-03-13 09:30:00+00:00    0.207323\n",
       "2012-03-14 09:30:00+00:00    1.427859\n",
       "Freq: D, dtype: float64"
      ]
     },
     "execution_count": 113,
     "metadata": {},
     "output_type": "execute_result"
    }
   ],
   "source": [
    "ts_utc"
   ]
  },
  {
   "cell_type": "code",
   "execution_count": 114,
   "metadata": {},
   "outputs": [
    {
     "data": {
      "text/plain": [
       "DatetimeIndex(['2012-03-09 09:30:00+00:00', '2012-03-10 09:30:00+00:00',\n",
       "               '2012-03-11 09:30:00+00:00', '2012-03-12 09:30:00+00:00',\n",
       "               '2012-03-13 09:30:00+00:00', '2012-03-14 09:30:00+00:00'],\n",
       "              dtype='datetime64[ns, UTC]', freq='D')"
      ]
     },
     "execution_count": 114,
     "metadata": {},
     "output_type": "execute_result"
    }
   ],
   "source": [
    "ts_utc.index"
   ]
  },
  {
   "cell_type": "code",
   "execution_count": 115,
   "metadata": {},
   "outputs": [
    {
     "data": {
      "text/plain": [
       "2012-03-09 04:30:00-05:00   -0.001918\n",
       "2012-03-10 04:30:00-05:00   -0.494703\n",
       "2012-03-11 05:30:00-04:00   -0.017077\n",
       "2012-03-12 05:30:00-04:00    0.546117\n",
       "2012-03-13 05:30:00-04:00    0.207323\n",
       "2012-03-14 05:30:00-04:00    1.427859\n",
       "Freq: D, dtype: float64"
      ]
     },
     "execution_count": 115,
     "metadata": {},
     "output_type": "execute_result"
    }
   ],
   "source": [
    "ts_utc.tz_convert('America/New_York')"
   ]
  },
  {
   "cell_type": "code",
   "execution_count": 116,
   "metadata": {},
   "outputs": [],
   "source": [
    " ts_eastern = ts.tz_localize('America/New_York')"
   ]
  },
  {
   "cell_type": "code",
   "execution_count": 117,
   "metadata": {},
   "outputs": [
    {
     "data": {
      "text/plain": [
       "2012-03-09 15:30:00+01:00   -0.001918\n",
       "2012-03-10 15:30:00+01:00   -0.494703\n",
       "2012-03-11 14:30:00+01:00   -0.017077\n",
       "2012-03-12 14:30:00+01:00    0.546117\n",
       "2012-03-13 14:30:00+01:00    0.207323\n",
       "2012-03-14 14:30:00+01:00    1.427859\n",
       "Freq: D, dtype: float64"
      ]
     },
     "execution_count": 117,
     "metadata": {},
     "output_type": "execute_result"
    }
   ],
   "source": [
    "ts_eastern.tz_convert('Europe/Berlin')"
   ]
  },
  {
   "cell_type": "code",
   "execution_count": 117,
   "metadata": {},
   "outputs": [
    {
     "data": {
      "text/plain": [
       "DatetimeIndex(['2012-03-09 09:30:00+08:00', '2012-03-10 09:30:00+08:00',\n",
       "               '2012-03-11 09:30:00+08:00', '2012-03-12 09:30:00+08:00',\n",
       "               '2012-03-13 09:30:00+08:00', '2012-03-14 09:30:00+08:00'],\n",
       "              dtype='datetime64[ns, Asia/Shanghai]', freq='D')"
      ]
     },
     "execution_count": 117,
     "metadata": {},
     "output_type": "execute_result"
    }
   ],
   "source": [
    "ts.index.tz_localize('Asia/Shanghai')"
   ]
  },
  {
   "cell_type": "markdown",
   "metadata": {},
   "source": [
    "<p style=\"color:blue; font-size:18px;\">Operações com objetos Timestamp que consideram fusos horários</p>\n",
    "<p style=\"color:red; font-size:10px;\">pg 417</p>"
   ]
  },
  {
   "cell_type": "code",
   "execution_count": 118,
   "metadata": {},
   "outputs": [],
   "source": [
    "stamp = pd.Timestamp('2011-03-12 04:00')"
   ]
  },
  {
   "cell_type": "code",
   "execution_count": 119,
   "metadata": {},
   "outputs": [],
   "source": [
    "stamp_utc = stamp.tz_localize('utc')"
   ]
  },
  {
   "cell_type": "code",
   "execution_count": 120,
   "metadata": {},
   "outputs": [
    {
     "data": {
      "text/plain": [
       "Timestamp('2011-03-11 23:00:00-0500', tz='America/New_York')"
      ]
     },
     "execution_count": 120,
     "metadata": {},
     "output_type": "execute_result"
    }
   ],
   "source": [
    "stamp_utc.tz_convert('America/New_York')"
   ]
  },
  {
   "cell_type": "code",
   "execution_count": 121,
   "metadata": {},
   "outputs": [],
   "source": [
    "stamp_moscow = pd.Timestamp('2011-03-12 04:00', tz='Europe/Moscow')"
   ]
  },
  {
   "cell_type": "code",
   "execution_count": 122,
   "metadata": {},
   "outputs": [
    {
     "data": {
      "text/plain": [
       "Timestamp('2011-03-12 04:00:00+0300', tz='Europe/Moscow')"
      ]
     },
     "execution_count": 122,
     "metadata": {},
     "output_type": "execute_result"
    }
   ],
   "source": [
    "stamp_moscow"
   ]
  },
  {
   "cell_type": "code",
   "execution_count": 123,
   "metadata": {},
   "outputs": [
    {
     "data": {
      "text/plain": [
       "1299902400000000000"
      ]
     },
     "execution_count": 123,
     "metadata": {},
     "output_type": "execute_result"
    }
   ],
   "source": [
    "stamp_utc.value"
   ]
  },
  {
   "cell_type": "code",
   "execution_count": 124,
   "metadata": {},
   "outputs": [
    {
     "data": {
      "text/plain": [
       "1299902400000000000"
      ]
     },
     "execution_count": 124,
     "metadata": {},
     "output_type": "execute_result"
    }
   ],
   "source": [
    "stamp_utc.tz_convert('America/New_York').value"
   ]
  },
  {
   "cell_type": "code",
   "execution_count": 125,
   "metadata": {},
   "outputs": [],
   "source": [
    "from pandas.tseries.offsets import Hour"
   ]
  },
  {
   "cell_type": "code",
   "execution_count": 126,
   "metadata": {},
   "outputs": [],
   "source": [
    "stamp = pd.Timestamp('2012-03-12 01:30:00-0400', tz='US/Eastern')"
   ]
  },
  {
   "cell_type": "code",
   "execution_count": 127,
   "metadata": {},
   "outputs": [
    {
     "data": {
      "text/plain": [
       "Timestamp('2012-03-12 01:30:00-0400', tz='US/Eastern')"
      ]
     },
     "execution_count": 127,
     "metadata": {},
     "output_type": "execute_result"
    }
   ],
   "source": [
    "stamp"
   ]
  },
  {
   "cell_type": "code",
   "execution_count": 128,
   "metadata": {},
   "outputs": [
    {
     "data": {
      "text/plain": [
       "Timestamp('2012-03-12 02:30:00-0400', tz='US/Eastern')"
      ]
     },
     "execution_count": 128,
     "metadata": {},
     "output_type": "execute_result"
    }
   ],
   "source": [
    "stamp + Hour()"
   ]
  },
  {
   "cell_type": "code",
   "execution_count": 129,
   "metadata": {},
   "outputs": [],
   "source": [
    "stamp = pd.Timestamp('2012-11-04 00:30', tz='US/Eastern')"
   ]
  },
  {
   "cell_type": "code",
   "execution_count": 130,
   "metadata": {},
   "outputs": [
    {
     "data": {
      "text/plain": [
       "Timestamp('2012-11-04 00:30:00-0400', tz='US/Eastern')"
      ]
     },
     "execution_count": 130,
     "metadata": {},
     "output_type": "execute_result"
    }
   ],
   "source": [
    "stamp"
   ]
  },
  {
   "cell_type": "code",
   "execution_count": 131,
   "metadata": {},
   "outputs": [
    {
     "data": {
      "text/plain": [
       "Timestamp('2012-11-04 01:30:00-0500', tz='US/Eastern')"
      ]
     },
     "execution_count": 131,
     "metadata": {},
     "output_type": "execute_result"
    }
   ],
   "source": [
    "stamp + 2 * Hour()"
   ]
  },
  {
   "cell_type": "markdown",
   "metadata": {},
   "source": [
    "<p style=\"color:blue; font-size:18px;\">Operações entre fusos horários diferentes</p>\n",
    "<p style=\"color:red; font-size:10px;\">pg 418</p>"
   ]
  },
  {
   "cell_type": "code",
   "execution_count": 132,
   "metadata": {},
   "outputs": [],
   "source": [
    "rng = pd.date_range('3/7/2012 09:30', periods=10, freq='B')"
   ]
  },
  {
   "cell_type": "code",
   "execution_count": 133,
   "metadata": {},
   "outputs": [],
   "source": [
    "ts = pd.Series(np.random.randn(len(rng)), index=rng)"
   ]
  },
  {
   "cell_type": "code",
   "execution_count": 134,
   "metadata": {},
   "outputs": [
    {
     "data": {
      "text/plain": [
       "2012-03-07 09:30:00   -0.724120\n",
       "2012-03-08 09:30:00   -1.011030\n",
       "2012-03-09 09:30:00   -0.946199\n",
       "2012-03-12 09:30:00   -1.918024\n",
       "2012-03-13 09:30:00    0.634663\n",
       "2012-03-14 09:30:00   -0.397561\n",
       "2012-03-15 09:30:00    0.467241\n",
       "2012-03-16 09:30:00   -0.894440\n",
       "2012-03-19 09:30:00   -0.458609\n",
       "2012-03-20 09:30:00   -0.702037\n",
       "Freq: B, dtype: float64"
      ]
     },
     "execution_count": 134,
     "metadata": {},
     "output_type": "execute_result"
    }
   ],
   "source": [
    "ts"
   ]
  },
  {
   "cell_type": "code",
   "execution_count": 135,
   "metadata": {},
   "outputs": [
    {
     "data": {
      "text/plain": [
       "2012-03-07 09:30:00+00:00   -0.724120\n",
       "2012-03-08 09:30:00+00:00   -1.011030\n",
       "2012-03-09 09:30:00+00:00   -0.946199\n",
       "2012-03-12 09:30:00+00:00   -1.918024\n",
       "2012-03-13 09:30:00+00:00    0.634663\n",
       "2012-03-14 09:30:00+00:00   -0.397561\n",
       "2012-03-15 09:30:00+00:00    0.467241\n",
       "Freq: B, dtype: float64"
      ]
     },
     "execution_count": 135,
     "metadata": {},
     "output_type": "execute_result"
    }
   ],
   "source": [
    "ts1 = ts[:7].tz_localize('Europe/London')\n",
    "ts1"
   ]
  },
  {
   "cell_type": "code",
   "execution_count": 136,
   "metadata": {},
   "outputs": [
    {
     "data": {
      "text/plain": [
       "2012-03-09 13:30:00+04:00   -0.946199\n",
       "2012-03-12 13:30:00+04:00   -1.918024\n",
       "2012-03-13 13:30:00+04:00    0.634663\n",
       "2012-03-14 13:30:00+04:00   -0.397561\n",
       "2012-03-15 13:30:00+04:00    0.467241\n",
       "Freq: B, dtype: float64"
      ]
     },
     "execution_count": 136,
     "metadata": {},
     "output_type": "execute_result"
    }
   ],
   "source": [
    "ts2 = ts1[2:].tz_convert('Europe/Moscow')\n",
    "ts2"
   ]
  },
  {
   "cell_type": "code",
   "execution_count": 137,
   "metadata": {},
   "outputs": [],
   "source": [
    "result = ts1 + ts2"
   ]
  },
  {
   "cell_type": "code",
   "execution_count": 138,
   "metadata": {},
   "outputs": [
    {
     "data": {
      "text/plain": [
       "DatetimeIndex(['2012-03-07 09:30:00+00:00', '2012-03-08 09:30:00+00:00',\n",
       "               '2012-03-09 09:30:00+00:00', '2012-03-12 09:30:00+00:00',\n",
       "               '2012-03-13 09:30:00+00:00', '2012-03-14 09:30:00+00:00',\n",
       "               '2012-03-15 09:30:00+00:00'],\n",
       "              dtype='datetime64[ns, UTC]', freq='B')"
      ]
     },
     "execution_count": 138,
     "metadata": {},
     "output_type": "execute_result"
    }
   ],
   "source": [
    "result.index"
   ]
  },
  {
   "cell_type": "markdown",
   "metadata": {},
   "source": [
    "<p style=\"color:blue; font-size:18px;\">Períodos e aritmética com períodos</p>\n",
    "<p style=\"color:red; font-size:10px;\">pg 419</p>"
   ]
  },
  {
   "cell_type": "code",
   "execution_count": 139,
   "metadata": {},
   "outputs": [],
   "source": [
    "p = pd.Period(2007, freq='A-DEC')"
   ]
  },
  {
   "cell_type": "code",
   "execution_count": 140,
   "metadata": {},
   "outputs": [
    {
     "data": {
      "text/plain": [
       "Period('2007', 'A-DEC')"
      ]
     },
     "execution_count": 140,
     "metadata": {},
     "output_type": "execute_result"
    }
   ],
   "source": [
    "p"
   ]
  },
  {
   "cell_type": "code",
   "execution_count": 141,
   "metadata": {},
   "outputs": [
    {
     "data": {
      "text/plain": [
       "Period('2012', 'A-DEC')"
      ]
     },
     "execution_count": 141,
     "metadata": {},
     "output_type": "execute_result"
    }
   ],
   "source": [
    "p + 5"
   ]
  },
  {
   "cell_type": "code",
   "execution_count": 142,
   "metadata": {},
   "outputs": [
    {
     "data": {
      "text/plain": [
       "Period('2005', 'A-DEC')"
      ]
     },
     "execution_count": 142,
     "metadata": {},
     "output_type": "execute_result"
    }
   ],
   "source": [
    "p - 2"
   ]
  },
  {
   "cell_type": "code",
   "execution_count": 143,
   "metadata": {},
   "outputs": [
    {
     "data": {
      "text/plain": [
       "<7 * YearEnds: month=12>"
      ]
     },
     "execution_count": 143,
     "metadata": {},
     "output_type": "execute_result"
    }
   ],
   "source": [
    "pd.Period('2014', freq='A-DEC') - p"
   ]
  },
  {
   "cell_type": "code",
   "execution_count": 144,
   "metadata": {},
   "outputs": [],
   "source": [
    "rng = pd.period_range('2000-01-01', '2000-06-30', freq='M')"
   ]
  },
  {
   "cell_type": "code",
   "execution_count": 145,
   "metadata": {},
   "outputs": [
    {
     "data": {
      "text/plain": [
       "PeriodIndex(['2000-01', '2000-02', '2000-03', '2000-04', '2000-05', '2000-06'], dtype='period[M]', freq='M')"
      ]
     },
     "execution_count": 145,
     "metadata": {},
     "output_type": "execute_result"
    }
   ],
   "source": [
    "rng"
   ]
  },
  {
   "cell_type": "code",
   "execution_count": 146,
   "metadata": {},
   "outputs": [
    {
     "data": {
      "text/plain": [
       "2000-01    0.737478\n",
       "2000-02   -0.756060\n",
       "2000-03    0.272292\n",
       "2000-04   -0.835025\n",
       "2000-05   -0.190714\n",
       "2000-06    0.360462\n",
       "Freq: M, dtype: float64"
      ]
     },
     "execution_count": 146,
     "metadata": {},
     "output_type": "execute_result"
    }
   ],
   "source": [
    "pd.Series(np.random.randn(6), index=rng)"
   ]
  },
  {
   "cell_type": "code",
   "execution_count": 147,
   "metadata": {},
   "outputs": [],
   "source": [
    "values = ['2001Q3', '2002Q2', '2003Q1']"
   ]
  },
  {
   "cell_type": "code",
   "execution_count": 148,
   "metadata": {},
   "outputs": [],
   "source": [
    "index = pd.PeriodIndex(values, freq='Q-DEC')"
   ]
  },
  {
   "cell_type": "code",
   "execution_count": 149,
   "metadata": {},
   "outputs": [
    {
     "data": {
      "text/plain": [
       "PeriodIndex(['2001Q3', '2002Q2', '2003Q1'], dtype='period[Q-DEC]', freq='Q-DEC')"
      ]
     },
     "execution_count": 149,
     "metadata": {},
     "output_type": "execute_result"
    }
   ],
   "source": [
    "index"
   ]
  },
  {
   "cell_type": "markdown",
   "metadata": {},
   "source": [
    "<p style=\"color:blue; font-size:18px;\">Conversão de frequência de períodos</p>\n",
    "<p style=\"color:red; font-size:10px;\">pg 420</p>"
   ]
  },
  {
   "cell_type": "code",
   "execution_count": 150,
   "metadata": {},
   "outputs": [],
   "source": [
    "p = pd.Period('2007', freq='A-DEC')"
   ]
  },
  {
   "cell_type": "code",
   "execution_count": 151,
   "metadata": {},
   "outputs": [
    {
     "data": {
      "text/plain": [
       "Period('2007', 'A-DEC')"
      ]
     },
     "execution_count": 151,
     "metadata": {},
     "output_type": "execute_result"
    }
   ],
   "source": [
    "p"
   ]
  },
  {
   "cell_type": "code",
   "execution_count": 152,
   "metadata": {},
   "outputs": [
    {
     "data": {
      "text/plain": [
       "Period('2007-01', 'M')"
      ]
     },
     "execution_count": 152,
     "metadata": {},
     "output_type": "execute_result"
    }
   ],
   "source": [
    "p.asfreq('M', how='start')"
   ]
  },
  {
   "cell_type": "code",
   "execution_count": 153,
   "metadata": {},
   "outputs": [
    {
     "data": {
      "text/plain": [
       "Period('2007-12', 'M')"
      ]
     },
     "execution_count": 153,
     "metadata": {},
     "output_type": "execute_result"
    }
   ],
   "source": [
    "p.asfreq('M', how='end')"
   ]
  },
  {
   "cell_type": "code",
   "execution_count": 154,
   "metadata": {},
   "outputs": [],
   "source": [
    "p = pd.Period('Aug-2007', 'M')"
   ]
  },
  {
   "cell_type": "code",
   "execution_count": 155,
   "metadata": {},
   "outputs": [
    {
     "data": {
      "text/plain": [
       "Period('2008', 'A-JUN')"
      ]
     },
     "execution_count": 155,
     "metadata": {},
     "output_type": "execute_result"
    }
   ],
   "source": [
    "p.asfreq('A-JUN')"
   ]
  },
  {
   "cell_type": "code",
   "execution_count": 156,
   "metadata": {},
   "outputs": [],
   "source": [
    "rng = pd.period_range('2006', '2009', freq='A-DEC')"
   ]
  },
  {
   "cell_type": "code",
   "execution_count": 157,
   "metadata": {},
   "outputs": [],
   "source": [
    "ts = pd.Series(np.random.randn(len(rng)), index=rng)"
   ]
  },
  {
   "cell_type": "code",
   "execution_count": 158,
   "metadata": {},
   "outputs": [
    {
     "data": {
      "text/plain": [
       "2006    0.726951\n",
       "2007   -0.182219\n",
       "2008    0.353752\n",
       "2009   -0.635277\n",
       "Freq: A-DEC, dtype: float64"
      ]
     },
     "execution_count": 158,
     "metadata": {},
     "output_type": "execute_result"
    }
   ],
   "source": [
    "ts"
   ]
  },
  {
   "cell_type": "code",
   "execution_count": 159,
   "metadata": {},
   "outputs": [
    {
     "data": {
      "text/plain": [
       "2006-01    0.726951\n",
       "2007-01   -0.182219\n",
       "2008-01    0.353752\n",
       "2009-01   -0.635277\n",
       "Freq: M, dtype: float64"
      ]
     },
     "execution_count": 159,
     "metadata": {},
     "output_type": "execute_result"
    }
   ],
   "source": [
    "ts.asfreq('M', how='start')"
   ]
  },
  {
   "cell_type": "markdown",
   "metadata": {},
   "source": [
    "<p style=\"color:blue; font-size:18px;\">Frequência de período trimestrais</p>\n",
    "<p style=\"color:red; font-size:10px;\">pg 422</p>"
   ]
  },
  {
   "cell_type": "code",
   "execution_count": 160,
   "metadata": {},
   "outputs": [],
   "source": [
    "p = pd.Period('2012Q4', freq='Q-JAN')"
   ]
  },
  {
   "cell_type": "code",
   "execution_count": 161,
   "metadata": {},
   "outputs": [
    {
     "data": {
      "text/plain": [
       "Period('2012Q4', 'Q-JAN')"
      ]
     },
     "execution_count": 161,
     "metadata": {},
     "output_type": "execute_result"
    }
   ],
   "source": [
    "p"
   ]
  },
  {
   "cell_type": "code",
   "execution_count": 162,
   "metadata": {},
   "outputs": [
    {
     "data": {
      "text/plain": [
       "Period('2011-11-01', 'D')"
      ]
     },
     "execution_count": 162,
     "metadata": {},
     "output_type": "execute_result"
    }
   ],
   "source": [
    "p.asfreq('D', 'start')"
   ]
  },
  {
   "cell_type": "code",
   "execution_count": 163,
   "metadata": {},
   "outputs": [
    {
     "data": {
      "text/plain": [
       "Period('2012-01-31', 'D')"
      ]
     },
     "execution_count": 163,
     "metadata": {},
     "output_type": "execute_result"
    }
   ],
   "source": [
    "p.asfreq('D', 'end')"
   ]
  },
  {
   "cell_type": "code",
   "execution_count": 164,
   "metadata": {},
   "outputs": [],
   "source": [
    "p4pm = (p.asfreq('B', 'e') -1).asfreq('T', 's') + 16 * 60"
   ]
  },
  {
   "cell_type": "code",
   "execution_count": 165,
   "metadata": {},
   "outputs": [
    {
     "data": {
      "text/plain": [
       "Period('2012-01-30 16:00', 'T')"
      ]
     },
     "execution_count": 165,
     "metadata": {},
     "output_type": "execute_result"
    }
   ],
   "source": [
    "p4pm"
   ]
  },
  {
   "cell_type": "code",
   "execution_count": 166,
   "metadata": {},
   "outputs": [
    {
     "data": {
      "text/plain": [
       "Timestamp('2012-01-30 16:00:00')"
      ]
     },
     "execution_count": 166,
     "metadata": {},
     "output_type": "execute_result"
    }
   ],
   "source": [
    "p4pm.to_timestamp()"
   ]
  },
  {
   "cell_type": "code",
   "execution_count": 167,
   "metadata": {},
   "outputs": [],
   "source": [
    "ts = pd.Series(np.arange(len(rng)), index=rng)"
   ]
  },
  {
   "cell_type": "code",
   "execution_count": 168,
   "metadata": {},
   "outputs": [
    {
     "data": {
      "text/plain": [
       "2006    0\n",
       "2007    1\n",
       "2008    2\n",
       "2009    3\n",
       "Freq: A-DEC, dtype: int32"
      ]
     },
     "execution_count": 168,
     "metadata": {},
     "output_type": "execute_result"
    }
   ],
   "source": [
    "ts"
   ]
  },
  {
   "cell_type": "code",
   "execution_count": 169,
   "metadata": {},
   "outputs": [],
   "source": [
    "new_rng = (rng.asfreq('B', 'e') -1 ).asfreq('T', 's') + 16 * 60"
   ]
  },
  {
   "cell_type": "code",
   "execution_count": 170,
   "metadata": {},
   "outputs": [],
   "source": [
    "ts.index = new_rng.to_timestamp()"
   ]
  },
  {
   "cell_type": "code",
   "execution_count": 171,
   "metadata": {},
   "outputs": [
    {
     "data": {
      "text/plain": [
       "2006-12-28 16:00:00    0\n",
       "2007-12-28 16:00:00    1\n",
       "2008-12-30 16:00:00    2\n",
       "2009-12-30 16:00:00    3\n",
       "dtype: int32"
      ]
     },
     "execution_count": 171,
     "metadata": {},
     "output_type": "execute_result"
    }
   ],
   "source": [
    "ts"
   ]
  },
  {
   "cell_type": "markdown",
   "metadata": {},
   "source": [
    "<p style=\"color:blue; font-size:18px;\">Convertendo timestamps para vários peripos (e vice-versa)</p>\n",
    "<p style=\"color:red; font-size:10px;\">pg 424</p>"
   ]
  },
  {
   "cell_type": "code",
   "execution_count": 172,
   "metadata": {},
   "outputs": [],
   "source": [
    "rng = pd.date_range('2000-01-01', periods=3, freq='M')"
   ]
  },
  {
   "cell_type": "code",
   "execution_count": 173,
   "metadata": {},
   "outputs": [],
   "source": [
    "ts = pd.Series(np.random.randn(3), index=rng)"
   ]
  },
  {
   "cell_type": "code",
   "execution_count": 174,
   "metadata": {},
   "outputs": [
    {
     "data": {
      "text/plain": [
       "2000-01-31   -0.450779\n",
       "2000-02-29    2.102466\n",
       "2000-03-31    0.023783\n",
       "Freq: M, dtype: float64"
      ]
     },
     "execution_count": 174,
     "metadata": {},
     "output_type": "execute_result"
    }
   ],
   "source": [
    "ts"
   ]
  },
  {
   "cell_type": "code",
   "execution_count": 175,
   "metadata": {},
   "outputs": [],
   "source": [
    "pts = ts.to_period()"
   ]
  },
  {
   "cell_type": "code",
   "execution_count": 176,
   "metadata": {},
   "outputs": [
    {
     "data": {
      "text/plain": [
       "2000-01   -0.450779\n",
       "2000-02    2.102466\n",
       "2000-03    0.023783\n",
       "Freq: M, dtype: float64"
      ]
     },
     "execution_count": 176,
     "metadata": {},
     "output_type": "execute_result"
    }
   ],
   "source": [
    "pts"
   ]
  },
  {
   "cell_type": "code",
   "execution_count": 177,
   "metadata": {},
   "outputs": [],
   "source": [
    "rng = pd.date_range('1/29/2000', periods=6, freq='D')"
   ]
  },
  {
   "cell_type": "code",
   "execution_count": 178,
   "metadata": {},
   "outputs": [],
   "source": [
    "ts2 = pd.Series(np.random.randn(6), index=rng)"
   ]
  },
  {
   "cell_type": "code",
   "execution_count": 179,
   "metadata": {},
   "outputs": [
    {
     "data": {
      "text/plain": [
       "2000-01-29   -0.842303\n",
       "2000-01-30    0.499213\n",
       "2000-01-31    0.396345\n",
       "2000-02-01    1.510699\n",
       "2000-02-02    1.246813\n",
       "2000-02-03    1.272981\n",
       "Freq: D, dtype: float64"
      ]
     },
     "execution_count": 179,
     "metadata": {},
     "output_type": "execute_result"
    }
   ],
   "source": [
    "ts2"
   ]
  },
  {
   "cell_type": "code",
   "execution_count": 180,
   "metadata": {},
   "outputs": [
    {
     "data": {
      "text/plain": [
       "2000-01   -0.842303\n",
       "2000-01    0.499213\n",
       "2000-01    0.396345\n",
       "2000-02    1.510699\n",
       "2000-02    1.246813\n",
       "2000-02    1.272981\n",
       "Freq: M, dtype: float64"
      ]
     },
     "execution_count": 180,
     "metadata": {},
     "output_type": "execute_result"
    }
   ],
   "source": [
    "ts2.to_period('M')"
   ]
  },
  {
   "cell_type": "code",
   "execution_count": 181,
   "metadata": {},
   "outputs": [],
   "source": [
    "pts = ts2.to_period()"
   ]
  },
  {
   "cell_type": "code",
   "execution_count": 182,
   "metadata": {},
   "outputs": [
    {
     "data": {
      "text/plain": [
       "2000-01-29   -0.842303\n",
       "2000-01-30    0.499213\n",
       "2000-01-31    0.396345\n",
       "2000-02-01    1.510699\n",
       "2000-02-02    1.246813\n",
       "2000-02-03    1.272981\n",
       "Freq: D, dtype: float64"
      ]
     },
     "execution_count": 182,
     "metadata": {},
     "output_type": "execute_result"
    }
   ],
   "source": [
    "pts"
   ]
  },
  {
   "cell_type": "code",
   "execution_count": 183,
   "metadata": {},
   "outputs": [
    {
     "data": {
      "text/plain": [
       "2000-01-29 23:59:59.999999999   -0.842303\n",
       "2000-01-30 23:59:59.999999999    0.499213\n",
       "2000-01-31 23:59:59.999999999    0.396345\n",
       "2000-02-01 23:59:59.999999999    1.510699\n",
       "2000-02-02 23:59:59.999999999    1.246813\n",
       "2000-02-03 23:59:59.999999999    1.272981\n",
       "Freq: D, dtype: float64"
      ]
     },
     "execution_count": 183,
     "metadata": {},
     "output_type": "execute_result"
    }
   ],
   "source": [
    "pts.to_timestamp(how='end')"
   ]
  },
  {
   "cell_type": "markdown",
   "metadata": {},
   "source": [
    "<p style=\"color:blue; font-size:18px;\">Criando um PeriodIndex a partir de arrays</p>\n",
    "<p style=\"color:red; font-size:10px;\">pg 426</p>"
   ]
  },
  {
   "cell_type": "code",
   "execution_count": 184,
   "metadata": {},
   "outputs": [],
   "source": [
    "data = pd.read_csv('examples/macrodata.csv')"
   ]
  },
  {
   "cell_type": "code",
   "execution_count": 185,
   "metadata": {},
   "outputs": [
    {
     "data": {
      "text/html": [
       "<div>\n",
       "<style scoped>\n",
       "    .dataframe tbody tr th:only-of-type {\n",
       "        vertical-align: middle;\n",
       "    }\n",
       "\n",
       "    .dataframe tbody tr th {\n",
       "        vertical-align: top;\n",
       "    }\n",
       "\n",
       "    .dataframe thead th {\n",
       "        text-align: right;\n",
       "    }\n",
       "</style>\n",
       "<table border=\"1\" class=\"dataframe\">\n",
       "  <thead>\n",
       "    <tr style=\"text-align: right;\">\n",
       "      <th></th>\n",
       "      <th>year</th>\n",
       "      <th>quarter</th>\n",
       "      <th>realgdp</th>\n",
       "      <th>realcons</th>\n",
       "      <th>realinv</th>\n",
       "      <th>realgovt</th>\n",
       "      <th>realdpi</th>\n",
       "      <th>cpi</th>\n",
       "      <th>m1</th>\n",
       "      <th>tbilrate</th>\n",
       "      <th>unemp</th>\n",
       "      <th>pop</th>\n",
       "      <th>infl</th>\n",
       "      <th>realint</th>\n",
       "    </tr>\n",
       "  </thead>\n",
       "  <tbody>\n",
       "    <tr>\n",
       "      <th>0</th>\n",
       "      <td>1959.0</td>\n",
       "      <td>1.0</td>\n",
       "      <td>2710.349</td>\n",
       "      <td>1707.4</td>\n",
       "      <td>286.898</td>\n",
       "      <td>470.045</td>\n",
       "      <td>1886.9</td>\n",
       "      <td>28.98</td>\n",
       "      <td>139.7</td>\n",
       "      <td>2.82</td>\n",
       "      <td>5.8</td>\n",
       "      <td>177.146</td>\n",
       "      <td>0.00</td>\n",
       "      <td>0.00</td>\n",
       "    </tr>\n",
       "    <tr>\n",
       "      <th>1</th>\n",
       "      <td>1959.0</td>\n",
       "      <td>2.0</td>\n",
       "      <td>2778.801</td>\n",
       "      <td>1733.7</td>\n",
       "      <td>310.859</td>\n",
       "      <td>481.301</td>\n",
       "      <td>1919.7</td>\n",
       "      <td>29.15</td>\n",
       "      <td>141.7</td>\n",
       "      <td>3.08</td>\n",
       "      <td>5.1</td>\n",
       "      <td>177.830</td>\n",
       "      <td>2.34</td>\n",
       "      <td>0.74</td>\n",
       "    </tr>\n",
       "    <tr>\n",
       "      <th>2</th>\n",
       "      <td>1959.0</td>\n",
       "      <td>3.0</td>\n",
       "      <td>2775.488</td>\n",
       "      <td>1751.8</td>\n",
       "      <td>289.226</td>\n",
       "      <td>491.260</td>\n",
       "      <td>1916.4</td>\n",
       "      <td>29.35</td>\n",
       "      <td>140.5</td>\n",
       "      <td>3.82</td>\n",
       "      <td>5.3</td>\n",
       "      <td>178.657</td>\n",
       "      <td>2.74</td>\n",
       "      <td>1.09</td>\n",
       "    </tr>\n",
       "    <tr>\n",
       "      <th>3</th>\n",
       "      <td>1959.0</td>\n",
       "      <td>4.0</td>\n",
       "      <td>2785.204</td>\n",
       "      <td>1753.7</td>\n",
       "      <td>299.356</td>\n",
       "      <td>484.052</td>\n",
       "      <td>1931.3</td>\n",
       "      <td>29.37</td>\n",
       "      <td>140.0</td>\n",
       "      <td>4.33</td>\n",
       "      <td>5.6</td>\n",
       "      <td>179.386</td>\n",
       "      <td>0.27</td>\n",
       "      <td>4.06</td>\n",
       "    </tr>\n",
       "    <tr>\n",
       "      <th>4</th>\n",
       "      <td>1960.0</td>\n",
       "      <td>1.0</td>\n",
       "      <td>2847.699</td>\n",
       "      <td>1770.5</td>\n",
       "      <td>331.722</td>\n",
       "      <td>462.199</td>\n",
       "      <td>1955.5</td>\n",
       "      <td>29.54</td>\n",
       "      <td>139.6</td>\n",
       "      <td>3.50</td>\n",
       "      <td>5.2</td>\n",
       "      <td>180.007</td>\n",
       "      <td>2.31</td>\n",
       "      <td>1.19</td>\n",
       "    </tr>\n",
       "  </tbody>\n",
       "</table>\n",
       "</div>"
      ],
      "text/plain": [
       "     year  quarter   realgdp  realcons  realinv  realgovt  realdpi    cpi  \\\n",
       "0  1959.0      1.0  2710.349    1707.4  286.898   470.045   1886.9  28.98   \n",
       "1  1959.0      2.0  2778.801    1733.7  310.859   481.301   1919.7  29.15   \n",
       "2  1959.0      3.0  2775.488    1751.8  289.226   491.260   1916.4  29.35   \n",
       "3  1959.0      4.0  2785.204    1753.7  299.356   484.052   1931.3  29.37   \n",
       "4  1960.0      1.0  2847.699    1770.5  331.722   462.199   1955.5  29.54   \n",
       "\n",
       "      m1  tbilrate  unemp      pop  infl  realint  \n",
       "0  139.7      2.82    5.8  177.146  0.00     0.00  \n",
       "1  141.7      3.08    5.1  177.830  2.34     0.74  \n",
       "2  140.5      3.82    5.3  178.657  2.74     1.09  \n",
       "3  140.0      4.33    5.6  179.386  0.27     4.06  \n",
       "4  139.6      3.50    5.2  180.007  2.31     1.19  "
      ]
     },
     "execution_count": 185,
     "metadata": {},
     "output_type": "execute_result"
    }
   ],
   "source": [
    "data.head(5)"
   ]
  },
  {
   "cell_type": "code",
   "execution_count": 186,
   "metadata": {},
   "outputs": [
    {
     "data": {
      "text/plain": [
       "0      1959.0\n",
       "1      1959.0\n",
       "2      1959.0\n",
       "3      1959.0\n",
       "4      1960.0\n",
       "5      1960.0\n",
       "6      1960.0\n",
       "7      1960.0\n",
       "8      1961.0\n",
       "9      1961.0\n",
       "10     1961.0\n",
       "11     1961.0\n",
       "12     1962.0\n",
       "13     1962.0\n",
       "14     1962.0\n",
       "15     1962.0\n",
       "16     1963.0\n",
       "17     1963.0\n",
       "18     1963.0\n",
       "19     1963.0\n",
       "20     1964.0\n",
       "21     1964.0\n",
       "22     1964.0\n",
       "23     1964.0\n",
       "24     1965.0\n",
       "25     1965.0\n",
       "26     1965.0\n",
       "27     1965.0\n",
       "28     1966.0\n",
       "29     1966.0\n",
       "        ...  \n",
       "173    2002.0\n",
       "174    2002.0\n",
       "175    2002.0\n",
       "176    2003.0\n",
       "177    2003.0\n",
       "178    2003.0\n",
       "179    2003.0\n",
       "180    2004.0\n",
       "181    2004.0\n",
       "182    2004.0\n",
       "183    2004.0\n",
       "184    2005.0\n",
       "185    2005.0\n",
       "186    2005.0\n",
       "187    2005.0\n",
       "188    2006.0\n",
       "189    2006.0\n",
       "190    2006.0\n",
       "191    2006.0\n",
       "192    2007.0\n",
       "193    2007.0\n",
       "194    2007.0\n",
       "195    2007.0\n",
       "196    2008.0\n",
       "197    2008.0\n",
       "198    2008.0\n",
       "199    2008.0\n",
       "200    2009.0\n",
       "201    2009.0\n",
       "202    2009.0\n",
       "Name: year, Length: 203, dtype: float64"
      ]
     },
     "execution_count": 186,
     "metadata": {},
     "output_type": "execute_result"
    }
   ],
   "source": [
    "data.year"
   ]
  },
  {
   "cell_type": "code",
   "execution_count": 187,
   "metadata": {},
   "outputs": [
    {
     "data": {
      "text/plain": [
       "0      1.0\n",
       "1      2.0\n",
       "2      3.0\n",
       "3      4.0\n",
       "4      1.0\n",
       "5      2.0\n",
       "6      3.0\n",
       "7      4.0\n",
       "8      1.0\n",
       "9      2.0\n",
       "10     3.0\n",
       "11     4.0\n",
       "12     1.0\n",
       "13     2.0\n",
       "14     3.0\n",
       "15     4.0\n",
       "16     1.0\n",
       "17     2.0\n",
       "18     3.0\n",
       "19     4.0\n",
       "20     1.0\n",
       "21     2.0\n",
       "22     3.0\n",
       "23     4.0\n",
       "24     1.0\n",
       "25     2.0\n",
       "26     3.0\n",
       "27     4.0\n",
       "28     1.0\n",
       "29     2.0\n",
       "      ... \n",
       "173    2.0\n",
       "174    3.0\n",
       "175    4.0\n",
       "176    1.0\n",
       "177    2.0\n",
       "178    3.0\n",
       "179    4.0\n",
       "180    1.0\n",
       "181    2.0\n",
       "182    3.0\n",
       "183    4.0\n",
       "184    1.0\n",
       "185    2.0\n",
       "186    3.0\n",
       "187    4.0\n",
       "188    1.0\n",
       "189    2.0\n",
       "190    3.0\n",
       "191    4.0\n",
       "192    1.0\n",
       "193    2.0\n",
       "194    3.0\n",
       "195    4.0\n",
       "196    1.0\n",
       "197    2.0\n",
       "198    3.0\n",
       "199    4.0\n",
       "200    1.0\n",
       "201    2.0\n",
       "202    3.0\n",
       "Name: quarter, Length: 203, dtype: float64"
      ]
     },
     "execution_count": 187,
     "metadata": {},
     "output_type": "execute_result"
    }
   ],
   "source": [
    "data.quarter"
   ]
  },
  {
   "cell_type": "code",
   "execution_count": 188,
   "metadata": {},
   "outputs": [],
   "source": [
    "index = pd.PeriodIndex(year=data.year, quarter=data.quarter, freq='Q-DEC')"
   ]
  },
  {
   "cell_type": "code",
   "execution_count": 189,
   "metadata": {},
   "outputs": [
    {
     "data": {
      "text/plain": [
       "PeriodIndex(['1959Q1', '1959Q2', '1959Q3', '1959Q4', '1960Q1', '1960Q2',\n",
       "             '1960Q3', '1960Q4', '1961Q1', '1961Q2',\n",
       "             ...\n",
       "             '2007Q2', '2007Q3', '2007Q4', '2008Q1', '2008Q2', '2008Q3',\n",
       "             '2008Q4', '2009Q1', '2009Q2', '2009Q3'],\n",
       "            dtype='period[Q-DEC]', length=203, freq='Q-DEC')"
      ]
     },
     "execution_count": 189,
     "metadata": {},
     "output_type": "execute_result"
    }
   ],
   "source": [
    "index"
   ]
  },
  {
   "cell_type": "code",
   "execution_count": 190,
   "metadata": {},
   "outputs": [],
   "source": [
    "data.index = index"
   ]
  },
  {
   "cell_type": "code",
   "execution_count": 191,
   "metadata": {},
   "outputs": [
    {
     "data": {
      "text/plain": [
       "1959Q1    0.00\n",
       "1959Q2    2.34\n",
       "1959Q3    2.74\n",
       "1959Q4    0.27\n",
       "1960Q1    2.31\n",
       "1960Q2    0.14\n",
       "1960Q3    2.70\n",
       "1960Q4    1.21\n",
       "1961Q1   -0.40\n",
       "1961Q2    1.47\n",
       "1961Q3    0.80\n",
       "1961Q4    0.80\n",
       "1962Q1    2.26\n",
       "1962Q2    0.13\n",
       "1962Q3    2.11\n",
       "1962Q4    0.79\n",
       "1963Q1    0.53\n",
       "1963Q2    2.75\n",
       "1963Q3    0.78\n",
       "1963Q4    2.46\n",
       "1964Q1    0.13\n",
       "1964Q2    0.90\n",
       "1964Q3    1.29\n",
       "1964Q4    2.05\n",
       "1965Q1    1.28\n",
       "1965Q2    2.54\n",
       "1965Q3    0.89\n",
       "1965Q4    2.90\n",
       "1966Q1    4.99\n",
       "1966Q2    2.10\n",
       "          ... \n",
       "2002Q2    1.56\n",
       "2002Q3    2.66\n",
       "2002Q4    3.08\n",
       "2003Q1    1.31\n",
       "2003Q2    1.09\n",
       "2003Q3    2.60\n",
       "2003Q4    3.02\n",
       "2004Q1    2.35\n",
       "2004Q2    3.61\n",
       "2004Q3    3.58\n",
       "2004Q4    2.09\n",
       "2005Q1    4.15\n",
       "2005Q2    1.85\n",
       "2005Q3    9.14\n",
       "2005Q4    0.40\n",
       "2006Q1    2.60\n",
       "2006Q2    3.97\n",
       "2006Q3   -1.58\n",
       "2006Q4    3.30\n",
       "2007Q1    4.58\n",
       "2007Q2    2.75\n",
       "2007Q3    3.45\n",
       "2007Q4    6.38\n",
       "2008Q1    2.82\n",
       "2008Q2    8.53\n",
       "2008Q3   -3.16\n",
       "2008Q4   -8.79\n",
       "2009Q1    0.94\n",
       "2009Q2    3.37\n",
       "2009Q3    3.56\n",
       "Freq: Q-DEC, Name: infl, Length: 203, dtype: float64"
      ]
     },
     "execution_count": 191,
     "metadata": {},
     "output_type": "execute_result"
    }
   ],
   "source": [
    "data.infl"
   ]
  },
  {
   "cell_type": "markdown",
   "metadata": {},
   "source": [
    "<p style=\"color:blue; font-size:18px;\">Reamostragem e conversão de frequências</p>\n",
    "<p style=\"color:red; font-size:10px;\">pg 429</p>"
   ]
  },
  {
   "cell_type": "code",
   "execution_count": 192,
   "metadata": {},
   "outputs": [],
   "source": [
    "rng = pd.date_range('2000-01-01', periods=100, freq='D')"
   ]
  },
  {
   "cell_type": "code",
   "execution_count": 193,
   "metadata": {},
   "outputs": [],
   "source": [
    "ts = pd.Series(np.random.randn(len(rng)), index=rng)"
   ]
  },
  {
   "cell_type": "code",
   "execution_count": 194,
   "metadata": {},
   "outputs": [
    {
     "data": {
      "text/plain": [
       "2000-01-01   -1.238616\n",
       "2000-01-02   -0.758253\n",
       "2000-01-03    2.032584\n",
       "2000-01-04   -0.308944\n",
       "2000-01-05    0.227394\n",
       "2000-01-06    1.437510\n",
       "2000-01-07    0.744834\n",
       "2000-01-08   -1.266568\n",
       "2000-01-09    0.564077\n",
       "2000-01-10    0.980795\n",
       "2000-01-11    0.291549\n",
       "2000-01-12   -0.450442\n",
       "2000-01-13   -1.204061\n",
       "2000-01-14    2.697545\n",
       "2000-01-15    0.246888\n",
       "2000-01-16   -0.846411\n",
       "2000-01-17   -0.821328\n",
       "2000-01-18   -1.566039\n",
       "2000-01-19   -0.025877\n",
       "2000-01-20   -0.951116\n",
       "2000-01-21    0.915443\n",
       "2000-01-22   -2.193967\n",
       "2000-01-23   -1.191241\n",
       "2000-01-24   -1.204018\n",
       "2000-01-25    0.555111\n",
       "2000-01-26   -0.707903\n",
       "2000-01-27   -0.632523\n",
       "2000-01-28   -0.622537\n",
       "2000-01-29    0.277193\n",
       "2000-01-30   -0.731737\n",
       "                ...   \n",
       "2000-03-11    0.534015\n",
       "2000-03-12   -0.711384\n",
       "2000-03-13   -0.188807\n",
       "2000-03-14   -0.098288\n",
       "2000-03-15   -0.769462\n",
       "2000-03-16    3.048291\n",
       "2000-03-17   -2.378214\n",
       "2000-03-18   -0.192497\n",
       "2000-03-19    0.138571\n",
       "2000-03-20    1.125942\n",
       "2000-03-21   -0.413986\n",
       "2000-03-22    1.319566\n",
       "2000-03-23    1.030561\n",
       "2000-03-24    0.592039\n",
       "2000-03-25   -0.783826\n",
       "2000-03-26    0.225958\n",
       "2000-03-27    2.187537\n",
       "2000-03-28    0.134739\n",
       "2000-03-29   -0.748281\n",
       "2000-03-30   -1.138504\n",
       "2000-03-31   -0.586067\n",
       "2000-04-01    0.694793\n",
       "2000-04-02    0.287072\n",
       "2000-04-03    1.142544\n",
       "2000-04-04    0.815962\n",
       "2000-04-05   -0.235462\n",
       "2000-04-06   -1.427503\n",
       "2000-04-07    0.098638\n",
       "2000-04-08    1.541008\n",
       "2000-04-09    0.260569\n",
       "Freq: D, Length: 100, dtype: float64"
      ]
     },
     "execution_count": 194,
     "metadata": {},
     "output_type": "execute_result"
    }
   ],
   "source": [
    "ts"
   ]
  },
  {
   "cell_type": "code",
   "execution_count": 195,
   "metadata": {},
   "outputs": [
    {
     "data": {
      "text/plain": [
       "2000-01-31   -0.168751\n",
       "2000-02-29   -0.358741\n",
       "2000-03-31    0.010266\n",
       "2000-04-30    0.353069\n",
       "Freq: M, dtype: float64"
      ]
     },
     "execution_count": 195,
     "metadata": {},
     "output_type": "execute_result"
    }
   ],
   "source": [
    "ts.resample('M').mean()"
   ]
  },
  {
   "cell_type": "code",
   "execution_count": 196,
   "metadata": {},
   "outputs": [
    {
     "data": {
      "text/plain": [
       "2000-01   -0.168751\n",
       "2000-02   -0.358741\n",
       "2000-03    0.010266\n",
       "2000-04    0.353069\n",
       "Freq: M, dtype: float64"
      ]
     },
     "execution_count": 196,
     "metadata": {},
     "output_type": "execute_result"
    }
   ],
   "source": [
    "ts.resample('M', kind='period').mean()"
   ]
  },
  {
   "cell_type": "markdown",
   "metadata": {},
   "source": [
    "<p style=\"color:blue; font-size:18px;\">Downsampling</p>\n",
    "<p style=\"color:red; font-size:10px;\">pg 431</p>"
   ]
  },
  {
   "cell_type": "code",
   "execution_count": 197,
   "metadata": {},
   "outputs": [],
   "source": [
    "rng = pd.date_range('2000-01-01', periods=12, freq='T')"
   ]
  },
  {
   "cell_type": "code",
   "execution_count": 198,
   "metadata": {},
   "outputs": [],
   "source": [
    "ts = pd.Series(np.arange(12), index=rng)"
   ]
  },
  {
   "cell_type": "code",
   "execution_count": 199,
   "metadata": {},
   "outputs": [
    {
     "data": {
      "text/plain": [
       "2000-01-01 00:00:00     0\n",
       "2000-01-01 00:01:00     1\n",
       "2000-01-01 00:02:00     2\n",
       "2000-01-01 00:03:00     3\n",
       "2000-01-01 00:04:00     4\n",
       "2000-01-01 00:05:00     5\n",
       "2000-01-01 00:06:00     6\n",
       "2000-01-01 00:07:00     7\n",
       "2000-01-01 00:08:00     8\n",
       "2000-01-01 00:09:00     9\n",
       "2000-01-01 00:10:00    10\n",
       "2000-01-01 00:11:00    11\n",
       "Freq: T, dtype: int32"
      ]
     },
     "execution_count": 199,
     "metadata": {},
     "output_type": "execute_result"
    }
   ],
   "source": [
    "ts"
   ]
  },
  {
   "cell_type": "code",
   "execution_count": 200,
   "metadata": {},
   "outputs": [
    {
     "data": {
      "text/plain": [
       "1999-12-31 23:55:00     0\n",
       "2000-01-01 00:00:00    15\n",
       "2000-01-01 00:05:00    40\n",
       "2000-01-01 00:10:00    11\n",
       "Freq: 5T, dtype: int32"
      ]
     },
     "execution_count": 200,
     "metadata": {},
     "output_type": "execute_result"
    }
   ],
   "source": [
    "ts.resample('5min', closed='right').sum()"
   ]
  },
  {
   "cell_type": "code",
   "execution_count": 201,
   "metadata": {},
   "outputs": [
    {
     "data": {
      "text/plain": [
       "2000-01-01 00:00:00     0\n",
       "2000-01-01 00:05:00    15\n",
       "2000-01-01 00:10:00    40\n",
       "2000-01-01 00:15:00    11\n",
       "Freq: 5T, dtype: int32"
      ]
     },
     "execution_count": 201,
     "metadata": {},
     "output_type": "execute_result"
    }
   ],
   "source": [
    "ts.resample('5min', closed='right', label='right').sum()"
   ]
  },
  {
   "cell_type": "code",
   "execution_count": 202,
   "metadata": {},
   "outputs": [
    {
     "data": {
      "text/plain": [
       "1999-12-31 23:59:59     0\n",
       "2000-01-01 00:04:59    15\n",
       "2000-01-01 00:09:59    40\n",
       "2000-01-01 00:14:59    11\n",
       "Freq: 5T, dtype: int32"
      ]
     },
     "execution_count": 202,
     "metadata": {},
     "output_type": "execute_result"
    }
   ],
   "source": [
    "ts.resample('5min', closed='right',\n",
    "           label='right', loffset='-1s').sum()"
   ]
  },
  {
   "cell_type": "markdown",
   "metadata": {},
   "source": [
    "<p style=\"color:blue; font-size:18px;\">Reamostragem OHLC(Open-High-Low-Close)</p>\n",
    "<p style=\"color:red; font-size:10px;\">pg 434</p>"
   ]
  },
  {
   "cell_type": "code",
   "execution_count": 203,
   "metadata": {},
   "outputs": [
    {
     "data": {
      "text/html": [
       "<div>\n",
       "<style scoped>\n",
       "    .dataframe tbody tr th:only-of-type {\n",
       "        vertical-align: middle;\n",
       "    }\n",
       "\n",
       "    .dataframe tbody tr th {\n",
       "        vertical-align: top;\n",
       "    }\n",
       "\n",
       "    .dataframe thead th {\n",
       "        text-align: right;\n",
       "    }\n",
       "</style>\n",
       "<table border=\"1\" class=\"dataframe\">\n",
       "  <thead>\n",
       "    <tr style=\"text-align: right;\">\n",
       "      <th></th>\n",
       "      <th>open</th>\n",
       "      <th>high</th>\n",
       "      <th>low</th>\n",
       "      <th>close</th>\n",
       "    </tr>\n",
       "  </thead>\n",
       "  <tbody>\n",
       "    <tr>\n",
       "      <th>2000-01-01 00:00:00</th>\n",
       "      <td>0</td>\n",
       "      <td>4</td>\n",
       "      <td>0</td>\n",
       "      <td>4</td>\n",
       "    </tr>\n",
       "    <tr>\n",
       "      <th>2000-01-01 00:05:00</th>\n",
       "      <td>5</td>\n",
       "      <td>9</td>\n",
       "      <td>5</td>\n",
       "      <td>9</td>\n",
       "    </tr>\n",
       "    <tr>\n",
       "      <th>2000-01-01 00:10:00</th>\n",
       "      <td>10</td>\n",
       "      <td>11</td>\n",
       "      <td>10</td>\n",
       "      <td>11</td>\n",
       "    </tr>\n",
       "  </tbody>\n",
       "</table>\n",
       "</div>"
      ],
      "text/plain": [
       "                     open  high  low  close\n",
       "2000-01-01 00:00:00     0     4    0      4\n",
       "2000-01-01 00:05:00     5     9    5      9\n",
       "2000-01-01 00:10:00    10    11   10     11"
      ]
     },
     "execution_count": 203,
     "metadata": {},
     "output_type": "execute_result"
    }
   ],
   "source": [
    "ts.resample('5min').ohlc()"
   ]
  },
  {
   "cell_type": "markdown",
   "metadata": {},
   "source": [
    "<p style=\"color:blue; font-size:18px;\">Upsampling e interpolação</p>\n",
    "<p style=\"color:red; font-size:10px;\">pg 434</p>"
   ]
  },
  {
   "cell_type": "code",
   "execution_count": 204,
   "metadata": {},
   "outputs": [],
   "source": [
    "frame = pd.DataFrame(np.random.randn(2,4),\n",
    "                    index=pd.date_range('1/1/2000', periods=2,\n",
    "                                       freq='W-WED'),\n",
    "                    columns=['Colorado', 'Texas', 'New York', 'Ohio'])"
   ]
  },
  {
   "cell_type": "code",
   "execution_count": 205,
   "metadata": {},
   "outputs": [
    {
     "data": {
      "text/html": [
       "<div>\n",
       "<style scoped>\n",
       "    .dataframe tbody tr th:only-of-type {\n",
       "        vertical-align: middle;\n",
       "    }\n",
       "\n",
       "    .dataframe tbody tr th {\n",
       "        vertical-align: top;\n",
       "    }\n",
       "\n",
       "    .dataframe thead th {\n",
       "        text-align: right;\n",
       "    }\n",
       "</style>\n",
       "<table border=\"1\" class=\"dataframe\">\n",
       "  <thead>\n",
       "    <tr style=\"text-align: right;\">\n",
       "      <th></th>\n",
       "      <th>Colorado</th>\n",
       "      <th>Texas</th>\n",
       "      <th>New York</th>\n",
       "      <th>Ohio</th>\n",
       "    </tr>\n",
       "  </thead>\n",
       "  <tbody>\n",
       "    <tr>\n",
       "      <th>2000-01-05</th>\n",
       "      <td>-0.227407</td>\n",
       "      <td>-2.738263</td>\n",
       "      <td>-0.943709</td>\n",
       "      <td>0.957843</td>\n",
       "    </tr>\n",
       "    <tr>\n",
       "      <th>2000-01-12</th>\n",
       "      <td>-0.081843</td>\n",
       "      <td>-0.592952</td>\n",
       "      <td>-0.142170</td>\n",
       "      <td>0.537788</td>\n",
       "    </tr>\n",
       "  </tbody>\n",
       "</table>\n",
       "</div>"
      ],
      "text/plain": [
       "            Colorado     Texas  New York      Ohio\n",
       "2000-01-05 -0.227407 -2.738263 -0.943709  0.957843\n",
       "2000-01-12 -0.081843 -0.592952 -0.142170  0.537788"
      ]
     },
     "execution_count": 205,
     "metadata": {},
     "output_type": "execute_result"
    }
   ],
   "source": [
    "frame"
   ]
  },
  {
   "cell_type": "code",
   "execution_count": 206,
   "metadata": {},
   "outputs": [],
   "source": [
    "df_daily = frame.resample('D').asfreq()"
   ]
  },
  {
   "cell_type": "code",
   "execution_count": 207,
   "metadata": {},
   "outputs": [
    {
     "data": {
      "text/html": [
       "<div>\n",
       "<style scoped>\n",
       "    .dataframe tbody tr th:only-of-type {\n",
       "        vertical-align: middle;\n",
       "    }\n",
       "\n",
       "    .dataframe tbody tr th {\n",
       "        vertical-align: top;\n",
       "    }\n",
       "\n",
       "    .dataframe thead th {\n",
       "        text-align: right;\n",
       "    }\n",
       "</style>\n",
       "<table border=\"1\" class=\"dataframe\">\n",
       "  <thead>\n",
       "    <tr style=\"text-align: right;\">\n",
       "      <th></th>\n",
       "      <th>Colorado</th>\n",
       "      <th>Texas</th>\n",
       "      <th>New York</th>\n",
       "      <th>Ohio</th>\n",
       "    </tr>\n",
       "  </thead>\n",
       "  <tbody>\n",
       "    <tr>\n",
       "      <th>2000-01-05</th>\n",
       "      <td>-0.227407</td>\n",
       "      <td>-2.738263</td>\n",
       "      <td>-0.943709</td>\n",
       "      <td>0.957843</td>\n",
       "    </tr>\n",
       "    <tr>\n",
       "      <th>2000-01-06</th>\n",
       "      <td>NaN</td>\n",
       "      <td>NaN</td>\n",
       "      <td>NaN</td>\n",
       "      <td>NaN</td>\n",
       "    </tr>\n",
       "    <tr>\n",
       "      <th>2000-01-07</th>\n",
       "      <td>NaN</td>\n",
       "      <td>NaN</td>\n",
       "      <td>NaN</td>\n",
       "      <td>NaN</td>\n",
       "    </tr>\n",
       "    <tr>\n",
       "      <th>2000-01-08</th>\n",
       "      <td>NaN</td>\n",
       "      <td>NaN</td>\n",
       "      <td>NaN</td>\n",
       "      <td>NaN</td>\n",
       "    </tr>\n",
       "    <tr>\n",
       "      <th>2000-01-09</th>\n",
       "      <td>NaN</td>\n",
       "      <td>NaN</td>\n",
       "      <td>NaN</td>\n",
       "      <td>NaN</td>\n",
       "    </tr>\n",
       "    <tr>\n",
       "      <th>2000-01-10</th>\n",
       "      <td>NaN</td>\n",
       "      <td>NaN</td>\n",
       "      <td>NaN</td>\n",
       "      <td>NaN</td>\n",
       "    </tr>\n",
       "    <tr>\n",
       "      <th>2000-01-11</th>\n",
       "      <td>NaN</td>\n",
       "      <td>NaN</td>\n",
       "      <td>NaN</td>\n",
       "      <td>NaN</td>\n",
       "    </tr>\n",
       "    <tr>\n",
       "      <th>2000-01-12</th>\n",
       "      <td>-0.081843</td>\n",
       "      <td>-0.592952</td>\n",
       "      <td>-0.142170</td>\n",
       "      <td>0.537788</td>\n",
       "    </tr>\n",
       "  </tbody>\n",
       "</table>\n",
       "</div>"
      ],
      "text/plain": [
       "            Colorado     Texas  New York      Ohio\n",
       "2000-01-05 -0.227407 -2.738263 -0.943709  0.957843\n",
       "2000-01-06       NaN       NaN       NaN       NaN\n",
       "2000-01-07       NaN       NaN       NaN       NaN\n",
       "2000-01-08       NaN       NaN       NaN       NaN\n",
       "2000-01-09       NaN       NaN       NaN       NaN\n",
       "2000-01-10       NaN       NaN       NaN       NaN\n",
       "2000-01-11       NaN       NaN       NaN       NaN\n",
       "2000-01-12 -0.081843 -0.592952 -0.142170  0.537788"
      ]
     },
     "execution_count": 207,
     "metadata": {},
     "output_type": "execute_result"
    }
   ],
   "source": [
    "df_daily"
   ]
  },
  {
   "cell_type": "code",
   "execution_count": 208,
   "metadata": {},
   "outputs": [
    {
     "data": {
      "text/html": [
       "<div>\n",
       "<style scoped>\n",
       "    .dataframe tbody tr th:only-of-type {\n",
       "        vertical-align: middle;\n",
       "    }\n",
       "\n",
       "    .dataframe tbody tr th {\n",
       "        vertical-align: top;\n",
       "    }\n",
       "\n",
       "    .dataframe thead th {\n",
       "        text-align: right;\n",
       "    }\n",
       "</style>\n",
       "<table border=\"1\" class=\"dataframe\">\n",
       "  <thead>\n",
       "    <tr style=\"text-align: right;\">\n",
       "      <th></th>\n",
       "      <th>Colorado</th>\n",
       "      <th>Texas</th>\n",
       "      <th>New York</th>\n",
       "      <th>Ohio</th>\n",
       "    </tr>\n",
       "  </thead>\n",
       "  <tbody>\n",
       "    <tr>\n",
       "      <th>2000-01-05</th>\n",
       "      <td>-0.227407</td>\n",
       "      <td>-2.738263</td>\n",
       "      <td>-0.943709</td>\n",
       "      <td>0.957843</td>\n",
       "    </tr>\n",
       "    <tr>\n",
       "      <th>2000-01-06</th>\n",
       "      <td>-0.227407</td>\n",
       "      <td>-2.738263</td>\n",
       "      <td>-0.943709</td>\n",
       "      <td>0.957843</td>\n",
       "    </tr>\n",
       "    <tr>\n",
       "      <th>2000-01-07</th>\n",
       "      <td>-0.227407</td>\n",
       "      <td>-2.738263</td>\n",
       "      <td>-0.943709</td>\n",
       "      <td>0.957843</td>\n",
       "    </tr>\n",
       "    <tr>\n",
       "      <th>2000-01-08</th>\n",
       "      <td>-0.227407</td>\n",
       "      <td>-2.738263</td>\n",
       "      <td>-0.943709</td>\n",
       "      <td>0.957843</td>\n",
       "    </tr>\n",
       "    <tr>\n",
       "      <th>2000-01-09</th>\n",
       "      <td>-0.227407</td>\n",
       "      <td>-2.738263</td>\n",
       "      <td>-0.943709</td>\n",
       "      <td>0.957843</td>\n",
       "    </tr>\n",
       "    <tr>\n",
       "      <th>2000-01-10</th>\n",
       "      <td>-0.227407</td>\n",
       "      <td>-2.738263</td>\n",
       "      <td>-0.943709</td>\n",
       "      <td>0.957843</td>\n",
       "    </tr>\n",
       "    <tr>\n",
       "      <th>2000-01-11</th>\n",
       "      <td>-0.227407</td>\n",
       "      <td>-2.738263</td>\n",
       "      <td>-0.943709</td>\n",
       "      <td>0.957843</td>\n",
       "    </tr>\n",
       "    <tr>\n",
       "      <th>2000-01-12</th>\n",
       "      <td>-0.081843</td>\n",
       "      <td>-0.592952</td>\n",
       "      <td>-0.142170</td>\n",
       "      <td>0.537788</td>\n",
       "    </tr>\n",
       "  </tbody>\n",
       "</table>\n",
       "</div>"
      ],
      "text/plain": [
       "            Colorado     Texas  New York      Ohio\n",
       "2000-01-05 -0.227407 -2.738263 -0.943709  0.957843\n",
       "2000-01-06 -0.227407 -2.738263 -0.943709  0.957843\n",
       "2000-01-07 -0.227407 -2.738263 -0.943709  0.957843\n",
       "2000-01-08 -0.227407 -2.738263 -0.943709  0.957843\n",
       "2000-01-09 -0.227407 -2.738263 -0.943709  0.957843\n",
       "2000-01-10 -0.227407 -2.738263 -0.943709  0.957843\n",
       "2000-01-11 -0.227407 -2.738263 -0.943709  0.957843\n",
       "2000-01-12 -0.081843 -0.592952 -0.142170  0.537788"
      ]
     },
     "execution_count": 208,
     "metadata": {},
     "output_type": "execute_result"
    }
   ],
   "source": [
    "frame.resample('D').ffill()"
   ]
  },
  {
   "cell_type": "code",
   "execution_count": 209,
   "metadata": {},
   "outputs": [
    {
     "data": {
      "text/html": [
       "<div>\n",
       "<style scoped>\n",
       "    .dataframe tbody tr th:only-of-type {\n",
       "        vertical-align: middle;\n",
       "    }\n",
       "\n",
       "    .dataframe tbody tr th {\n",
       "        vertical-align: top;\n",
       "    }\n",
       "\n",
       "    .dataframe thead th {\n",
       "        text-align: right;\n",
       "    }\n",
       "</style>\n",
       "<table border=\"1\" class=\"dataframe\">\n",
       "  <thead>\n",
       "    <tr style=\"text-align: right;\">\n",
       "      <th></th>\n",
       "      <th>Colorado</th>\n",
       "      <th>Texas</th>\n",
       "      <th>New York</th>\n",
       "      <th>Ohio</th>\n",
       "    </tr>\n",
       "  </thead>\n",
       "  <tbody>\n",
       "    <tr>\n",
       "      <th>2000-01-05</th>\n",
       "      <td>-0.227407</td>\n",
       "      <td>-2.738263</td>\n",
       "      <td>-0.943709</td>\n",
       "      <td>0.957843</td>\n",
       "    </tr>\n",
       "    <tr>\n",
       "      <th>2000-01-06</th>\n",
       "      <td>-0.227407</td>\n",
       "      <td>-2.738263</td>\n",
       "      <td>-0.943709</td>\n",
       "      <td>0.957843</td>\n",
       "    </tr>\n",
       "    <tr>\n",
       "      <th>2000-01-07</th>\n",
       "      <td>-0.227407</td>\n",
       "      <td>-2.738263</td>\n",
       "      <td>-0.943709</td>\n",
       "      <td>0.957843</td>\n",
       "    </tr>\n",
       "    <tr>\n",
       "      <th>2000-01-08</th>\n",
       "      <td>NaN</td>\n",
       "      <td>NaN</td>\n",
       "      <td>NaN</td>\n",
       "      <td>NaN</td>\n",
       "    </tr>\n",
       "    <tr>\n",
       "      <th>2000-01-09</th>\n",
       "      <td>NaN</td>\n",
       "      <td>NaN</td>\n",
       "      <td>NaN</td>\n",
       "      <td>NaN</td>\n",
       "    </tr>\n",
       "    <tr>\n",
       "      <th>2000-01-10</th>\n",
       "      <td>NaN</td>\n",
       "      <td>NaN</td>\n",
       "      <td>NaN</td>\n",
       "      <td>NaN</td>\n",
       "    </tr>\n",
       "    <tr>\n",
       "      <th>2000-01-11</th>\n",
       "      <td>NaN</td>\n",
       "      <td>NaN</td>\n",
       "      <td>NaN</td>\n",
       "      <td>NaN</td>\n",
       "    </tr>\n",
       "    <tr>\n",
       "      <th>2000-01-12</th>\n",
       "      <td>-0.081843</td>\n",
       "      <td>-0.592952</td>\n",
       "      <td>-0.142170</td>\n",
       "      <td>0.537788</td>\n",
       "    </tr>\n",
       "  </tbody>\n",
       "</table>\n",
       "</div>"
      ],
      "text/plain": [
       "            Colorado     Texas  New York      Ohio\n",
       "2000-01-05 -0.227407 -2.738263 -0.943709  0.957843\n",
       "2000-01-06 -0.227407 -2.738263 -0.943709  0.957843\n",
       "2000-01-07 -0.227407 -2.738263 -0.943709  0.957843\n",
       "2000-01-08       NaN       NaN       NaN       NaN\n",
       "2000-01-09       NaN       NaN       NaN       NaN\n",
       "2000-01-10       NaN       NaN       NaN       NaN\n",
       "2000-01-11       NaN       NaN       NaN       NaN\n",
       "2000-01-12 -0.081843 -0.592952 -0.142170  0.537788"
      ]
     },
     "execution_count": 209,
     "metadata": {},
     "output_type": "execute_result"
    }
   ],
   "source": [
    "frame.resample('D').ffill(limit=2)"
   ]
  },
  {
   "cell_type": "code",
   "execution_count": 210,
   "metadata": {},
   "outputs": [
    {
     "data": {
      "text/html": [
       "<div>\n",
       "<style scoped>\n",
       "    .dataframe tbody tr th:only-of-type {\n",
       "        vertical-align: middle;\n",
       "    }\n",
       "\n",
       "    .dataframe tbody tr th {\n",
       "        vertical-align: top;\n",
       "    }\n",
       "\n",
       "    .dataframe thead th {\n",
       "        text-align: right;\n",
       "    }\n",
       "</style>\n",
       "<table border=\"1\" class=\"dataframe\">\n",
       "  <thead>\n",
       "    <tr style=\"text-align: right;\">\n",
       "      <th></th>\n",
       "      <th>Colorado</th>\n",
       "      <th>Texas</th>\n",
       "      <th>New York</th>\n",
       "      <th>Ohio</th>\n",
       "    </tr>\n",
       "  </thead>\n",
       "  <tbody>\n",
       "    <tr>\n",
       "      <th>2000-01-06</th>\n",
       "      <td>-0.227407</td>\n",
       "      <td>-2.738263</td>\n",
       "      <td>-0.943709</td>\n",
       "      <td>0.957843</td>\n",
       "    </tr>\n",
       "    <tr>\n",
       "      <th>2000-01-13</th>\n",
       "      <td>-0.081843</td>\n",
       "      <td>-0.592952</td>\n",
       "      <td>-0.142170</td>\n",
       "      <td>0.537788</td>\n",
       "    </tr>\n",
       "  </tbody>\n",
       "</table>\n",
       "</div>"
      ],
      "text/plain": [
       "            Colorado     Texas  New York      Ohio\n",
       "2000-01-06 -0.227407 -2.738263 -0.943709  0.957843\n",
       "2000-01-13 -0.081843 -0.592952 -0.142170  0.537788"
      ]
     },
     "execution_count": 210,
     "metadata": {},
     "output_type": "execute_result"
    }
   ],
   "source": [
    "frame.resample('W-THU').ffill()"
   ]
  },
  {
   "cell_type": "markdown",
   "metadata": {},
   "source": [
    "<p style=\"color:blue; font-size:18px;\">Reamostragem com períodos</p>\n",
    "<p style=\"color:red; font-size:10px;\">pg 436</p>"
   ]
  },
  {
   "cell_type": "code",
   "execution_count": 211,
   "metadata": {},
   "outputs": [],
   "source": [
    "frame = pd.DataFrame(np.random.randn(24,4),\n",
    "                    index=pd.period_range('1-2000', '12-2001',\n",
    "                                         freq='M'),\n",
    "                    columns=['Colorado', 'Texas', 'New York', 'Ohio'])"
   ]
  },
  {
   "cell_type": "code",
   "execution_count": 212,
   "metadata": {},
   "outputs": [
    {
     "data": {
      "text/html": [
       "<div>\n",
       "<style scoped>\n",
       "    .dataframe tbody tr th:only-of-type {\n",
       "        vertical-align: middle;\n",
       "    }\n",
       "\n",
       "    .dataframe tbody tr th {\n",
       "        vertical-align: top;\n",
       "    }\n",
       "\n",
       "    .dataframe thead th {\n",
       "        text-align: right;\n",
       "    }\n",
       "</style>\n",
       "<table border=\"1\" class=\"dataframe\">\n",
       "  <thead>\n",
       "    <tr style=\"text-align: right;\">\n",
       "      <th></th>\n",
       "      <th>Colorado</th>\n",
       "      <th>Texas</th>\n",
       "      <th>New York</th>\n",
       "      <th>Ohio</th>\n",
       "    </tr>\n",
       "  </thead>\n",
       "  <tbody>\n",
       "    <tr>\n",
       "      <th>2000-01</th>\n",
       "      <td>1.762491</td>\n",
       "      <td>-0.167337</td>\n",
       "      <td>-0.222320</td>\n",
       "      <td>-0.782710</td>\n",
       "    </tr>\n",
       "    <tr>\n",
       "      <th>2000-02</th>\n",
       "      <td>0.472814</td>\n",
       "      <td>1.327229</td>\n",
       "      <td>-0.581101</td>\n",
       "      <td>2.275473</td>\n",
       "    </tr>\n",
       "    <tr>\n",
       "      <th>2000-03</th>\n",
       "      <td>-0.790114</td>\n",
       "      <td>0.600837</td>\n",
       "      <td>-0.938403</td>\n",
       "      <td>-0.587649</td>\n",
       "    </tr>\n",
       "    <tr>\n",
       "      <th>2000-04</th>\n",
       "      <td>0.453617</td>\n",
       "      <td>1.268452</td>\n",
       "      <td>0.244856</td>\n",
       "      <td>0.476735</td>\n",
       "    </tr>\n",
       "    <tr>\n",
       "      <th>2000-05</th>\n",
       "      <td>0.646851</td>\n",
       "      <td>0.194255</td>\n",
       "      <td>0.280949</td>\n",
       "      <td>0.096517</td>\n",
       "    </tr>\n",
       "  </tbody>\n",
       "</table>\n",
       "</div>"
      ],
      "text/plain": [
       "         Colorado     Texas  New York      Ohio\n",
       "2000-01  1.762491 -0.167337 -0.222320 -0.782710\n",
       "2000-02  0.472814  1.327229 -0.581101  2.275473\n",
       "2000-03 -0.790114  0.600837 -0.938403 -0.587649\n",
       "2000-04  0.453617  1.268452  0.244856  0.476735\n",
       "2000-05  0.646851  0.194255  0.280949  0.096517"
      ]
     },
     "execution_count": 212,
     "metadata": {},
     "output_type": "execute_result"
    }
   ],
   "source": [
    "frame[:5]"
   ]
  },
  {
   "cell_type": "code",
   "execution_count": 213,
   "metadata": {},
   "outputs": [],
   "source": [
    "annual_frame = frame.resample('A-DEC').mean()"
   ]
  },
  {
   "cell_type": "code",
   "execution_count": 214,
   "metadata": {},
   "outputs": [
    {
     "data": {
      "text/html": [
       "<div>\n",
       "<style scoped>\n",
       "    .dataframe tbody tr th:only-of-type {\n",
       "        vertical-align: middle;\n",
       "    }\n",
       "\n",
       "    .dataframe tbody tr th {\n",
       "        vertical-align: top;\n",
       "    }\n",
       "\n",
       "    .dataframe thead th {\n",
       "        text-align: right;\n",
       "    }\n",
       "</style>\n",
       "<table border=\"1\" class=\"dataframe\">\n",
       "  <thead>\n",
       "    <tr style=\"text-align: right;\">\n",
       "      <th></th>\n",
       "      <th>Colorado</th>\n",
       "      <th>Texas</th>\n",
       "      <th>New York</th>\n",
       "      <th>Ohio</th>\n",
       "    </tr>\n",
       "  </thead>\n",
       "  <tbody>\n",
       "    <tr>\n",
       "      <th>2000</th>\n",
       "      <td>-0.348774</td>\n",
       "      <td>0.736878</td>\n",
       "      <td>0.182939</td>\n",
       "      <td>0.221987</td>\n",
       "    </tr>\n",
       "    <tr>\n",
       "      <th>2001</th>\n",
       "      <td>-0.097666</td>\n",
       "      <td>0.209217</td>\n",
       "      <td>0.196241</td>\n",
       "      <td>0.326696</td>\n",
       "    </tr>\n",
       "  </tbody>\n",
       "</table>\n",
       "</div>"
      ],
      "text/plain": [
       "      Colorado     Texas  New York      Ohio\n",
       "2000 -0.348774  0.736878  0.182939  0.221987\n",
       "2001 -0.097666  0.209217  0.196241  0.326696"
      ]
     },
     "execution_count": 214,
     "metadata": {},
     "output_type": "execute_result"
    }
   ],
   "source": [
    "annual_frame"
   ]
  },
  {
   "cell_type": "code",
   "execution_count": 215,
   "metadata": {},
   "outputs": [
    {
     "data": {
      "text/html": [
       "<div>\n",
       "<style scoped>\n",
       "    .dataframe tbody tr th:only-of-type {\n",
       "        vertical-align: middle;\n",
       "    }\n",
       "\n",
       "    .dataframe tbody tr th {\n",
       "        vertical-align: top;\n",
       "    }\n",
       "\n",
       "    .dataframe thead th {\n",
       "        text-align: right;\n",
       "    }\n",
       "</style>\n",
       "<table border=\"1\" class=\"dataframe\">\n",
       "  <thead>\n",
       "    <tr style=\"text-align: right;\">\n",
       "      <th></th>\n",
       "      <th>Colorado</th>\n",
       "      <th>Texas</th>\n",
       "      <th>New York</th>\n",
       "      <th>Ohio</th>\n",
       "    </tr>\n",
       "  </thead>\n",
       "  <tbody>\n",
       "    <tr>\n",
       "      <th>2000Q1</th>\n",
       "      <td>-0.348774</td>\n",
       "      <td>0.736878</td>\n",
       "      <td>0.182939</td>\n",
       "      <td>0.221987</td>\n",
       "    </tr>\n",
       "    <tr>\n",
       "      <th>2000Q2</th>\n",
       "      <td>-0.348774</td>\n",
       "      <td>0.736878</td>\n",
       "      <td>0.182939</td>\n",
       "      <td>0.221987</td>\n",
       "    </tr>\n",
       "    <tr>\n",
       "      <th>2000Q3</th>\n",
       "      <td>-0.348774</td>\n",
       "      <td>0.736878</td>\n",
       "      <td>0.182939</td>\n",
       "      <td>0.221987</td>\n",
       "    </tr>\n",
       "    <tr>\n",
       "      <th>2000Q4</th>\n",
       "      <td>-0.348774</td>\n",
       "      <td>0.736878</td>\n",
       "      <td>0.182939</td>\n",
       "      <td>0.221987</td>\n",
       "    </tr>\n",
       "    <tr>\n",
       "      <th>2001Q1</th>\n",
       "      <td>-0.097666</td>\n",
       "      <td>0.209217</td>\n",
       "      <td>0.196241</td>\n",
       "      <td>0.326696</td>\n",
       "    </tr>\n",
       "    <tr>\n",
       "      <th>2001Q2</th>\n",
       "      <td>-0.097666</td>\n",
       "      <td>0.209217</td>\n",
       "      <td>0.196241</td>\n",
       "      <td>0.326696</td>\n",
       "    </tr>\n",
       "    <tr>\n",
       "      <th>2001Q3</th>\n",
       "      <td>-0.097666</td>\n",
       "      <td>0.209217</td>\n",
       "      <td>0.196241</td>\n",
       "      <td>0.326696</td>\n",
       "    </tr>\n",
       "    <tr>\n",
       "      <th>2001Q4</th>\n",
       "      <td>-0.097666</td>\n",
       "      <td>0.209217</td>\n",
       "      <td>0.196241</td>\n",
       "      <td>0.326696</td>\n",
       "    </tr>\n",
       "  </tbody>\n",
       "</table>\n",
       "</div>"
      ],
      "text/plain": [
       "        Colorado     Texas  New York      Ohio\n",
       "2000Q1 -0.348774  0.736878  0.182939  0.221987\n",
       "2000Q2 -0.348774  0.736878  0.182939  0.221987\n",
       "2000Q3 -0.348774  0.736878  0.182939  0.221987\n",
       "2000Q4 -0.348774  0.736878  0.182939  0.221987\n",
       "2001Q1 -0.097666  0.209217  0.196241  0.326696\n",
       "2001Q2 -0.097666  0.209217  0.196241  0.326696\n",
       "2001Q3 -0.097666  0.209217  0.196241  0.326696\n",
       "2001Q4 -0.097666  0.209217  0.196241  0.326696"
      ]
     },
     "execution_count": 215,
     "metadata": {},
     "output_type": "execute_result"
    }
   ],
   "source": [
    "# Q-DEC: Trimestral, com o ano terminando em dezembro\n",
    "annual_frame.resample('Q-DEC').ffill()"
   ]
  },
  {
   "cell_type": "code",
   "execution_count": 216,
   "metadata": {},
   "outputs": [
    {
     "data": {
      "text/html": [
       "<div>\n",
       "<style scoped>\n",
       "    .dataframe tbody tr th:only-of-type {\n",
       "        vertical-align: middle;\n",
       "    }\n",
       "\n",
       "    .dataframe tbody tr th {\n",
       "        vertical-align: top;\n",
       "    }\n",
       "\n",
       "    .dataframe thead th {\n",
       "        text-align: right;\n",
       "    }\n",
       "</style>\n",
       "<table border=\"1\" class=\"dataframe\">\n",
       "  <thead>\n",
       "    <tr style=\"text-align: right;\">\n",
       "      <th></th>\n",
       "      <th>Colorado</th>\n",
       "      <th>Texas</th>\n",
       "      <th>New York</th>\n",
       "      <th>Ohio</th>\n",
       "    </tr>\n",
       "  </thead>\n",
       "  <tbody>\n",
       "    <tr>\n",
       "      <th>2000Q4</th>\n",
       "      <td>-0.348774</td>\n",
       "      <td>0.736878</td>\n",
       "      <td>0.182939</td>\n",
       "      <td>0.221987</td>\n",
       "    </tr>\n",
       "    <tr>\n",
       "      <th>2001Q1</th>\n",
       "      <td>-0.348774</td>\n",
       "      <td>0.736878</td>\n",
       "      <td>0.182939</td>\n",
       "      <td>0.221987</td>\n",
       "    </tr>\n",
       "    <tr>\n",
       "      <th>2001Q2</th>\n",
       "      <td>-0.348774</td>\n",
       "      <td>0.736878</td>\n",
       "      <td>0.182939</td>\n",
       "      <td>0.221987</td>\n",
       "    </tr>\n",
       "    <tr>\n",
       "      <th>2001Q3</th>\n",
       "      <td>-0.348774</td>\n",
       "      <td>0.736878</td>\n",
       "      <td>0.182939</td>\n",
       "      <td>0.221987</td>\n",
       "    </tr>\n",
       "    <tr>\n",
       "      <th>2001Q4</th>\n",
       "      <td>-0.097666</td>\n",
       "      <td>0.209217</td>\n",
       "      <td>0.196241</td>\n",
       "      <td>0.326696</td>\n",
       "    </tr>\n",
       "  </tbody>\n",
       "</table>\n",
       "</div>"
      ],
      "text/plain": [
       "        Colorado     Texas  New York      Ohio\n",
       "2000Q4 -0.348774  0.736878  0.182939  0.221987\n",
       "2001Q1 -0.348774  0.736878  0.182939  0.221987\n",
       "2001Q2 -0.348774  0.736878  0.182939  0.221987\n",
       "2001Q3 -0.348774  0.736878  0.182939  0.221987\n",
       "2001Q4 -0.097666  0.209217  0.196241  0.326696"
      ]
     },
     "execution_count": 216,
     "metadata": {},
     "output_type": "execute_result"
    }
   ],
   "source": [
    "annual_frame.resample('Q-DEC', convention='end').ffill()"
   ]
  },
  {
   "cell_type": "code",
   "execution_count": 217,
   "metadata": {},
   "outputs": [
    {
     "data": {
      "text/html": [
       "<div>\n",
       "<style scoped>\n",
       "    .dataframe tbody tr th:only-of-type {\n",
       "        vertical-align: middle;\n",
       "    }\n",
       "\n",
       "    .dataframe tbody tr th {\n",
       "        vertical-align: top;\n",
       "    }\n",
       "\n",
       "    .dataframe thead th {\n",
       "        text-align: right;\n",
       "    }\n",
       "</style>\n",
       "<table border=\"1\" class=\"dataframe\">\n",
       "  <thead>\n",
       "    <tr style=\"text-align: right;\">\n",
       "      <th></th>\n",
       "      <th>Colorado</th>\n",
       "      <th>Texas</th>\n",
       "      <th>New York</th>\n",
       "      <th>Ohio</th>\n",
       "    </tr>\n",
       "  </thead>\n",
       "  <tbody>\n",
       "    <tr>\n",
       "      <th>2000Q4</th>\n",
       "      <td>-0.348774</td>\n",
       "      <td>0.736878</td>\n",
       "      <td>0.182939</td>\n",
       "      <td>0.221987</td>\n",
       "    </tr>\n",
       "    <tr>\n",
       "      <th>2001Q1</th>\n",
       "      <td>-0.348774</td>\n",
       "      <td>0.736878</td>\n",
       "      <td>0.182939</td>\n",
       "      <td>0.221987</td>\n",
       "    </tr>\n",
       "    <tr>\n",
       "      <th>2001Q2</th>\n",
       "      <td>-0.348774</td>\n",
       "      <td>0.736878</td>\n",
       "      <td>0.182939</td>\n",
       "      <td>0.221987</td>\n",
       "    </tr>\n",
       "    <tr>\n",
       "      <th>2001Q3</th>\n",
       "      <td>-0.348774</td>\n",
       "      <td>0.736878</td>\n",
       "      <td>0.182939</td>\n",
       "      <td>0.221987</td>\n",
       "    </tr>\n",
       "    <tr>\n",
       "      <th>2001Q4</th>\n",
       "      <td>-0.097666</td>\n",
       "      <td>0.209217</td>\n",
       "      <td>0.196241</td>\n",
       "      <td>0.326696</td>\n",
       "    </tr>\n",
       "    <tr>\n",
       "      <th>2002Q1</th>\n",
       "      <td>-0.097666</td>\n",
       "      <td>0.209217</td>\n",
       "      <td>0.196241</td>\n",
       "      <td>0.326696</td>\n",
       "    </tr>\n",
       "    <tr>\n",
       "      <th>2002Q2</th>\n",
       "      <td>-0.097666</td>\n",
       "      <td>0.209217</td>\n",
       "      <td>0.196241</td>\n",
       "      <td>0.326696</td>\n",
       "    </tr>\n",
       "    <tr>\n",
       "      <th>2002Q3</th>\n",
       "      <td>-0.097666</td>\n",
       "      <td>0.209217</td>\n",
       "      <td>0.196241</td>\n",
       "      <td>0.326696</td>\n",
       "    </tr>\n",
       "  </tbody>\n",
       "</table>\n",
       "</div>"
      ],
      "text/plain": [
       "        Colorado     Texas  New York      Ohio\n",
       "2000Q4 -0.348774  0.736878  0.182939  0.221987\n",
       "2001Q1 -0.348774  0.736878  0.182939  0.221987\n",
       "2001Q2 -0.348774  0.736878  0.182939  0.221987\n",
       "2001Q3 -0.348774  0.736878  0.182939  0.221987\n",
       "2001Q4 -0.097666  0.209217  0.196241  0.326696\n",
       "2002Q1 -0.097666  0.209217  0.196241  0.326696\n",
       "2002Q2 -0.097666  0.209217  0.196241  0.326696\n",
       "2002Q3 -0.097666  0.209217  0.196241  0.326696"
      ]
     },
     "execution_count": 217,
     "metadata": {},
     "output_type": "execute_result"
    }
   ],
   "source": [
    "annual_frame.resample('Q-MAR').ffill()"
   ]
  },
  {
   "cell_type": "markdown",
   "metadata": {},
   "source": [
    "<p style=\"color:blue; font-size:18px;\">Funções de janela Móvel</p>\n",
    "<p style=\"color:red; font-size:10px;\">pg 438</p>"
   ]
  },
  {
   "cell_type": "code",
   "execution_count": 123,
   "metadata": {},
   "outputs": [
    {
     "data": {
      "text/html": [
       "<div>\n",
       "<style scoped>\n",
       "    .dataframe tbody tr th:only-of-type {\n",
       "        vertical-align: middle;\n",
       "    }\n",
       "\n",
       "    .dataframe tbody tr th {\n",
       "        vertical-align: top;\n",
       "    }\n",
       "\n",
       "    .dataframe thead th {\n",
       "        text-align: right;\n",
       "    }\n",
       "</style>\n",
       "<table border=\"1\" class=\"dataframe\">\n",
       "  <thead>\n",
       "    <tr style=\"text-align: right;\">\n",
       "      <th></th>\n",
       "      <th>AAPL</th>\n",
       "      <th>MSFT</th>\n",
       "      <th>XOM</th>\n",
       "      <th>SPX</th>\n",
       "    </tr>\n",
       "  </thead>\n",
       "  <tbody>\n",
       "    <tr>\n",
       "      <th>2003-01-02</th>\n",
       "      <td>7.40</td>\n",
       "      <td>21.11</td>\n",
       "      <td>29.22</td>\n",
       "      <td>909.03</td>\n",
       "    </tr>\n",
       "    <tr>\n",
       "      <th>2003-01-03</th>\n",
       "      <td>7.45</td>\n",
       "      <td>21.14</td>\n",
       "      <td>29.24</td>\n",
       "      <td>908.59</td>\n",
       "    </tr>\n",
       "    <tr>\n",
       "      <th>2003-01-06</th>\n",
       "      <td>7.45</td>\n",
       "      <td>21.52</td>\n",
       "      <td>29.96</td>\n",
       "      <td>929.01</td>\n",
       "    </tr>\n",
       "    <tr>\n",
       "      <th>2003-01-07</th>\n",
       "      <td>7.43</td>\n",
       "      <td>21.93</td>\n",
       "      <td>28.95</td>\n",
       "      <td>922.93</td>\n",
       "    </tr>\n",
       "    <tr>\n",
       "      <th>2003-01-08</th>\n",
       "      <td>7.28</td>\n",
       "      <td>21.31</td>\n",
       "      <td>28.83</td>\n",
       "      <td>909.93</td>\n",
       "    </tr>\n",
       "    <tr>\n",
       "      <th>2003-01-09</th>\n",
       "      <td>7.34</td>\n",
       "      <td>21.93</td>\n",
       "      <td>29.44</td>\n",
       "      <td>927.57</td>\n",
       "    </tr>\n",
       "    <tr>\n",
       "      <th>2003-01-10</th>\n",
       "      <td>7.36</td>\n",
       "      <td>21.97</td>\n",
       "      <td>29.03</td>\n",
       "      <td>927.57</td>\n",
       "    </tr>\n",
       "    <tr>\n",
       "      <th>2003-01-13</th>\n",
       "      <td>7.32</td>\n",
       "      <td>22.16</td>\n",
       "      <td>28.91</td>\n",
       "      <td>926.26</td>\n",
       "    </tr>\n",
       "    <tr>\n",
       "      <th>2003-01-14</th>\n",
       "      <td>7.30</td>\n",
       "      <td>22.39</td>\n",
       "      <td>29.17</td>\n",
       "      <td>931.66</td>\n",
       "    </tr>\n",
       "    <tr>\n",
       "      <th>2003-01-15</th>\n",
       "      <td>7.22</td>\n",
       "      <td>22.11</td>\n",
       "      <td>28.77</td>\n",
       "      <td>918.22</td>\n",
       "    </tr>\n",
       "    <tr>\n",
       "      <th>2003-01-16</th>\n",
       "      <td>7.31</td>\n",
       "      <td>21.75</td>\n",
       "      <td>28.90</td>\n",
       "      <td>914.60</td>\n",
       "    </tr>\n",
       "    <tr>\n",
       "      <th>2003-01-17</th>\n",
       "      <td>7.05</td>\n",
       "      <td>20.22</td>\n",
       "      <td>28.60</td>\n",
       "      <td>901.78</td>\n",
       "    </tr>\n",
       "    <tr>\n",
       "      <th>2003-01-21</th>\n",
       "      <td>7.01</td>\n",
       "      <td>20.17</td>\n",
       "      <td>27.94</td>\n",
       "      <td>887.62</td>\n",
       "    </tr>\n",
       "    <tr>\n",
       "      <th>2003-01-22</th>\n",
       "      <td>6.94</td>\n",
       "      <td>20.04</td>\n",
       "      <td>27.58</td>\n",
       "      <td>878.36</td>\n",
       "    </tr>\n",
       "    <tr>\n",
       "      <th>2003-01-23</th>\n",
       "      <td>7.09</td>\n",
       "      <td>20.54</td>\n",
       "      <td>27.52</td>\n",
       "      <td>887.34</td>\n",
       "    </tr>\n",
       "    <tr>\n",
       "      <th>2003-01-24</th>\n",
       "      <td>6.90</td>\n",
       "      <td>19.59</td>\n",
       "      <td>26.93</td>\n",
       "      <td>861.40</td>\n",
       "    </tr>\n",
       "    <tr>\n",
       "      <th>2003-01-27</th>\n",
       "      <td>7.07</td>\n",
       "      <td>19.32</td>\n",
       "      <td>26.21</td>\n",
       "      <td>847.48</td>\n",
       "    </tr>\n",
       "    <tr>\n",
       "      <th>2003-01-28</th>\n",
       "      <td>7.29</td>\n",
       "      <td>19.18</td>\n",
       "      <td>26.90</td>\n",
       "      <td>858.54</td>\n",
       "    </tr>\n",
       "    <tr>\n",
       "      <th>2003-01-29</th>\n",
       "      <td>7.47</td>\n",
       "      <td>19.61</td>\n",
       "      <td>27.88</td>\n",
       "      <td>864.36</td>\n",
       "    </tr>\n",
       "    <tr>\n",
       "      <th>2003-01-30</th>\n",
       "      <td>7.16</td>\n",
       "      <td>18.95</td>\n",
       "      <td>27.37</td>\n",
       "      <td>844.61</td>\n",
       "    </tr>\n",
       "    <tr>\n",
       "      <th>2003-01-31</th>\n",
       "      <td>7.18</td>\n",
       "      <td>18.65</td>\n",
       "      <td>28.13</td>\n",
       "      <td>855.70</td>\n",
       "    </tr>\n",
       "    <tr>\n",
       "      <th>2003-02-03</th>\n",
       "      <td>7.33</td>\n",
       "      <td>19.08</td>\n",
       "      <td>28.52</td>\n",
       "      <td>860.32</td>\n",
       "    </tr>\n",
       "    <tr>\n",
       "      <th>2003-02-04</th>\n",
       "      <td>7.30</td>\n",
       "      <td>18.59</td>\n",
       "      <td>28.52</td>\n",
       "      <td>848.20</td>\n",
       "    </tr>\n",
       "    <tr>\n",
       "      <th>2003-02-05</th>\n",
       "      <td>7.22</td>\n",
       "      <td>18.45</td>\n",
       "      <td>28.11</td>\n",
       "      <td>843.59</td>\n",
       "    </tr>\n",
       "    <tr>\n",
       "      <th>2003-02-06</th>\n",
       "      <td>7.22</td>\n",
       "      <td>18.63</td>\n",
       "      <td>27.87</td>\n",
       "      <td>838.15</td>\n",
       "    </tr>\n",
       "    <tr>\n",
       "      <th>2003-02-07</th>\n",
       "      <td>7.07</td>\n",
       "      <td>18.30</td>\n",
       "      <td>27.66</td>\n",
       "      <td>829.69</td>\n",
       "    </tr>\n",
       "    <tr>\n",
       "      <th>2003-02-10</th>\n",
       "      <td>7.18</td>\n",
       "      <td>18.62</td>\n",
       "      <td>27.87</td>\n",
       "      <td>835.97</td>\n",
       "    </tr>\n",
       "    <tr>\n",
       "      <th>2003-02-11</th>\n",
       "      <td>7.18</td>\n",
       "      <td>18.25</td>\n",
       "      <td>27.67</td>\n",
       "      <td>829.20</td>\n",
       "    </tr>\n",
       "    <tr>\n",
       "      <th>2003-02-12</th>\n",
       "      <td>7.20</td>\n",
       "      <td>18.25</td>\n",
       "      <td>27.12</td>\n",
       "      <td>818.68</td>\n",
       "    </tr>\n",
       "    <tr>\n",
       "      <th>2003-02-13</th>\n",
       "      <td>7.27</td>\n",
       "      <td>18.46</td>\n",
       "      <td>27.47</td>\n",
       "      <td>817.37</td>\n",
       "    </tr>\n",
       "    <tr>\n",
       "      <th>...</th>\n",
       "      <td>...</td>\n",
       "      <td>...</td>\n",
       "      <td>...</td>\n",
       "      <td>...</td>\n",
       "    </tr>\n",
       "    <tr>\n",
       "      <th>2011-09-02</th>\n",
       "      <td>374.05</td>\n",
       "      <td>25.80</td>\n",
       "      <td>72.14</td>\n",
       "      <td>1173.97</td>\n",
       "    </tr>\n",
       "    <tr>\n",
       "      <th>2011-09-06</th>\n",
       "      <td>379.74</td>\n",
       "      <td>25.51</td>\n",
       "      <td>71.15</td>\n",
       "      <td>1165.24</td>\n",
       "    </tr>\n",
       "    <tr>\n",
       "      <th>2011-09-07</th>\n",
       "      <td>383.93</td>\n",
       "      <td>26.00</td>\n",
       "      <td>73.65</td>\n",
       "      <td>1198.62</td>\n",
       "    </tr>\n",
       "    <tr>\n",
       "      <th>2011-09-08</th>\n",
       "      <td>384.14</td>\n",
       "      <td>26.22</td>\n",
       "      <td>72.82</td>\n",
       "      <td>1185.90</td>\n",
       "    </tr>\n",
       "    <tr>\n",
       "      <th>2011-09-09</th>\n",
       "      <td>377.48</td>\n",
       "      <td>25.74</td>\n",
       "      <td>71.01</td>\n",
       "      <td>1154.23</td>\n",
       "    </tr>\n",
       "    <tr>\n",
       "      <th>2011-09-12</th>\n",
       "      <td>379.94</td>\n",
       "      <td>25.89</td>\n",
       "      <td>71.84</td>\n",
       "      <td>1162.27</td>\n",
       "    </tr>\n",
       "    <tr>\n",
       "      <th>2011-09-13</th>\n",
       "      <td>384.62</td>\n",
       "      <td>26.04</td>\n",
       "      <td>71.65</td>\n",
       "      <td>1172.87</td>\n",
       "    </tr>\n",
       "    <tr>\n",
       "      <th>2011-09-14</th>\n",
       "      <td>389.30</td>\n",
       "      <td>26.50</td>\n",
       "      <td>72.64</td>\n",
       "      <td>1188.68</td>\n",
       "    </tr>\n",
       "    <tr>\n",
       "      <th>2011-09-15</th>\n",
       "      <td>392.96</td>\n",
       "      <td>26.99</td>\n",
       "      <td>74.01</td>\n",
       "      <td>1209.11</td>\n",
       "    </tr>\n",
       "    <tr>\n",
       "      <th>2011-09-16</th>\n",
       "      <td>400.50</td>\n",
       "      <td>27.12</td>\n",
       "      <td>74.55</td>\n",
       "      <td>1216.01</td>\n",
       "    </tr>\n",
       "    <tr>\n",
       "      <th>2011-09-19</th>\n",
       "      <td>411.63</td>\n",
       "      <td>27.21</td>\n",
       "      <td>73.70</td>\n",
       "      <td>1204.09</td>\n",
       "    </tr>\n",
       "    <tr>\n",
       "      <th>2011-09-20</th>\n",
       "      <td>413.45</td>\n",
       "      <td>26.98</td>\n",
       "      <td>74.01</td>\n",
       "      <td>1202.09</td>\n",
       "    </tr>\n",
       "    <tr>\n",
       "      <th>2011-09-21</th>\n",
       "      <td>412.14</td>\n",
       "      <td>25.99</td>\n",
       "      <td>71.97</td>\n",
       "      <td>1166.76</td>\n",
       "    </tr>\n",
       "    <tr>\n",
       "      <th>2011-09-22</th>\n",
       "      <td>401.82</td>\n",
       "      <td>25.06</td>\n",
       "      <td>69.24</td>\n",
       "      <td>1129.56</td>\n",
       "    </tr>\n",
       "    <tr>\n",
       "      <th>2011-09-23</th>\n",
       "      <td>404.30</td>\n",
       "      <td>25.06</td>\n",
       "      <td>69.31</td>\n",
       "      <td>1136.43</td>\n",
       "    </tr>\n",
       "    <tr>\n",
       "      <th>2011-09-26</th>\n",
       "      <td>403.17</td>\n",
       "      <td>25.44</td>\n",
       "      <td>71.72</td>\n",
       "      <td>1162.95</td>\n",
       "    </tr>\n",
       "    <tr>\n",
       "      <th>2011-09-27</th>\n",
       "      <td>399.26</td>\n",
       "      <td>25.67</td>\n",
       "      <td>72.91</td>\n",
       "      <td>1175.38</td>\n",
       "    </tr>\n",
       "    <tr>\n",
       "      <th>2011-09-28</th>\n",
       "      <td>397.01</td>\n",
       "      <td>25.58</td>\n",
       "      <td>72.07</td>\n",
       "      <td>1151.06</td>\n",
       "    </tr>\n",
       "    <tr>\n",
       "      <th>2011-09-29</th>\n",
       "      <td>390.57</td>\n",
       "      <td>25.45</td>\n",
       "      <td>73.88</td>\n",
       "      <td>1160.40</td>\n",
       "    </tr>\n",
       "    <tr>\n",
       "      <th>2011-09-30</th>\n",
       "      <td>381.32</td>\n",
       "      <td>24.89</td>\n",
       "      <td>72.63</td>\n",
       "      <td>1131.42</td>\n",
       "    </tr>\n",
       "    <tr>\n",
       "      <th>2011-10-03</th>\n",
       "      <td>374.60</td>\n",
       "      <td>24.53</td>\n",
       "      <td>71.15</td>\n",
       "      <td>1099.23</td>\n",
       "    </tr>\n",
       "    <tr>\n",
       "      <th>2011-10-04</th>\n",
       "      <td>372.50</td>\n",
       "      <td>25.34</td>\n",
       "      <td>72.83</td>\n",
       "      <td>1123.95</td>\n",
       "    </tr>\n",
       "    <tr>\n",
       "      <th>2011-10-05</th>\n",
       "      <td>378.25</td>\n",
       "      <td>25.89</td>\n",
       "      <td>73.95</td>\n",
       "      <td>1144.03</td>\n",
       "    </tr>\n",
       "    <tr>\n",
       "      <th>2011-10-06</th>\n",
       "      <td>377.37</td>\n",
       "      <td>26.34</td>\n",
       "      <td>73.89</td>\n",
       "      <td>1164.97</td>\n",
       "    </tr>\n",
       "    <tr>\n",
       "      <th>2011-10-07</th>\n",
       "      <td>369.80</td>\n",
       "      <td>26.25</td>\n",
       "      <td>73.56</td>\n",
       "      <td>1155.46</td>\n",
       "    </tr>\n",
       "    <tr>\n",
       "      <th>2011-10-10</th>\n",
       "      <td>388.81</td>\n",
       "      <td>26.94</td>\n",
       "      <td>76.28</td>\n",
       "      <td>1194.89</td>\n",
       "    </tr>\n",
       "    <tr>\n",
       "      <th>2011-10-11</th>\n",
       "      <td>400.29</td>\n",
       "      <td>27.00</td>\n",
       "      <td>76.27</td>\n",
       "      <td>1195.54</td>\n",
       "    </tr>\n",
       "    <tr>\n",
       "      <th>2011-10-12</th>\n",
       "      <td>402.19</td>\n",
       "      <td>26.96</td>\n",
       "      <td>77.16</td>\n",
       "      <td>1207.25</td>\n",
       "    </tr>\n",
       "    <tr>\n",
       "      <th>2011-10-13</th>\n",
       "      <td>408.43</td>\n",
       "      <td>27.18</td>\n",
       "      <td>76.37</td>\n",
       "      <td>1203.66</td>\n",
       "    </tr>\n",
       "    <tr>\n",
       "      <th>2011-10-14</th>\n",
       "      <td>422.00</td>\n",
       "      <td>27.27</td>\n",
       "      <td>78.11</td>\n",
       "      <td>1224.58</td>\n",
       "    </tr>\n",
       "  </tbody>\n",
       "</table>\n",
       "<p>2214 rows × 4 columns</p>\n",
       "</div>"
      ],
      "text/plain": [
       "              AAPL   MSFT    XOM      SPX\n",
       "2003-01-02    7.40  21.11  29.22   909.03\n",
       "2003-01-03    7.45  21.14  29.24   908.59\n",
       "2003-01-06    7.45  21.52  29.96   929.01\n",
       "2003-01-07    7.43  21.93  28.95   922.93\n",
       "2003-01-08    7.28  21.31  28.83   909.93\n",
       "2003-01-09    7.34  21.93  29.44   927.57\n",
       "2003-01-10    7.36  21.97  29.03   927.57\n",
       "2003-01-13    7.32  22.16  28.91   926.26\n",
       "2003-01-14    7.30  22.39  29.17   931.66\n",
       "2003-01-15    7.22  22.11  28.77   918.22\n",
       "2003-01-16    7.31  21.75  28.90   914.60\n",
       "2003-01-17    7.05  20.22  28.60   901.78\n",
       "2003-01-21    7.01  20.17  27.94   887.62\n",
       "2003-01-22    6.94  20.04  27.58   878.36\n",
       "2003-01-23    7.09  20.54  27.52   887.34\n",
       "2003-01-24    6.90  19.59  26.93   861.40\n",
       "2003-01-27    7.07  19.32  26.21   847.48\n",
       "2003-01-28    7.29  19.18  26.90   858.54\n",
       "2003-01-29    7.47  19.61  27.88   864.36\n",
       "2003-01-30    7.16  18.95  27.37   844.61\n",
       "2003-01-31    7.18  18.65  28.13   855.70\n",
       "2003-02-03    7.33  19.08  28.52   860.32\n",
       "2003-02-04    7.30  18.59  28.52   848.20\n",
       "2003-02-05    7.22  18.45  28.11   843.59\n",
       "2003-02-06    7.22  18.63  27.87   838.15\n",
       "2003-02-07    7.07  18.30  27.66   829.69\n",
       "2003-02-10    7.18  18.62  27.87   835.97\n",
       "2003-02-11    7.18  18.25  27.67   829.20\n",
       "2003-02-12    7.20  18.25  27.12   818.68\n",
       "2003-02-13    7.27  18.46  27.47   817.37\n",
       "...            ...    ...    ...      ...\n",
       "2011-09-02  374.05  25.80  72.14  1173.97\n",
       "2011-09-06  379.74  25.51  71.15  1165.24\n",
       "2011-09-07  383.93  26.00  73.65  1198.62\n",
       "2011-09-08  384.14  26.22  72.82  1185.90\n",
       "2011-09-09  377.48  25.74  71.01  1154.23\n",
       "2011-09-12  379.94  25.89  71.84  1162.27\n",
       "2011-09-13  384.62  26.04  71.65  1172.87\n",
       "2011-09-14  389.30  26.50  72.64  1188.68\n",
       "2011-09-15  392.96  26.99  74.01  1209.11\n",
       "2011-09-16  400.50  27.12  74.55  1216.01\n",
       "2011-09-19  411.63  27.21  73.70  1204.09\n",
       "2011-09-20  413.45  26.98  74.01  1202.09\n",
       "2011-09-21  412.14  25.99  71.97  1166.76\n",
       "2011-09-22  401.82  25.06  69.24  1129.56\n",
       "2011-09-23  404.30  25.06  69.31  1136.43\n",
       "2011-09-26  403.17  25.44  71.72  1162.95\n",
       "2011-09-27  399.26  25.67  72.91  1175.38\n",
       "2011-09-28  397.01  25.58  72.07  1151.06\n",
       "2011-09-29  390.57  25.45  73.88  1160.40\n",
       "2011-09-30  381.32  24.89  72.63  1131.42\n",
       "2011-10-03  374.60  24.53  71.15  1099.23\n",
       "2011-10-04  372.50  25.34  72.83  1123.95\n",
       "2011-10-05  378.25  25.89  73.95  1144.03\n",
       "2011-10-06  377.37  26.34  73.89  1164.97\n",
       "2011-10-07  369.80  26.25  73.56  1155.46\n",
       "2011-10-10  388.81  26.94  76.28  1194.89\n",
       "2011-10-11  400.29  27.00  76.27  1195.54\n",
       "2011-10-12  402.19  26.96  77.16  1207.25\n",
       "2011-10-13  408.43  27.18  76.37  1203.66\n",
       "2011-10-14  422.00  27.27  78.11  1224.58\n",
       "\n",
       "[2214 rows x 4 columns]"
      ]
     },
     "execution_count": 123,
     "metadata": {},
     "output_type": "execute_result"
    }
   ],
   "source": [
    "close_px_all = pd.read_csv('examples/stock_px_2.csv', parse_dates=True, index_col=0)\n",
    "close_px_all"
   ]
  },
  {
   "cell_type": "code",
   "execution_count": 236,
   "metadata": {},
   "outputs": [],
   "source": [
    "close_px = close_px_all[['AAPL', 'MSFT', 'XOM']]"
   ]
  },
  {
   "cell_type": "code",
   "execution_count": 237,
   "metadata": {},
   "outputs": [],
   "source": [
    "close_px = close_px.resample('B').ffill()"
   ]
  },
  {
   "cell_type": "code",
   "execution_count": 238,
   "metadata": {},
   "outputs": [
    {
     "data": {
      "text/plain": [
       "<matplotlib.axes._subplots.AxesSubplot at 0x1fbb6269630>"
      ]
     },
     "execution_count": 238,
     "metadata": {},
     "output_type": "execute_result"
    },
    {
     "data": {
      "image/png": "[encoded data removed]",
      "text/plain": [
       "<Figure size 432x288 with 1 Axes>"
      ]
     },
     "metadata": {
      "needs_background": "light"
     },
     "output_type": "display_data"
    }
   ],
   "source": [
    "close_px.AAPL.plot()"
   ]
  },
  {
   "cell_type": "code",
   "execution_count": 239,
   "metadata": {},
   "outputs": [
    {
     "data": {
      "text/plain": [
       "<matplotlib.axes._subplots.AxesSubplot at 0x1fbb62e2048>"
      ]
     },
     "execution_count": 239,
     "metadata": {},
     "output_type": "execute_result"
    },
    {
     "data": {
      "image/png": "[encoded data removed]",
      "text/plain": [
       "<Figure size 432x288 with 1 Axes>"
      ]
     },
     "metadata": {
      "needs_background": "light"
     },
     "output_type": "display_data"
    }
   ],
   "source": [
    "close_px.AAPL.rolling(250).mean().plot()"
   ]
  },
  {
   "cell_type": "code",
   "execution_count": 240,
   "metadata": {},
   "outputs": [],
   "source": [
    "appl_std250 = close_px.AAPL.rolling(250,  min_periods=10).std()"
   ]
  },
  {
   "cell_type": "code",
   "execution_count": 241,
   "metadata": {},
   "outputs": [
    {
     "data": {
      "text/plain": [
       "2003-01-09         NaN\n",
       "2003-01-10         NaN\n",
       "2003-01-13         NaN\n",
       "2003-01-14         NaN\n",
       "2003-01-15    0.077496\n",
       "2003-01-16    0.074760\n",
       "2003-01-17    0.112368\n",
       "Freq: B, Name: AAPL, dtype: float64"
      ]
     },
     "execution_count": 241,
     "metadata": {},
     "output_type": "execute_result"
    }
   ],
   "source": [
    "appl_std250[5:12]"
   ]
  },
  {
   "cell_type": "code",
   "execution_count": 242,
   "metadata": {},
   "outputs": [
    {
     "data": {
      "text/plain": [
       "<matplotlib.axes._subplots.AxesSubplot at 0x1fbb63d7470>"
      ]
     },
     "execution_count": 242,
     "metadata": {},
     "output_type": "execute_result"
    },
    {
     "data": {
      "image/png": "[encoded data removed]",
      "text/plain": [
       "<Figure size 432x288 with 1 Axes>"
      ]
     },
     "metadata": {
      "needs_background": "light"
     },
     "output_type": "display_data"
    }
   ],
   "source": [
    "appl_std250.plot()"
   ]
  },
  {
   "cell_type": "code",
   "execution_count": 243,
   "metadata": {},
   "outputs": [],
   "source": [
    "expanding_mean = appl_std250.expanding().mean()"
   ]
  },
  {
   "cell_type": "code",
   "execution_count": 244,
   "metadata": {},
   "outputs": [
    {
     "data": {
      "text/plain": [
       "<matplotlib.axes._subplots.AxesSubplot at 0x1fbb6269f28>"
      ]
     },
     "execution_count": 244,
     "metadata": {},
     "output_type": "execute_result"
    },
    {
     "data": {
      "image/png": "[encoded data removed]",
      "text/plain": [
       "<Figure size 432x288 with 1 Axes>"
      ]
     },
     "metadata": {
      "needs_background": "light"
     },
     "output_type": "display_data"
    }
   ],
   "source": [
    "close_px.rolling(60).mean().plot(logy=True)"
   ]
  },
  {
   "cell_type": "code",
   "execution_count": 245,
   "metadata": {},
   "outputs": [
    {
     "data": {
      "text/html": [
       "<div>\n",
       "<style scoped>\n",
       "    .dataframe tbody tr th:only-of-type {\n",
       "        vertical-align: middle;\n",
       "    }\n",
       "\n",
       "    .dataframe tbody tr th {\n",
       "        vertical-align: top;\n",
       "    }\n",
       "\n",
       "    .dataframe thead th {\n",
       "        text-align: right;\n",
       "    }\n",
       "</style>\n",
       "<table border=\"1\" class=\"dataframe\">\n",
       "  <thead>\n",
       "    <tr style=\"text-align: right;\">\n",
       "      <th></th>\n",
       "      <th>AAPL</th>\n",
       "      <th>MSFT</th>\n",
       "      <th>XOM</th>\n",
       "    </tr>\n",
       "  </thead>\n",
       "  <tbody>\n",
       "    <tr>\n",
       "      <th>2003-01-02</th>\n",
       "      <td>7.400000</td>\n",
       "      <td>21.110000</td>\n",
       "      <td>29.220000</td>\n",
       "    </tr>\n",
       "    <tr>\n",
       "      <th>2003-01-03</th>\n",
       "      <td>7.425000</td>\n",
       "      <td>21.125000</td>\n",
       "      <td>29.230000</td>\n",
       "    </tr>\n",
       "    <tr>\n",
       "      <th>2003-01-06</th>\n",
       "      <td>7.433333</td>\n",
       "      <td>21.256667</td>\n",
       "      <td>29.473333</td>\n",
       "    </tr>\n",
       "    <tr>\n",
       "      <th>2003-01-07</th>\n",
       "      <td>7.432500</td>\n",
       "      <td>21.425000</td>\n",
       "      <td>29.342500</td>\n",
       "    </tr>\n",
       "    <tr>\n",
       "      <th>2003-01-08</th>\n",
       "      <td>7.402000</td>\n",
       "      <td>21.402000</td>\n",
       "      <td>29.240000</td>\n",
       "    </tr>\n",
       "    <tr>\n",
       "      <th>2003-01-09</th>\n",
       "      <td>7.391667</td>\n",
       "      <td>21.490000</td>\n",
       "      <td>29.273333</td>\n",
       "    </tr>\n",
       "    <tr>\n",
       "      <th>2003-01-10</th>\n",
       "      <td>7.387143</td>\n",
       "      <td>21.558571</td>\n",
       "      <td>29.238571</td>\n",
       "    </tr>\n",
       "    <tr>\n",
       "      <th>2003-01-13</th>\n",
       "      <td>7.378750</td>\n",
       "      <td>21.633750</td>\n",
       "      <td>29.197500</td>\n",
       "    </tr>\n",
       "    <tr>\n",
       "      <th>2003-01-14</th>\n",
       "      <td>7.370000</td>\n",
       "      <td>21.717778</td>\n",
       "      <td>29.194444</td>\n",
       "    </tr>\n",
       "    <tr>\n",
       "      <th>2003-01-15</th>\n",
       "      <td>7.355000</td>\n",
       "      <td>21.757000</td>\n",
       "      <td>29.152000</td>\n",
       "    </tr>\n",
       "    <tr>\n",
       "      <th>2003-01-16</th>\n",
       "      <td>7.350909</td>\n",
       "      <td>21.756364</td>\n",
       "      <td>29.129091</td>\n",
       "    </tr>\n",
       "    <tr>\n",
       "      <th>2003-01-17</th>\n",
       "      <td>7.325833</td>\n",
       "      <td>21.628333</td>\n",
       "      <td>29.085000</td>\n",
       "    </tr>\n",
       "    <tr>\n",
       "      <th>2003-01-20</th>\n",
       "      <td>7.304615</td>\n",
       "      <td>21.520000</td>\n",
       "      <td>29.047692</td>\n",
       "    </tr>\n",
       "    <tr>\n",
       "      <th>2003-01-21</th>\n",
       "      <td>7.283571</td>\n",
       "      <td>21.423571</td>\n",
       "      <td>28.968571</td>\n",
       "    </tr>\n",
       "    <tr>\n",
       "      <th>2003-01-22</th>\n",
       "      <td>7.250714</td>\n",
       "      <td>21.347143</td>\n",
       "      <td>28.851429</td>\n",
       "    </tr>\n",
       "    <tr>\n",
       "      <th>2003-01-23</th>\n",
       "      <td>7.225000</td>\n",
       "      <td>21.304286</td>\n",
       "      <td>28.728571</td>\n",
       "    </tr>\n",
       "    <tr>\n",
       "      <th>2003-01-24</th>\n",
       "      <td>7.203333</td>\n",
       "      <td>21.190000</td>\n",
       "      <td>28.608667</td>\n",
       "    </tr>\n",
       "    <tr>\n",
       "      <th>2003-01-27</th>\n",
       "      <td>7.160000</td>\n",
       "      <td>20.980000</td>\n",
       "      <td>28.316429</td>\n",
       "    </tr>\n",
       "    <tr>\n",
       "      <th>2003-01-28</th>\n",
       "      <td>7.160714</td>\n",
       "      <td>20.827857</td>\n",
       "      <td>28.178571</td>\n",
       "    </tr>\n",
       "    <tr>\n",
       "      <th>2003-01-29</th>\n",
       "      <td>7.170000</td>\n",
       "      <td>20.662143</td>\n",
       "      <td>28.067143</td>\n",
       "    </tr>\n",
       "    <tr>\n",
       "      <th>2003-01-30</th>\n",
       "      <td>7.155714</td>\n",
       "      <td>20.446429</td>\n",
       "      <td>27.948571</td>\n",
       "    </tr>\n",
       "    <tr>\n",
       "      <th>2003-01-31</th>\n",
       "      <td>7.157333</td>\n",
       "      <td>20.326667</td>\n",
       "      <td>27.960667</td>\n",
       "    </tr>\n",
       "    <tr>\n",
       "      <th>2003-02-03</th>\n",
       "      <td>7.147857</td>\n",
       "      <td>19.959286</td>\n",
       "      <td>27.846429</td>\n",
       "    </tr>\n",
       "    <tr>\n",
       "      <th>2003-02-04</th>\n",
       "      <td>7.153571</td>\n",
       "      <td>19.707857</td>\n",
       "      <td>27.828571</td>\n",
       "    </tr>\n",
       "    <tr>\n",
       "      <th>2003-02-05</th>\n",
       "      <td>7.147143</td>\n",
       "      <td>19.472143</td>\n",
       "      <td>27.772143</td>\n",
       "    </tr>\n",
       "    <tr>\n",
       "      <th>2003-02-06</th>\n",
       "      <td>7.159286</td>\n",
       "      <td>19.358571</td>\n",
       "      <td>27.720000</td>\n",
       "    </tr>\n",
       "    <tr>\n",
       "      <th>2003-02-07</th>\n",
       "      <td>7.153333</td>\n",
       "      <td>19.288000</td>\n",
       "      <td>27.716000</td>\n",
       "    </tr>\n",
       "    <tr>\n",
       "      <th>2003-02-10</th>\n",
       "      <td>7.172857</td>\n",
       "      <td>19.110714</td>\n",
       "      <td>27.647857</td>\n",
       "    </tr>\n",
       "    <tr>\n",
       "      <th>2003-02-11</th>\n",
       "      <td>7.190000</td>\n",
       "      <td>18.982857</td>\n",
       "      <td>27.654286</td>\n",
       "    </tr>\n",
       "    <tr>\n",
       "      <th>2003-02-12</th>\n",
       "      <td>7.197857</td>\n",
       "      <td>18.819286</td>\n",
       "      <td>27.625714</td>\n",
       "    </tr>\n",
       "    <tr>\n",
       "      <th>...</th>\n",
       "      <td>...</td>\n",
       "      <td>...</td>\n",
       "      <td>...</td>\n",
       "    </tr>\n",
       "    <tr>\n",
       "      <th>2011-09-05</th>\n",
       "      <td>375.711429</td>\n",
       "      <td>25.276429</td>\n",
       "      <td>72.607857</td>\n",
       "    </tr>\n",
       "    <tr>\n",
       "      <th>2011-09-06</th>\n",
       "      <td>375.661429</td>\n",
       "      <td>25.295000</td>\n",
       "      <td>72.392857</td>\n",
       "    </tr>\n",
       "    <tr>\n",
       "      <th>2011-09-07</th>\n",
       "      <td>376.938571</td>\n",
       "      <td>25.390000</td>\n",
       "      <td>72.586429</td>\n",
       "    </tr>\n",
       "    <tr>\n",
       "      <th>2011-09-08</th>\n",
       "      <td>378.946429</td>\n",
       "      <td>25.545000</td>\n",
       "      <td>72.802143</td>\n",
       "    </tr>\n",
       "    <tr>\n",
       "      <th>2011-09-09</th>\n",
       "      <td>378.848667</td>\n",
       "      <td>25.558000</td>\n",
       "      <td>72.682667</td>\n",
       "    </tr>\n",
       "    <tr>\n",
       "      <th>2011-09-12</th>\n",
       "      <td>380.902143</td>\n",
       "      <td>25.754286</td>\n",
       "      <td>72.731429</td>\n",
       "    </tr>\n",
       "    <tr>\n",
       "      <th>2011-09-13</th>\n",
       "      <td>381.505000</td>\n",
       "      <td>25.835714</td>\n",
       "      <td>72.596429</td>\n",
       "    </tr>\n",
       "    <tr>\n",
       "      <th>2011-09-14</th>\n",
       "      <td>382.617857</td>\n",
       "      <td>25.973571</td>\n",
       "      <td>72.658571</td>\n",
       "    </tr>\n",
       "    <tr>\n",
       "      <th>2011-09-15</th>\n",
       "      <td>383.287857</td>\n",
       "      <td>26.097857</td>\n",
       "      <td>72.756429</td>\n",
       "    </tr>\n",
       "    <tr>\n",
       "      <th>2011-09-16</th>\n",
       "      <td>384.435333</td>\n",
       "      <td>26.166000</td>\n",
       "      <td>72.876000</td>\n",
       "    </tr>\n",
       "    <tr>\n",
       "      <th>2011-09-19</th>\n",
       "      <td>385.585714</td>\n",
       "      <td>26.259286</td>\n",
       "      <td>72.772143</td>\n",
       "    </tr>\n",
       "    <tr>\n",
       "      <th>2011-09-20</th>\n",
       "      <td>387.630000</td>\n",
       "      <td>26.286429</td>\n",
       "      <td>72.771429</td>\n",
       "    </tr>\n",
       "    <tr>\n",
       "      <th>2011-09-21</th>\n",
       "      <td>389.852143</td>\n",
       "      <td>26.270714</td>\n",
       "      <td>72.662857</td>\n",
       "    </tr>\n",
       "    <tr>\n",
       "      <th>2011-09-22</th>\n",
       "      <td>391.835714</td>\n",
       "      <td>26.217857</td>\n",
       "      <td>72.455714</td>\n",
       "    </tr>\n",
       "    <tr>\n",
       "      <th>2011-09-23</th>\n",
       "      <td>392.666667</td>\n",
       "      <td>26.140667</td>\n",
       "      <td>72.246000</td>\n",
       "    </tr>\n",
       "    <tr>\n",
       "      <th>2011-09-26</th>\n",
       "      <td>395.670000</td>\n",
       "      <td>26.160000</td>\n",
       "      <td>72.294286</td>\n",
       "    </tr>\n",
       "    <tr>\n",
       "      <th>2011-09-27</th>\n",
       "      <td>396.765000</td>\n",
       "      <td>26.136429</td>\n",
       "      <td>72.241429</td>\n",
       "    </tr>\n",
       "    <tr>\n",
       "      <th>2011-09-28</th>\n",
       "      <td>397.684286</td>\n",
       "      <td>26.090714</td>\n",
       "      <td>72.187857</td>\n",
       "    </tr>\n",
       "    <tr>\n",
       "      <th>2011-09-29</th>\n",
       "      <td>398.619286</td>\n",
       "      <td>26.070000</td>\n",
       "      <td>72.392857</td>\n",
       "    </tr>\n",
       "    <tr>\n",
       "      <th>2011-09-30</th>\n",
       "      <td>397.466000</td>\n",
       "      <td>25.991333</td>\n",
       "      <td>72.408667</td>\n",
       "    </tr>\n",
       "    <tr>\n",
       "      <th>2011-10-03</th>\n",
       "      <td>398.002143</td>\n",
       "      <td>25.890714</td>\n",
       "      <td>72.413571</td>\n",
       "    </tr>\n",
       "    <tr>\n",
       "      <th>2011-10-04</th>\n",
       "      <td>396.802143</td>\n",
       "      <td>25.807857</td>\n",
       "      <td>72.427143</td>\n",
       "    </tr>\n",
       "    <tr>\n",
       "      <th>2011-10-05</th>\n",
       "      <td>395.751429</td>\n",
       "      <td>25.729286</td>\n",
       "      <td>72.422857</td>\n",
       "    </tr>\n",
       "    <tr>\n",
       "      <th>2011-10-06</th>\n",
       "      <td>394.099286</td>\n",
       "      <td>25.673571</td>\n",
       "      <td>72.375714</td>\n",
       "    </tr>\n",
       "    <tr>\n",
       "      <th>2011-10-07</th>\n",
       "      <td>392.479333</td>\n",
       "      <td>25.712000</td>\n",
       "      <td>72.454667</td>\n",
       "    </tr>\n",
       "    <tr>\n",
       "      <th>2011-10-10</th>\n",
       "      <td>389.351429</td>\n",
       "      <td>25.602143</td>\n",
       "      <td>72.527857</td>\n",
       "    </tr>\n",
       "    <tr>\n",
       "      <th>2011-10-11</th>\n",
       "      <td>388.505000</td>\n",
       "      <td>25.674286</td>\n",
       "      <td>72.835000</td>\n",
       "    </tr>\n",
       "    <tr>\n",
       "      <th>2011-10-12</th>\n",
       "      <td>388.531429</td>\n",
       "      <td>25.810000</td>\n",
       "      <td>73.400714</td>\n",
       "    </tr>\n",
       "    <tr>\n",
       "      <th>2011-10-13</th>\n",
       "      <td>388.826429</td>\n",
       "      <td>25.961429</td>\n",
       "      <td>73.905000</td>\n",
       "    </tr>\n",
       "    <tr>\n",
       "      <th>2011-10-14</th>\n",
       "      <td>391.038000</td>\n",
       "      <td>26.048667</td>\n",
       "      <td>74.185333</td>\n",
       "    </tr>\n",
       "  </tbody>\n",
       "</table>\n",
       "<p>2292 rows × 3 columns</p>\n",
       "</div>"
      ],
      "text/plain": [
       "                  AAPL       MSFT        XOM\n",
       "2003-01-02    7.400000  21.110000  29.220000\n",
       "2003-01-03    7.425000  21.125000  29.230000\n",
       "2003-01-06    7.433333  21.256667  29.473333\n",
       "2003-01-07    7.432500  21.425000  29.342500\n",
       "2003-01-08    7.402000  21.402000  29.240000\n",
       "2003-01-09    7.391667  21.490000  29.273333\n",
       "2003-01-10    7.387143  21.558571  29.238571\n",
       "2003-01-13    7.378750  21.633750  29.197500\n",
       "2003-01-14    7.370000  21.717778  29.194444\n",
       "2003-01-15    7.355000  21.757000  29.152000\n",
       "2003-01-16    7.350909  21.756364  29.129091\n",
       "2003-01-17    7.325833  21.628333  29.085000\n",
       "2003-01-20    7.304615  21.520000  29.047692\n",
       "2003-01-21    7.283571  21.423571  28.968571\n",
       "2003-01-22    7.250714  21.347143  28.851429\n",
       "2003-01-23    7.225000  21.304286  28.728571\n",
       "2003-01-24    7.203333  21.190000  28.608667\n",
       "2003-01-27    7.160000  20.980000  28.316429\n",
       "2003-01-28    7.160714  20.827857  28.178571\n",
       "2003-01-29    7.170000  20.662143  28.067143\n",
       "2003-01-30    7.155714  20.446429  27.948571\n",
       "2003-01-31    7.157333  20.326667  27.960667\n",
       "2003-02-03    7.147857  19.959286  27.846429\n",
       "2003-02-04    7.153571  19.707857  27.828571\n",
       "2003-02-05    7.147143  19.472143  27.772143\n",
       "2003-02-06    7.159286  19.358571  27.720000\n",
       "2003-02-07    7.153333  19.288000  27.716000\n",
       "2003-02-10    7.172857  19.110714  27.647857\n",
       "2003-02-11    7.190000  18.982857  27.654286\n",
       "2003-02-12    7.197857  18.819286  27.625714\n",
       "...                ...        ...        ...\n",
       "2011-09-05  375.711429  25.276429  72.607857\n",
       "2011-09-06  375.661429  25.295000  72.392857\n",
       "2011-09-07  376.938571  25.390000  72.586429\n",
       "2011-09-08  378.946429  25.545000  72.802143\n",
       "2011-09-09  378.848667  25.558000  72.682667\n",
       "2011-09-12  380.902143  25.754286  72.731429\n",
       "2011-09-13  381.505000  25.835714  72.596429\n",
       "2011-09-14  382.617857  25.973571  72.658571\n",
       "2011-09-15  383.287857  26.097857  72.756429\n",
       "2011-09-16  384.435333  26.166000  72.876000\n",
       "2011-09-19  385.585714  26.259286  72.772143\n",
       "2011-09-20  387.630000  26.286429  72.771429\n",
       "2011-09-21  389.852143  26.270714  72.662857\n",
       "2011-09-22  391.835714  26.217857  72.455714\n",
       "2011-09-23  392.666667  26.140667  72.246000\n",
       "2011-09-26  395.670000  26.160000  72.294286\n",
       "2011-09-27  396.765000  26.136429  72.241429\n",
       "2011-09-28  397.684286  26.090714  72.187857\n",
       "2011-09-29  398.619286  26.070000  72.392857\n",
       "2011-09-30  397.466000  25.991333  72.408667\n",
       "2011-10-03  398.002143  25.890714  72.413571\n",
       "2011-10-04  396.802143  25.807857  72.427143\n",
       "2011-10-05  395.751429  25.729286  72.422857\n",
       "2011-10-06  394.099286  25.673571  72.375714\n",
       "2011-10-07  392.479333  25.712000  72.454667\n",
       "2011-10-10  389.351429  25.602143  72.527857\n",
       "2011-10-11  388.505000  25.674286  72.835000\n",
       "2011-10-12  388.531429  25.810000  73.400714\n",
       "2011-10-13  388.826429  25.961429  73.905000\n",
       "2011-10-14  391.038000  26.048667  74.185333\n",
       "\n",
       "[2292 rows x 3 columns]"
      ]
     },
     "execution_count": 245,
     "metadata": {},
     "output_type": "execute_result"
    }
   ],
   "source": [
    "close_px.rolling('20D').mean()"
   ]
  },
  {
   "cell_type": "markdown",
   "metadata": {},
   "source": [
    "<p style=\"color:blue; font-size:18px;\">Funções exponencialmente ponderadas</p>\n",
    "<p style=\"color:red; font-size:10px;\">pg 440</p>"
   ]
  },
  {
   "cell_type": "code",
   "execution_count": 250,
   "metadata": {},
   "outputs": [
    {
     "data": {
      "text/plain": [
       "2006-01-02     71.89\n",
       "2006-01-03     74.75\n",
       "2006-01-04     74.97\n",
       "2006-01-05     74.38\n",
       "2006-01-06     76.30\n",
       "2006-01-09     76.05\n",
       "2006-01-10     80.86\n",
       "2006-01-11     83.90\n",
       "2006-01-12     84.29\n",
       "2006-01-13     85.59\n",
       "2006-01-16     85.59\n",
       "2006-01-17     84.71\n",
       "2006-01-18     82.49\n",
       "2006-01-19     79.04\n",
       "2006-01-20     76.09\n",
       "2006-01-23     77.67\n",
       "2006-01-24     76.04\n",
       "2006-01-25     74.20\n",
       "2006-01-26     72.33\n",
       "2006-01-27     72.03\n",
       "2006-01-30     75.00\n",
       "2006-01-31     75.51\n",
       "2006-02-01     75.42\n",
       "2006-02-02     72.10\n",
       "2006-02-03     71.85\n",
       "2006-02-06     67.30\n",
       "2006-02-07     67.60\n",
       "2006-02-08     68.81\n",
       "2006-02-09     64.95\n",
       "2006-02-10     67.31\n",
       "               ...  \n",
       "2007-11-20    168.85\n",
       "2007-11-21    168.46\n",
       "2007-11-22    168.46\n",
       "2007-11-23    171.54\n",
       "2007-11-26    172.54\n",
       "2007-11-27    174.81\n",
       "2007-11-28    180.22\n",
       "2007-11-29    184.29\n",
       "2007-11-30    182.22\n",
       "2007-12-03    178.86\n",
       "2007-12-04    179.81\n",
       "2007-12-05    185.50\n",
       "2007-12-06    189.95\n",
       "2007-12-07    194.30\n",
       "2007-12-10    194.21\n",
       "2007-12-11    188.54\n",
       "2007-12-12    190.86\n",
       "2007-12-13    191.83\n",
       "2007-12-14    190.39\n",
       "2007-12-17    184.40\n",
       "2007-12-18    182.98\n",
       "2007-12-19    183.12\n",
       "2007-12-20    187.21\n",
       "2007-12-21    193.91\n",
       "2007-12-24    198.80\n",
       "2007-12-25    198.80\n",
       "2007-12-26    198.95\n",
       "2007-12-27    198.57\n",
       "2007-12-28    199.83\n",
       "2007-12-31    198.08\n",
       "Freq: B, Name: AAPL, Length: 521, dtype: float64"
      ]
     },
     "execution_count": 250,
     "metadata": {},
     "output_type": "execute_result"
    }
   ],
   "source": [
    "aapl_px = close_px.AAPL['2006':'2007']\n",
    "aapl_px"
   ]
  },
  {
   "cell_type": "code",
   "execution_count": 251,
   "metadata": {},
   "outputs": [
    {
     "data": {
      "text/plain": [
       "2006-01-02           NaN\n",
       "2006-01-03           NaN\n",
       "2006-01-04           NaN\n",
       "2006-01-05           NaN\n",
       "2006-01-06           NaN\n",
       "2006-01-09           NaN\n",
       "2006-01-10           NaN\n",
       "2006-01-11           NaN\n",
       "2006-01-12           NaN\n",
       "2006-01-13           NaN\n",
       "2006-01-16           NaN\n",
       "2006-01-17           NaN\n",
       "2006-01-18           NaN\n",
       "2006-01-19           NaN\n",
       "2006-01-20           NaN\n",
       "2006-01-23           NaN\n",
       "2006-01-24           NaN\n",
       "2006-01-25           NaN\n",
       "2006-01-26           NaN\n",
       "2006-01-27     78.158500\n",
       "2006-01-30     78.008095\n",
       "2006-01-31     77.894545\n",
       "2006-02-01     77.786957\n",
       "2006-02-02     77.550000\n",
       "2006-02-03     77.322000\n",
       "2006-02-06     76.936538\n",
       "2006-02-07     76.590741\n",
       "2006-02-08     76.312857\n",
       "2006-02-09     75.921034\n",
       "2006-02-10     75.634000\n",
       "                 ...    \n",
       "2007-11-20    175.307000\n",
       "2007-11-21    175.362667\n",
       "2007-11-22    175.570333\n",
       "2007-11-23    175.713333\n",
       "2007-11-26    175.898667\n",
       "2007-11-27    176.073000\n",
       "2007-11-28    176.322000\n",
       "2007-11-29    176.681667\n",
       "2007-11-30    177.075000\n",
       "2007-12-03    177.225000\n",
       "2007-12-04    177.013333\n",
       "2007-12-05    176.999000\n",
       "2007-12-06    177.238000\n",
       "2007-12-07    177.558000\n",
       "2007-12-10    177.862000\n",
       "2007-12-11    177.913333\n",
       "2007-12-12    177.943667\n",
       "2007-12-13    178.090000\n",
       "2007-12-14    178.174000\n",
       "2007-12-17    178.114667\n",
       "2007-12-18    177.821000\n",
       "2007-12-19    177.715000\n",
       "2007-12-20    178.106333\n",
       "2007-12-21    179.057667\n",
       "2007-12-24    180.559000\n",
       "2007-12-25    181.520333\n",
       "2007-12-26    182.615000\n",
       "2007-12-27    183.757333\n",
       "2007-12-28    184.872000\n",
       "2007-12-31    186.009667\n",
       "Freq: B, Name: AAPL, Length: 521, dtype: float64"
      ]
     },
     "execution_count": 251,
     "metadata": {},
     "output_type": "execute_result"
    }
   ],
   "source": [
    "ma60 = aapl_px.rolling(30, min_periods=20).mean()\n",
    "ma60"
   ]
  },
  {
   "cell_type": "code",
   "execution_count": 252,
   "metadata": {},
   "outputs": [
    {
     "data": {
      "text/plain": [
       "2006-01-02     71.890000\n",
       "2006-01-03     73.367667\n",
       "2006-01-04     73.937767\n",
       "2006-01-05     74.059619\n",
       "2006-01-06     74.569360\n",
       "2006-01-09     74.859024\n",
       "2006-01-10     75.896932\n",
       "2006-01-11     77.145698\n",
       "2006-01-12     78.166996\n",
       "2006-01-13     79.150958\n",
       "2006-01-16     79.950115\n",
       "2006-01-17     80.507644\n",
       "2006-01-18     80.728233\n",
       "2006-01-19     80.548765\n",
       "2006-01-20     80.093788\n",
       "2006-01-23     79.855407\n",
       "2006-01-24     79.492441\n",
       "2006-01-25     79.003919\n",
       "2006-01-26     78.404534\n",
       "2006-01-27     77.846161\n",
       "2006-01-30     77.602477\n",
       "2006-01-31     77.427025\n",
       "2006-02-01     77.261930\n",
       "2006-02-02     76.844719\n",
       "2006-02-03     76.447500\n",
       "2006-02-06     75.730780\n",
       "2006-02-07     75.102414\n",
       "2006-02-08     74.622252\n",
       "2006-02-09     73.892783\n",
       "2006-02-10     73.401672\n",
       "                 ...    \n",
       "2007-11-20    170.393741\n",
       "2007-11-21    170.268984\n",
       "2007-11-22    170.152275\n",
       "2007-11-23    170.241806\n",
       "2007-11-26    170.390076\n",
       "2007-11-27    170.675233\n",
       "2007-11-28    171.291024\n",
       "2007-11-29    172.129668\n",
       "2007-11-30    172.780657\n",
       "2007-12-03    173.172872\n",
       "2007-12-04    173.601074\n",
       "2007-12-05    174.368747\n",
       "2007-12-06    175.373989\n",
       "2007-12-07    176.595022\n",
       "2007-12-10    177.731472\n",
       "2007-12-11    178.428797\n",
       "2007-12-12    179.230810\n",
       "2007-12-13    180.043661\n",
       "2007-12-14    180.711166\n",
       "2007-12-17    180.949156\n",
       "2007-12-18    181.080178\n",
       "2007-12-19    181.211779\n",
       "2007-12-20    181.598761\n",
       "2007-12-21    182.393035\n",
       "2007-12-24    183.451549\n",
       "2007-12-25    184.441771\n",
       "2007-12-26    185.377786\n",
       "2007-12-27    186.228897\n",
       "2007-12-28    187.106387\n",
       "2007-12-31    187.814362\n",
       "Freq: B, Name: AAPL, Length: 521, dtype: float64"
      ]
     },
     "execution_count": 252,
     "metadata": {},
     "output_type": "execute_result"
    }
   ],
   "source": [
    "ewma60 = aapl_px.ewm(span=30).mean()\n",
    "ewma60"
   ]
  },
  {
   "cell_type": "code",
   "execution_count": 265,
   "metadata": {},
   "outputs": [
    {
     "data": {
      "text/plain": [
       "<matplotlib.axes._subplots.AxesSubplot at 0x1fbb7a2e4a8>"
      ]
     },
     "execution_count": 265,
     "metadata": {},
     "output_type": "execute_result"
    },
    {
     "data": {
      "image/png": "[encoded data removed]",
      "text/plain": [
       "<Figure size 432x288 with 1 Axes>"
      ]
     },
     "metadata": {
      "needs_background": "light"
     },
     "output_type": "display_data"
    }
   ],
   "source": [
    "ma60.plot(style='k--', label='Simple MA')\n",
    "ewma60.plot(label='EW MA')"
   ]
  },
  {
   "cell_type": "markdown",
   "metadata": {},
   "source": [
    "<p style=\"color:blue; font-size:18px;\">Funções de janela móvel binárias</p>\n",
    "<p style=\"color:red; font-size:10px;\">pg 442</p>"
   ]
  },
  {
   "cell_type": "code",
   "execution_count": 266,
   "metadata": {},
   "outputs": [],
   "source": [
    "spx_px = close_px_all['SPX']"
   ]
  },
  {
   "cell_type": "code",
   "execution_count": 267,
   "metadata": {},
   "outputs": [],
   "source": [
    "spx_rets = spx_px.pct_change()"
   ]
  },
  {
   "cell_type": "code",
   "execution_count": 268,
   "metadata": {},
   "outputs": [],
   "source": [
    "returns = close_px.pct_change()"
   ]
  },
  {
   "cell_type": "code",
   "execution_count": 275,
   "metadata": {},
   "outputs": [
    {
     "data": {
      "text/plain": [
       "<matplotlib.axes._subplots.AxesSubplot at 0x1fbb8ee3cc0>"
      ]
     },
     "execution_count": 275,
     "metadata": {},
     "output_type": "execute_result"
    },
    {
     "data": {
      "image/png": "[encoded data removed]",
      "text/plain": [
       "<Figure size 432x288 with 1 Axes>"
      ]
     },
     "metadata": {
      "needs_background": "light"
     },
     "output_type": "display_data"
    }
   ],
   "source": [
    "corr = returns.AAPL.rolling(125, min_periods=100).corr(spx_rets)\n",
    "corr.plot()"
   ]
  },
  {
   "cell_type": "code",
   "execution_count": 274,
   "metadata": {},
   "outputs": [
    {
     "data": {
      "text/plain": [
       "<matplotlib.axes._subplots.AxesSubplot at 0x1fbb8d9fa90>"
      ]
     },
     "execution_count": 274,
     "metadata": {},
     "output_type": "execute_result"
    },
    {
     "data": {
      "image/png": "[encoded data removed]",
      "text/plain": [
       "<Figure size 432x288 with 1 Axes>"
      ]
     },
     "metadata": {
      "needs_background": "light"
     },
     "output_type": "display_data"
    }
   ],
   "source": [
    "corr = returns.rolling(125, min_periods=100).corr(spx_rets)\n",
    "corr.plot()"
   ]
  },
  {
   "cell_type": "markdown",
   "metadata": {},
   "source": [
    "<p style=\"color:blue; font-size:18px;\">Funções de janela móvel definidas pelo usuário</p>\n",
    "<p style=\"color:red; font-size:10px;\">pg 444</p>"
   ]
  },
  {
   "cell_type": "code",
   "execution_count": 278,
   "metadata": {},
   "outputs": [],
   "source": [
    "from scipy.stats import percentileofscore"
   ]
  },
  {
   "cell_type": "code",
   "execution_count": 279,
   "metadata": {},
   "outputs": [],
   "source": [
    "score_at_2percent = lambda x: percentileofscore(x, 0.02)"
   ]
  },
  {
   "cell_type": "code",
   "execution_count": 282,
   "metadata": {},
   "outputs": [
    {
     "name": "stderr",
     "output_type": "stream",
     "text": [
      "C:\\ProgramData\\Anaconda3\\lib\\site-packages\\ipykernel_launcher.py:1: FutureWarning: Currently, 'apply' passes the values as ndarrays to the applied function. In the future, this will change to passing it as Series objects. You need to specify 'raw=True' to keep the current behaviour, and you can pass 'raw=False' to silence this warning\n",
      "  \"\"\"Entry point for launching an IPython kernel.\n"
     ]
    },
    {
     "data": {
      "text/plain": [
       "<matplotlib.axes._subplots.AxesSubplot at 0x1fbbb483be0>"
      ]
     },
     "execution_count": 282,
     "metadata": {},
     "output_type": "execute_result"
    },
    {
     "data": {
      "image/png": "[encoded data removed]",
      "text/plain": [
       "<Figure size 432x288 with 1 Axes>"
      ]
     },
     "metadata": {
      "needs_background": "light"
     },
     "output_type": "display_data"
    }
   ],
   "source": [
    "result = returns.AAPL.rolling(250).apply(score_at_2percent)\n",
    "result.plot()"
   ]
  },
  {
   "cell_type": "code",
   "execution_count": null,
   "metadata": {},
   "outputs": [],
   "source": []
  }
 ],
 "metadata": {
  "kernelspec": {
   "display_name": "Python 3",
   "language": "python",
   "name": "python3"
  },
  "language_info": {
   "codemirror_mode": {
    "name": "ipython",
    "version": 3
   },
   "file_extension": ".py",
   "mimetype": "text/x-python",
   "name": "python",
   "nbconvert_exporter": "python",
   "pygments_lexer": "ipython3",
   "version": "3.7.3"
  }
 },
 "nbformat": 4,
 "nbformat_minor": 2
}
